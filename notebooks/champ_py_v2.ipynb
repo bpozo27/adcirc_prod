{
 "cells": [
  {
   "cell_type": "markdown",
   "metadata": {},
   "source": [
    "# CHAMP Transects Notebook\n",
    "\n",
    "<img style=\"float:right;\" src=\"https://id.dewberry.com/clients/Templates/DewberryLogo_RGB.png\" width=150px>"
   ]
  },
  {
   "cell_type": "markdown",
   "metadata": {},
   "source": [
    "### Description\n",
    "Read data from Microsoft Access\n",
    "\n",
    "---\n",
    "\n",
    "#### - Requirements\n",
    "  1. whafis_champ library\n",
    "  2. Microsoft Access files\n",
    "  \n",
    "#### - Usage:\n",
    "  1. Import Libraries & Assign Paths\n",
    "  2. Read in data from files:\n",
    "  \n",
    " ---"
   ]
  },
  {
   "cell_type": "markdown",
   "metadata": {},
   "source": [
    "### Import Libraries"
   ]
  },
  {
   "cell_type": "code",
   "execution_count": 1,
   "metadata": {},
   "outputs": [],
   "source": [
    "import pyodbc\n",
    "import pandas as pd\n",
    "import numpy as np\n",
    "from importlib import reload\n",
    "import whafis_champ ; reload(whafis_champ)\n",
    "from whafis_champ import *\n",
    "from matplotlib import pyplot as plt\n",
    "import os\n",
    "%matplotlib inline"
   ]
  },
  {
   "cell_type": "markdown",
   "metadata": {},
   "source": [
    "### Assign Paths"
   ]
  },
  {
   "cell_type": "code",
   "execution_count": 2,
   "metadata": {},
   "outputs": [],
   "source": [
    "root_dir = r'P:\\Temp\\tmiesse\\for_Jeff_transects'\n",
    "mbd      = 'Charlotte_CHAMP.mdb'\n",
    "path     = os.path.join(root_dir,mbd)"
   ]
  },
  {
   "cell_type": "markdown",
   "metadata": {},
   "source": [
    "### Open the Microsoft Access Data"
   ]
  },
  {
   "cell_type": "markdown",
   "metadata": {},
   "source": [
    "#### EROSION"
   ]
  },
  {
   "cell_type": "code",
   "execution_count": 3,
   "metadata": {},
   "outputs": [],
   "source": [
    "select = 'EROSION'\n",
    "dfE = micro_access_open(path,select)\n",
    "dfE.rename(columns={0:'Transect', 1:'Station', 2:'Elevation'}, inplace=True)\n",
    "transects = list(dfE['Transect'].unique() )"
   ]
  },
  {
   "cell_type": "markdown",
   "metadata": {},
   "source": [
    "#### TRANSECT"
   ]
  },
  {
   "cell_type": "code",
   "execution_count": 4,
   "metadata": {},
   "outputs": [],
   "source": [
    "select = 'TRANSECT'\n",
    "dfT2 = micro_access_open(path,select)\n",
    "dfT2.rename(columns={0:'Transect', 1:'Station', 2:'Elevation'}, inplace=True)\n",
    "transects_orig = list(dfT2['Transect'].unique())"
   ]
  },
  {
   "cell_type": "markdown",
   "metadata": {},
   "source": [
    "#### WHAFIS Part 2"
   ]
  },
  {
   "cell_type": "code",
   "execution_count": 5,
   "metadata": {},
   "outputs": [],
   "source": [
    "select = '[WHAFIS PART 2]'\n",
    "dfW2 = micro_access_open(path,select)\n",
    "dfW2.rename(columns={0:'Transect', 1:'WHAFIS_CARD', 2:'Stations',3:'Wave_height',\n",
    "                     4:'Wave_period',5:'Wave_crest_elevation'}, inplace=True)\n",
    "transects_wave = list(dfW2['Transect'].unique())"
   ]
  },
  {
   "cell_type": "markdown",
   "metadata": {},
   "source": [
    "#### STILLWATER"
   ]
  },
  {
   "cell_type": "code",
   "execution_count": 6,
   "metadata": {},
   "outputs": [],
   "source": [
    "select = 'STILLWATER'\n",
    "dfS2 = micro_access_open(path,select)\n",
    "dfS2.rename(columns={0:'Transect', 1:'Station', 2:'10_year_swell',3:'100_year_swell'}, inplace=True)\n",
    "transects_still = list(dfS2['Transect'].unique())"
   ]
  },
  {
   "cell_type": "markdown",
   "metadata": {},
   "source": [
    "#### WHAFIS PART 6"
   ]
  },
  {
   "cell_type": "code",
   "execution_count": 7,
   "metadata": {},
   "outputs": [],
   "source": [
    "select = '[WHAFIS PART 6]'\n",
    "dfZ2 = micro_access_open(path,select)\n",
    "dfZ2.rename(columns={0:'Transect', 1:'Station begin', 2:'elevation begin',3:'station end',4:'elevation end',5:'zone',\n",
    "                    6:'zone elevation',7:'FHF'}, inplace=True)\n",
    "transects_zone = list(dfZ2['Transect'].unique())"
   ]
  },
  {
   "cell_type": "markdown",
   "metadata": {},
   "source": [
    "### Plot Data"
   ]
  },
  {
   "cell_type": "code",
   "execution_count": 8,
   "metadata": {},
   "outputs": [],
   "source": [
    "title = 'Charlotte County - Wave Envelope Profile'"
   ]
  },
  {
   "cell_type": "code",
   "execution_count": 88,
   "metadata": {},
   "outputs": [
    {
     "ename": "KeyError",
     "evalue": "155",
     "output_type": "error",
     "traceback": [
      "\u001b[1;31m---------------------------------------------------------------------------\u001b[0m",
      "\u001b[1;31mKeyError\u001b[0m                                  Traceback (most recent call last)",
      "\u001b[1;32m<ipython-input-88-0ef0ed707b5b>\u001b[0m in \u001b[0;36m<module>\u001b[1;34m()\u001b[0m\n\u001b[0;32m     70\u001b[0m             \u001b[0mz4\u001b[0m\u001b[1;33m=\u001b[0m\u001b[0max\u001b[0m\u001b[1;33m.\u001b[0m\u001b[0mplot\u001b[0m\u001b[1;33m(\u001b[0m\u001b[0msorted_still\u001b[0m\u001b[1;33m[\u001b[0m\u001b[1;34m'Station'\u001b[0m\u001b[1;33m]\u001b[0m\u001b[1;33m,\u001b[0m \u001b[0msorted_still\u001b[0m\u001b[1;33m[\u001b[0m\u001b[1;34m'100_year_swell'\u001b[0m\u001b[1;33m]\u001b[0m\u001b[1;33m,\u001b[0m\u001b[1;34m'-b'\u001b[0m\u001b[1;33m)\u001b[0m\u001b[1;33m\u001b[0m\u001b[0m\n\u001b[0;32m     71\u001b[0m             \u001b[1;32mfor\u001b[0m \u001b[0mi\u001b[0m \u001b[1;32min\u001b[0m \u001b[0mrange\u001b[0m\u001b[1;33m(\u001b[0m\u001b[0msorted_wave\u001b[0m\u001b[1;33m.\u001b[0m\u001b[0mindex\u001b[0m\u001b[1;33m[\u001b[0m\u001b[1;36m0\u001b[0m\u001b[1;33m]\u001b[0m\u001b[1;33m,\u001b[0m\u001b[0msorted_wave\u001b[0m\u001b[1;33m.\u001b[0m\u001b[0mindex\u001b[0m\u001b[1;33m[\u001b[0m\u001b[1;33m-\u001b[0m\u001b[1;36m1\u001b[0m\u001b[1;33m]\u001b[0m\u001b[1;33m)\u001b[0m\u001b[1;33m:\u001b[0m\u001b[1;33m\u001b[0m\u001b[0m\n\u001b[1;32m---> 72\u001b[1;33m                 \u001b[1;32mif\u001b[0m \u001b[0msorted_wave\u001b[0m\u001b[1;33m[\u001b[0m\u001b[1;34m'Wave_height'\u001b[0m\u001b[1;33m]\u001b[0m\u001b[1;33m[\u001b[0m\u001b[0mi\u001b[0m\u001b[1;33m]\u001b[0m \u001b[1;33m>=\u001b[0m\u001b[1;36m3\u001b[0m\u001b[1;33m:\u001b[0m\u001b[1;33m\u001b[0m\u001b[0m\n\u001b[0m\u001b[0;32m     73\u001b[0m                     ax.plot(sorted_wave['Stations'][i],\n\u001b[0;32m     74\u001b[0m                             \u001b[0msorted_wave\u001b[0m\u001b[1;33m[\u001b[0m\u001b[1;34m'Wave_height'\u001b[0m\u001b[1;33m]\u001b[0m\u001b[1;33m[\u001b[0m\u001b[0mi\u001b[0m\u001b[1;33m]\u001b[0m\u001b[1;33m*\u001b[0m\u001b[1;36m0\u001b[0m\u001b[1;33m+\u001b[0m\u001b[1;36m2.75\u001b[0m\u001b[1;33m*\u001b[0m\u001b[0msorted_erosion\u001b[0m\u001b[1;33m[\u001b[0m\u001b[1;34m'Elevation'\u001b[0m\u001b[1;33m]\u001b[0m\u001b[1;33m.\u001b[0m\u001b[0mmax\u001b[0m\u001b[1;33m(\u001b[0m\u001b[1;33m)\u001b[0m\u001b[1;33m,\u001b[0m\u001b[1;33m\u001b[0m\u001b[0m\n",
      "\u001b[1;32m~\\AppData\\Local\\Continuum\\anaconda3\\lib\\site-packages\\pandas\\core\\series.py\u001b[0m in \u001b[0;36m__getitem__\u001b[1;34m(self, key)\u001b[0m\n\u001b[0;32m    764\u001b[0m         \u001b[0mkey\u001b[0m \u001b[1;33m=\u001b[0m \u001b[0mcom\u001b[0m\u001b[1;33m.\u001b[0m\u001b[0m_apply_if_callable\u001b[0m\u001b[1;33m(\u001b[0m\u001b[0mkey\u001b[0m\u001b[1;33m,\u001b[0m \u001b[0mself\u001b[0m\u001b[1;33m)\u001b[0m\u001b[1;33m\u001b[0m\u001b[0m\n\u001b[0;32m    765\u001b[0m         \u001b[1;32mtry\u001b[0m\u001b[1;33m:\u001b[0m\u001b[1;33m\u001b[0m\u001b[0m\n\u001b[1;32m--> 766\u001b[1;33m             \u001b[0mresult\u001b[0m \u001b[1;33m=\u001b[0m \u001b[0mself\u001b[0m\u001b[1;33m.\u001b[0m\u001b[0mindex\u001b[0m\u001b[1;33m.\u001b[0m\u001b[0mget_value\u001b[0m\u001b[1;33m(\u001b[0m\u001b[0mself\u001b[0m\u001b[1;33m,\u001b[0m \u001b[0mkey\u001b[0m\u001b[1;33m)\u001b[0m\u001b[1;33m\u001b[0m\u001b[0m\n\u001b[0m\u001b[0;32m    767\u001b[0m \u001b[1;33m\u001b[0m\u001b[0m\n\u001b[0;32m    768\u001b[0m             \u001b[1;32mif\u001b[0m \u001b[1;32mnot\u001b[0m \u001b[0mis_scalar\u001b[0m\u001b[1;33m(\u001b[0m\u001b[0mresult\u001b[0m\u001b[1;33m)\u001b[0m\u001b[1;33m:\u001b[0m\u001b[1;33m\u001b[0m\u001b[0m\n",
      "\u001b[1;32m~\\AppData\\Local\\Continuum\\anaconda3\\lib\\site-packages\\pandas\\core\\indexes\\base.py\u001b[0m in \u001b[0;36mget_value\u001b[1;34m(self, series, key)\u001b[0m\n\u001b[0;32m   3101\u001b[0m         \u001b[1;32mtry\u001b[0m\u001b[1;33m:\u001b[0m\u001b[1;33m\u001b[0m\u001b[0m\n\u001b[0;32m   3102\u001b[0m             return self._engine.get_value(s, k,\n\u001b[1;32m-> 3103\u001b[1;33m                                           tz=getattr(series.dtype, 'tz', None))\n\u001b[0m\u001b[0;32m   3104\u001b[0m         \u001b[1;32mexcept\u001b[0m \u001b[0mKeyError\u001b[0m \u001b[1;32mas\u001b[0m \u001b[0me1\u001b[0m\u001b[1;33m:\u001b[0m\u001b[1;33m\u001b[0m\u001b[0m\n\u001b[0;32m   3105\u001b[0m             \u001b[1;32mif\u001b[0m \u001b[0mlen\u001b[0m\u001b[1;33m(\u001b[0m\u001b[0mself\u001b[0m\u001b[1;33m)\u001b[0m \u001b[1;33m>\u001b[0m \u001b[1;36m0\u001b[0m \u001b[1;32mand\u001b[0m \u001b[0mself\u001b[0m\u001b[1;33m.\u001b[0m\u001b[0minferred_type\u001b[0m \u001b[1;32min\u001b[0m \u001b[1;33m[\u001b[0m\u001b[1;34m'integer'\u001b[0m\u001b[1;33m,\u001b[0m \u001b[1;34m'boolean'\u001b[0m\u001b[1;33m]\u001b[0m\u001b[1;33m:\u001b[0m\u001b[1;33m\u001b[0m\u001b[0m\n",
      "\u001b[1;32mpandas\\_libs\\index.pyx\u001b[0m in \u001b[0;36mpandas._libs.index.IndexEngine.get_value\u001b[1;34m()\u001b[0m\n",
      "\u001b[1;32mpandas\\_libs\\index.pyx\u001b[0m in \u001b[0;36mpandas._libs.index.IndexEngine.get_value\u001b[1;34m()\u001b[0m\n",
      "\u001b[1;32mpandas\\_libs\\index.pyx\u001b[0m in \u001b[0;36mpandas._libs.index.IndexEngine.get_loc\u001b[1;34m()\u001b[0m\n",
      "\u001b[1;32mpandas\\_libs\\hashtable_class_helper.pxi\u001b[0m in \u001b[0;36mpandas._libs.hashtable.Int64HashTable.get_item\u001b[1;34m()\u001b[0m\n",
      "\u001b[1;32mpandas\\_libs\\hashtable_class_helper.pxi\u001b[0m in \u001b[0;36mpandas._libs.hashtable.Int64HashTable.get_item\u001b[1;34m()\u001b[0m\n",
      "\u001b[1;31mKeyError\u001b[0m: 155"
     ]
    },
    {
     "data": {
      "image/png": "[encoded data removed]",
      "text/plain": [
       "<Figure size 1296x720 with 1 Axes>"
      ]
     },
     "metadata": {},
     "output_type": "display_data"
    }
   ],
   "source": [
    "\n",
    "for t in transects[1:20]:\n",
    "    erosion_profile = dfE[dfE['Transect'] == t]\n",
    "    sorted_erosion = erosion_profile.sort_values(by='Station')\n",
    "    original_profile = dfT2[dfT2['Transect'] == t]\n",
    "    sorted_original = original_profile.sort_values(by='Station')\n",
    "    zone_profile = dfZ2[dfZ2['Transect'] == t]\n",
    "    sorted_zone = zone_profile.sort_values(by='Station begin')\n",
    "    change = pd.merge(sorted_original,sorted_erosion,how='outer',indicator='Exist')\n",
    "    change = change.loc[change['Exist'] != 'both']\n",
    "    if t in transects_wave:\n",
    "        if len(change)>1:\n",
    "            fig = plt.figure(figsize=(18,10))\n",
    "            ax1 = plt.axes([0,0.7,1,0.3])\n",
    "            ax2 = plt.axes([0,0,1,0.6])\n",
    "            ax1.plot(sorted_erosion['Station'], sorted_erosion['Elevation'],'k')\n",
    "            ax1.plot(sorted_original['Station'],sorted_original['Elevation'],'--k')\n",
    "            ax2.plot(sorted_original['Station'],sorted_original['Elevation'],'k')\n",
    "            wave_profile = dfW2[dfW2['Transect'] == t]\n",
    "            sorted_wave = wave_profile.sort_values(by='Stations')\n",
    "            ax2.plot(sorted_wave['Stations'], sorted_wave['Wave_crest_elevation'],'-m')\n",
    "            ax2.plot(sorted_wave['Stations'], sorted_wave['Wave_height'],'-c')\n",
    "            still_profile = dfS2[dfS2['Transect'] == t]\n",
    "            sorted_still = still_profile.sort_values(by='Station')\n",
    "            ax2.plot(sorted_still['Station'], sorted_still['100_year_swell'],'-b')\n",
    "\n",
    "            ax2.plot(sorted_zone[sorted_zone['zone'].str.match('V')]['Station begin'],\n",
    "                    sorted_zone[sorted_zone['zone'].str.match('V')]['elevation begin']*0+\n",
    "                    2.75*sorted_erosion['Elevation'].max(),'-g',linewidth=3.0)            \n",
    " \n",
    "            ax2.plot(sorted_zone[sorted_zone['zone'].str.match('A')]['Station begin'],\n",
    "                     sorted_zone[sorted_zone['zone'].str.match('A')]['elevation begin']*0+\n",
    "                    2.75*sorted_erosion['Elevation'].max(),'r',linewidth=3.0)\n",
    "\n",
    "            ax2.plot(sorted_zone[sorted_zone['zone'].str.match('X')]['Station begin'],\n",
    "                     sorted_zone[sorted_zone['zone'].str.match('X')]['elevation begin']*0+\n",
    "                    2.75*sorted_erosion['Elevation'].max(),'grey',linewidth=3.0)\n",
    "\n",
    "            ax2.legend(['*Terrain','Wave Crest','**Controlling Wave Height','1% Total SWEL','VE Zone','AE Zone','X Zone'],\n",
    "                      loc='upper center',bbox_to_anchor=(0.5,-0.15),ncol=7)\n",
    "            ax2.plot(sorted_zone[sorted_zone['zone'].str.match('V')]['station end'],\n",
    "                    sorted_zone[sorted_zone['zone'].str.match('V')]['elevation begin']*0+\n",
    "                    2.75*sorted_erosion['Elevation'].max(),'-g',linewidth=3.0)\n",
    "            ax2.plot(sorted_zone[sorted_zone['zone'].str.match('A')]['station end'],\n",
    "                     sorted_zone[sorted_zone['zone'].str.match('A')]['elevation begin']*0+\n",
    "                    2.75*sorted_erosion['Elevation'].max(),'r',linewidth=3.0)\n",
    "            ax2.plot(sorted_zone[sorted_zone['zone'].str.match('X')]['station end'],\n",
    "                     sorted_zone[sorted_zone['zone'].str.match('X')]['elevation end']*0+\n",
    "                    2.75*sorted_erosion['Elevation'].max(),'grey',linewidth=3.0) \n",
    "            \n",
    "            ax1.set_xlim(0, .55*sorted_erosion['Station'].max())\n",
    "            ax1.set_ylim(sorted_erosion['Elevation'].min(), 2.5*sorted_erosion['Elevation'].max())\n",
    "            ax1.set_xlabel('Station (feet)')\n",
    "            ax1.set_ylabel('Elevation (feet NAVD88)')\n",
    "            ax1.set_title(title+': at Transect {}'.format(t))\n",
    "            ax2.set_xlim(-50, sorted_erosion['Station'].max())\n",
    "            ax2.set_ylim(1.1*sorted_erosion['Elevation'].min(), 3.25*sorted_erosion['Elevation'].max())\n",
    "            ax2.set_xlabel('Station (feet)')\n",
    "            ax2.set_ylabel('Elevation (feet NAVD88)')\n",
    "\n",
    "        else:\n",
    "            fig, ax = plt.subplots(figsize=(18,10))\n",
    "            z1=ax.plot(sorted_original['Station'],sorted_original['Elevation'],'k')\n",
    "            wave_profile = dfW2[dfW2['Transect'] == t]\n",
    "            sorted_wave = wave_profile.sort_values(by='Stations')\n",
    "            z2=ax.plot(sorted_wave['Stations'], sorted_wave['Wave_crest_elevation'],'-m')\n",
    "            z3=ax.plot(sorted_wave['Stations'], sorted_wave['Wave_height'],'-c')\n",
    "            still_profile = dfS2[dfS2['Transect'] == t]\n",
    "            sorted_still = still_profile.sort_values(by='Station')\n",
    "            z4=ax.plot(sorted_still['Station'], sorted_still['100_year_swell'],'-b')\n",
    "            for i in range(sorted_wave.index[0],sorted_wave.index[-1]):\n",
    "                if sorted_wave['Wave_height'][i] >=3:\n",
    "                    ax.plot(sorted_wave['Stations'][i],\n",
    "                            sorted_wave['Wave_height'][i]*0+2.75*sorted_erosion['Elevation'].max(),\n",
    "                            '-og',linewidth=3.0)\n",
    "            \n",
    "            #z5=ax.plot(sorted_zone[sorted_zone['zone'].str.match('V')]['Station begin'],\n",
    "             #       sorted_zone[sorted_zone['zone'].str.match('V')]['elevation begin']*0+\n",
    "             #       2.75*sorted_erosion['Elevation'].max(),'-g',linewidth=3.0,zorder=5)            \n",
    "  \n",
    "            #z6=ax.plot(sorted_zone[sorted_zone['zone'].str.match('A')]['Station begin'],\n",
    "            #         sorted_zone[sorted_zone['zone'].str.match('A')]['elevation begin']*0+\n",
    "            #        2.75*sorted_erosion['Elevation'].max(),'r',linewidth=3.0,zorder=4)\n",
    "\n",
    "            #z7=ax.plot(sorted_zone[sorted_zone['zone'].str.match('X')]['Station begin'],\n",
    "            #         sorted_zone[sorted_zone['zone'].str.match('X')]['elevation begin']*0+\n",
    "            #        2.75*sorted_erosion['Elevation'].max(),'grey',linewidth=3.0,zorder=3)        \n",
    "\n",
    "            ax.legend(['*Terrain','Wave Crest','**Controlling Wave Height','1% Total SWEL','VE Zone','AE Zone','X Zone'],\n",
    "                      loc='upper center',bbox_to_anchor=(0.5,-0.15),ncol=7)\n",
    "            #ax.plot(sorted_zone[sorted_zone['zone'].str.match('V')]['station end'],\n",
    "            #        sorted_zone[sorted_zone['zone'].str.match('V')]['elevation begin']*0+\n",
    "            #        2.75*sorted_erosion['Elevation'].max(),'-g',linewidth=3.0,zorder=5)\n",
    "            #ax.plot(sorted_zone[sorted_zone['zone'].str.match('A')]['station end'],\n",
    "            #         sorted_zone[sorted_zone['zone'].str.match('A')]['elevation begin']*0+\n",
    "            #        2.75*sorted_erosion['Elevation'].max(),'r',linewidth=3.0,zorder=4)\n",
    "            #ax.plot(sorted_zone[sorted_zone['zone'].str.match('X')]['station end'],\n",
    "            #         sorted_zone[sorted_zone['zone'].str.match('X')]['elevation end']*0+\n",
    "            #        2.75*sorted_erosion['Elevation'].max(),'grey',linewidth=3.0,zorder=3) \n",
    "                        \n",
    "            ax.set_xlim(-50, sorted_erosion['Station'].max())\n",
    "            ax.set_ylim(1.1*sorted_erosion['Elevation'].min(), 3.25*sorted_erosion['Elevation'].max())\n",
    "            ax.set_xlabel('Station (feet)')\n",
    "            ax.set_ylabel('Elevation (feet NAVD88)')\n",
    "            ax.set_title(title+': at Transect {}'.format(t))\n",
    "    #else:\n",
    "     #   ax3 = plt.axes([0,0,1,1])\n",
    "     #   ax3.plot(sorted_erosion['Station'], sorted_erosion['Elevation'],'k')\n",
    "     #   ax3.plot(original_profile['Station'],original_profile['Elevation'],'--k')        \n",
    "     #   ax3.set_xlim(-50, sorted_erosion['Station'].max())\n",
    "     #   ax3.set_ylim(1.1*sorted_erosion['Elevation'].min(), 1.5*sorted_erosion['Elevation'].max())\n",
    "     #   ax3.set_xlabel('Station (feet)')\n",
    "     #   ax3.set_ylabel('Elevation (feet NAVD88)')\n",
    "     #   ax3.set_title(title+': at Transect {}'.format(t))\n",
    "     #   ax3.legend(['Erosion','Terrain'],loc='upper center',bbox_to_anchor=(0.5,-0.1),ncol=2)\n",
    "    #ax.axvline(0, color = 'black')\n",
    "\n",
    "    \n",
    "    plt.grid(True)\n",
    "    #plt.savefig(path+'{}.png'.format(t),dpi=300, bbox_inches = 'tight', pad_inches = 0.1)\n",
    "    #plt.close() "
   ]
  },
  {
   "cell_type": "code",
   "execution_count": null,
   "metadata": {},
   "outputs": [],
   "source": []
  },
  {
   "cell_type": "code",
   "execution_count": null,
   "metadata": {},
   "outputs": [],
   "source": []
  }
 ],
 "metadata": {
  "kernelspec": {
   "display_name": "Python 3",
   "language": "python",
   "name": "python3"
  },
  "language_info": {
   "codemirror_mode": {
    "name": "ipython",
    "version": 3
   },
   "file_extension": ".py",
   "mimetype": "text/x-python",
   "name": "python",
   "nbconvert_exporter": "python",
   "pygments_lexer": "ipython3",
   "version": "3.6.5"
  }
 },
 "nbformat": 4,
 "nbformat_minor": 2
}
