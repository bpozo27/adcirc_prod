{
 "cells": [
  {
   "cell_type": "markdown",
   "metadata": {},
   "source": [
    "# Tidal and Potential Constitutes Notebook\n",
    "<img style=\"float:right;\" src=\"https://id.dewberry.com/clients/Templates/DewberryLogo_RGB.png\" width=150px>\n",
    "\n",
    "### Create Tidal and Harmonics for fort.15\n",
    "#### - Steps to follow:\n",
    "  1. Import Libraries & Assign Paths\n",
    "  2. Assign Tasks\n",
    "  3. Save Report"
   ]
  },
  {
   "cell_type": "markdown",
   "metadata": {},
   "source": [
    "### Import Libraries"
   ]
  },
  {
   "cell_type": "code",
   "execution_count": 13,
   "metadata": {},
   "outputs": [],
   "source": [
    "import pandas as pd\n",
    "import numpy as np\n",
    "import os\n",
    "import oct2py\n",
    "from oct2py import octave\n",
    "import matplotlib.pyplot as plt"
   ]
  },
  {
   "cell_type": "markdown",
   "metadata": {},
   "source": [
    "### Given Tidal Constituents"
   ]
  },
  {
   "cell_type": "code",
   "execution_count": 2,
   "metadata": {},
   "outputs": [],
   "source": [
    "m2 = [1.0283,109.78]\n",
    "s2 = [1.000 ,0.00]\n",
    "n2 = [1.0283,241]\n",
    "k2 = [0.8092,7.46]\n",
    "k1 = [0.9193,273.31]\n",
    "o1 = [0.8683,199.93]\n",
    "p1 = [1.00,80.08]\n",
    "q1 = [0.8683,331.14]"
   ]
  },
  {
   "cell_type": "markdown",
   "metadata": {},
   "source": [
    "### Given Time Period"
   ]
  },
  {
   "cell_type": "code",
   "execution_count": 3,
   "metadata": {},
   "outputs": [],
   "source": [
    "time_period = ['2017-10-1 00:00:00','2018-02-01 00:00:00']"
   ]
  },
  {
   "cell_type": "markdown",
   "metadata": {},
   "source": [
    "### Read in New Tidal Constituents\n",
    "- after calculation compare to given"
   ]
  },
  {
   "cell_type": "code",
   "execution_count": 4,
   "metadata": {},
   "outputs": [],
   "source": [
    "root_dir = r'N:\\TECH\\COASTAL\\NC_STORM_SURGE_MODELING_UPDATE\\SurgeModeling\\tidal_test\\final_setup\\tidal_v3\\ADCIRC\\Mesh'\n",
    "f15 = os.path.join(root_dir,'fort_afterTM.15')"
   ]
  },
  {
   "cell_type": "code",
   "execution_count": null,
   "metadata": {},
   "outputs": [],
   "source": [
    "def find_columns(data):\n",
    "    data2 = []\n",
    "    for f in data.split(' '):\n",
    "        if f != '':\n",
    "            data2.append(f)   \n",
    "    return data2"
   ]
  },
  {
   "cell_type": "code",
   "execution_count": null,
   "metadata": {},
   "outputs": [],
   "source": [
    "content,descr,var = [], [],[]\n",
    "with open(f15, 'r') as fin:\n",
    "    lines = fin.readlines()\n",
    "    for line in lines:\n",
    "        if '!' in line:\n",
    "            data = line.split('!')\n",
    "            var.append(data[0].strip())\n",
    "            param= data[1].split('-')[0].replace('\\n','')\n",
    "            descr.append(param)\n",
    "#content = np.reshape(var,(1,len(var)))\n",
    "table = pd.DataFrame(var,columns=descr)"
   ]
  },
  {
   "cell_type": "code",
   "execution_count": 12,
   "metadata": {},
   "outputs": [],
   "source": [
    "m2tm = [1.03,109.880]\n",
    "s2tm = [1.000 ,0.00]\n",
    "n2tm = [1.03,241.095]\n",
    "k2tm = [0.80,8.258]\n",
    "k1tm = [0.914,273.706]\n",
    "o1tm = [0.860,199.445]\n",
    "p1tm = [1.00,80.076]\n",
    "q1tm = [0.86,330.67]"
   ]
  },
  {
   "cell_type": "code",
   "execution_count": null,
   "metadata": {},
   "outputs": [],
   "source": []
  },
  {
   "cell_type": "code",
   "execution_count": null,
   "metadata": {},
   "outputs": [],
   "source": []
  },
  {
   "cell_type": "code",
   "execution_count": null,
   "metadata": {},
   "outputs": [],
   "source": []
  },
  {
   "cell_type": "code",
   "execution_count": null,
   "metadata": {},
   "outputs": [],
   "source": []
  },
  {
   "cell_type": "code",
   "execution_count": null,
   "metadata": {},
   "outputs": [],
   "source": []
  },
  {
   "cell_type": "code",
   "execution_count": null,
   "metadata": {},
   "outputs": [],
   "source": []
  }
 ],
 "metadata": {
  "kernelspec": {
   "display_name": "Python [conda env:anaconda3]",
   "language": "python",
   "name": "conda-env-anaconda3-py"
  },
  "language_info": {
   "codemirror_mode": {
    "name": "ipython",
    "version": 3
   },
   "file_extension": ".py",
   "mimetype": "text/x-python",
   "name": "python",
   "nbconvert_exporter": "python",
   "pygments_lexer": "ipython3",
   "version": "3.6.5"
  }
 },
 "nbformat": 4,
 "nbformat_minor": 2
}
