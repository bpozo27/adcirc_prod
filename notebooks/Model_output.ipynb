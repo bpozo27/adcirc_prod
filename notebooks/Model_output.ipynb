{
 "cells": [
  {
   "cell_type": "markdown",
   "metadata": {},
   "source": [
    "# Model Output Notebook\n",
    "<img style=\"float:right;\" src=\"https://id.dewberry.com/clients/Templates/DewberryLogo_RGB.png\" width=150px>\n",
    "\n",
    "### ADCIRC-SWAN Ouput\n",
    "#### - Steps to follow:\n",
    "  1. Import Libraries & Assign Paths\n",
    "  2. Assign Tasks\n",
    "  3. Save Report"
   ]
  },
  {
   "cell_type": "markdown",
   "metadata": {},
   "source": [
    "#### 1. Import Libraries and paths"
   ]
  },
  {
   "cell_type": "code",
   "execution_count": 1,
   "metadata": {},
   "outputs": [
    {
     "data": {
      "text/html": [
       "<script>requirejs.config({paths: { 'plotly': ['https://cdn.plot.ly/plotly-latest.min']},});if(!window.Plotly) {{require(['plotly'],function(plotly) {window.Plotly=plotly;});}}</script>"
      ],
      "text/vnd.plotly.v1+html": [
       "<script>requirejs.config({paths: { 'plotly': ['https://cdn.plot.ly/plotly-latest.min']},});if(!window.Plotly) {{require(['plotly'],function(plotly) {window.Plotly=plotly;});}}</script>"
      ]
     },
     "metadata": {},
     "output_type": "display_data"
    },
    {
     "data": {
      "text/html": [
       "<script>requirejs.config({paths: { 'plotly': ['https://cdn.plot.ly/plotly-latest.min']},});if(!window.Plotly) {{require(['plotly'],function(plotly) {window.Plotly=plotly;});}}</script>"
      ],
      "text/vnd.plotly.v1+html": [
       "<script>requirejs.config({paths: { 'plotly': ['https://cdn.plot.ly/plotly-latest.min']},});if(!window.Plotly) {{require(['plotly'],function(plotly) {window.Plotly=plotly;});}}</script>"
      ]
     },
     "metadata": {},
     "output_type": "display_data"
    }
   ],
   "source": [
    "from mpl_toolkits.basemap import Basemap\n",
    "import matplotlib.pyplot as plt\n",
    "import numpy as np\n",
    "import netCDF4 as nc4\n",
    "import matplotlib.tri as tri\n",
    "import os\n",
    "from adcirc import adcirc\n",
    "from PIL import *\n",
    "from IPython.display import HTML\n",
    "import warnings\n",
    "warnings.filterwarnings(\"ignore\")"
   ]
  },
  {
   "cell_type": "code",
   "execution_count": 2,
   "metadata": {},
   "outputs": [],
   "source": [
    "root_dir = r'C:\\Users\\tmiesse\\Work\\output'\n",
    "url = os.path.join(root_dir,'fort.63.nc')\n",
    "f64 = os.path.join(root_dir,'fort.64.nc')"
   ]
  },
  {
   "cell_type": "markdown",
   "metadata": {},
   "source": [
    "### 2. Tasks"
   ]
  },
  {
   "cell_type": "markdown",
   "metadata": {},
   "source": [
    "#### a. Plot global water level"
   ]
  },
  {
   "cell_type": "code",
   "execution_count": 4,
   "metadata": {},
   "outputs": [
    {
     "data": {
      "text/html": [
       "<img width=\"800\" height=\"600\" src=\"WaterLevel.gif\" frameborder=\"0\" allowfullscreen></img>"
      ],
      "text/plain": [
       "<IPython.core.display.HTML object>"
      ]
     },
     "execution_count": 4,
     "metadata": {},
     "output_type": "execute_result"
    }
   ],
   "source": [
    "title = 'Water Level'\n",
    "lat1,lat2 = 34.05, 35.15\n",
    "lon1,lon2 = -78, -76\n",
    "file1 = nc4.Dataset(url)\n",
    "hours = 60\n",
    "levels = np.arange(-1, 1, 0.1)\n",
    "adcirc.global_vid(root_dir,file1,title,hours,levels,lon1,lon2,lat1,lat2)\n",
    "Image(os.path.join(root_dir,'Waterlevel.gif'))\n",
    "HTML('<img width=\"800\" height=\"600\" src=\"WaterLevel.gif\" frameborder=\"0\" allowfullscreen></img>')"
   ]
  },
  {
   "cell_type": "markdown",
   "metadata": {},
   "source": [
    "#### a. Plot global velocity"
   ]
  },
  {
   "cell_type": "code",
   "execution_count": 3,
   "metadata": {},
   "outputs": [
    {
     "data": {
      "text/html": [
       "<img width=\"800\" height=\"600\" src=\"GlobalVelocity.gif\" frameborder=\"0\" allowfullscreen></img>"
      ],
      "text/plain": [
       "<IPython.core.display.HTML object>"
      ]
     },
     "execution_count": 3,
     "metadata": {},
     "output_type": "execute_result"
    }
   ],
   "source": [
    "title = 'Global Velocity'\n",
    "lat1,lat2 = 34.05, 35.15\n",
    "lon1,lon2 = -78, -76\n",
    "file2 = nc4.Dataset(f64)\n",
    "hours,g_type = 60, 'velocity'\n",
    "levels = np.arange(-1, 1, 0.1)\n",
    "adcirc.global_vid(root_dir,file2,title,hours,levels,lon1,lon2,lat1,lat2,g_type)\n",
    "\n",
    "HTML('<img width=\"800\" height=\"600\" src=\"GlobalVelocity.gif\" frameborder=\"0\" allowfullscreen></img>')"
   ]
  },
  {
   "cell_type": "code",
   "execution_count": null,
   "metadata": {},
   "outputs": [],
   "source": []
  }
 ],
 "metadata": {
  "kernelspec": {
   "display_name": "Python [conda root]",
   "language": "python",
   "name": "conda-root-py"
  },
  "language_info": {
   "codemirror_mode": {
    "name": "ipython",
    "version": 3
   },
   "file_extension": ".py",
   "mimetype": "text/x-python",
   "name": "python",
   "nbconvert_exporter": "python",
   "pygments_lexer": "ipython3",
   "version": "3.6.5"
  }
 },
 "nbformat": 4,
 "nbformat_minor": 2
}
