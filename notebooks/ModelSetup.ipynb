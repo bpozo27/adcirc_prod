{
 "cells": [
  {
   "cell_type": "markdown",
   "metadata": {},
   "source": [
    "# Model Set-up Notebook  \n",
    "<img style=\"float:right;\" src=\"https://id.dewberry.com/clients/Templates/DewberryLogo_RGB.png\" width=150px>\n",
    "\n",
    "### ADCIRC-SWAN Model Setup \n",
    "\n",
    "*NOTE*: This Notebook was developed to work directly on Stampede2"
   ]
  },
  {
   "cell_type": "markdown",
   "metadata": {},
   "source": [
    "### Requirements\n",
    " - Path to fort.15 template\n",
    " - Path to fort.13 and fort.14\n",
    " - Dewberry's custom python library for adcirc applications\n",
    " - Path for the model\n",
    "\n",
    "### Steps\n",
    " 1. Initialize Libraries and Paths\n",
    " 2. Assign Tasks\n",
    " 4. Print files to model directory"
   ]
  },
  {
   "cell_type": "markdown",
   "metadata": {},
   "source": [
    "### 1. Initialize Libraries and Paths"
   ]
  },
  {
   "cell_type": "code",
   "execution_count": null,
   "metadata": {},
   "outputs": [],
   "source": [
    "from ipywidgets import *\n",
    "import matplotlib.pyplot as plt # Import the Matplotlib package\n",
    "from adcirc import adcirc\n",
    "import os\n",
    "import pandas as pd\n",
    "import netCDF4 as nc4\n",
    "from datetime import datetime\n",
    "root_15  = r'C:\\Users\\tmiesse\\Work\\fort15_templates'\n",
    "root_dir = r'C:\\Users\\tmiesse\\Work\\test'"
   ]
  },
  {
   "cell_type": "markdown",
   "metadata": {},
   "source": [
    "### 2. Tasks"
   ]
  },
  {
   "cell_type": "code",
   "execution_count": null,
   "metadata": {},
   "outputs": [],
   "source": []
  },
  {
   "cell_type": "code",
   "execution_count": null,
   "metadata": {},
   "outputs": [],
   "source": []
  },
  {
   "cell_type": "code",
   "execution_count": null,
   "metadata": {},
   "outputs": [],
   "source": []
  },
  {
   "cell_type": "code",
   "execution_count": null,
   "metadata": {},
   "outputs": [],
   "source": []
  },
  {
   "cell_type": "code",
   "execution_count": null,
   "metadata": {},
   "outputs": [],
   "source": []
  },
  {
   "cell_type": "code",
   "execution_count": null,
   "metadata": {},
   "outputs": [],
   "source": []
  },
  {
   "cell_type": "code",
   "execution_count": null,
   "metadata": {},
   "outputs": [],
   "source": []
  },
  {
   "cell_type": "markdown",
   "metadata": {},
   "source": [
    "### 3. Export Completed Files"
   ]
  },
  {
   "cell_type": "markdown",
   "metadata": {},
   "source": [
    "## End"
   ]
  }
 ],
 "metadata": {
  "kernelspec": {
   "display_name": "Python 3",
   "language": "python",
   "name": "python3"
  },
  "language_info": {
   "codemirror_mode": {
    "name": "ipython",
    "version": 3
   },
   "file_extension": ".py",
   "mimetype": "text/x-python",
   "name": "python",
   "nbconvert_exporter": "python",
   "pygments_lexer": "ipython3",
   "version": "3.6.5"
  }
 },
 "nbformat": 4,
 "nbformat_minor": 2
}
