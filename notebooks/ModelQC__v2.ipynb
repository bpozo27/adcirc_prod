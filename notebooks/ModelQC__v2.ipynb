{
 "cells": [
  {
   "cell_type": "markdown",
   "metadata": {},
   "source": [
    "# Model QC Notebook\n",
    "\n",
    "<img style=\"float:right;\" src=\"https://id.dewberry.com/clients/Templates/DewberryLogo_RGB.png\" width=150px>"
   ]
  },
  {
   "cell_type": "markdown",
   "metadata": {},
   "source": [
    "### Description\n",
    "#### - What is needed to use this notebook\n",
    "  1. adcirc library\n",
    "  \n",
    "#### - Steps to follow:\n",
    "  1. Import Libraries & Assign Paths\n",
    "  2. Assign Tasks\n",
    "  3. Save Report"
   ]
  },
  {
   "cell_type": "markdown",
   "metadata": {},
   "source": [
    "### 1. Import Libraries, Assign Paths, & Variables"
   ]
  },
  {
   "cell_type": "code",
   "execution_count": 1,
   "metadata": {},
   "outputs": [],
   "source": [
    "%matplotlib inline"
   ]
  },
  {
   "cell_type": "code",
   "execution_count": 2,
   "metadata": {},
   "outputs": [
    {
     "name": "stderr",
     "output_type": "stream",
     "text": [
      "/home1/04952/tmiesse/anaconda3/lib/python3.6/site-packages/ipykernel_launcher.py:3: UserWarning: \n",
      "This call to matplotlib.use() has no effect because the backend has already\n",
      "been chosen; matplotlib.use() must be called *before* pylab, matplotlib.pyplot,\n",
      "or matplotlib.backends is imported for the first time.\n",
      "\n",
      "The backend was *originally* set to 'module://ipykernel.pylab.backend_inline' by the following code:\n",
      "  File \"/home1/04952/tmiesse/anaconda3/lib/python3.6/runpy.py\", line 193, in _run_module_as_main\n",
      "    \"__main__\", mod_spec)\n",
      "  File \"/home1/04952/tmiesse/anaconda3/lib/python3.6/runpy.py\", line 85, in _run_code\n",
      "    exec(code, run_globals)\n",
      "  File \"/home1/04952/tmiesse/anaconda3/lib/python3.6/site-packages/ipykernel_launcher.py\", line 16, in <module>\n",
      "    app.launch_new_instance()\n",
      "  File \"/home1/04952/tmiesse/anaconda3/lib/python3.6/site-packages/traitlets/config/application.py\", line 658, in launch_instance\n",
      "    app.start()\n",
      "  File \"/home1/04952/tmiesse/anaconda3/lib/python3.6/site-packages/ipykernel/kernelapp.py\", line 486, in start\n",
      "    self.io_loop.start()\n",
      "  File \"/home1/04952/tmiesse/anaconda3/lib/python3.6/site-packages/tornado/platform/asyncio.py\", line 127, in start\n",
      "    self.asyncio_loop.run_forever()\n",
      "  File \"/home1/04952/tmiesse/anaconda3/lib/python3.6/asyncio/base_events.py\", line 422, in run_forever\n",
      "    self._run_once()\n",
      "  File \"/home1/04952/tmiesse/anaconda3/lib/python3.6/asyncio/base_events.py\", line 1432, in _run_once\n",
      "    handle._run()\n",
      "  File \"/home1/04952/tmiesse/anaconda3/lib/python3.6/asyncio/events.py\", line 145, in _run\n",
      "    self._callback(*self._args)\n",
      "  File \"/home1/04952/tmiesse/anaconda3/lib/python3.6/site-packages/tornado/platform/asyncio.py\", line 117, in _handle_events\n",
      "    handler_func(fileobj, events)\n",
      "  File \"/home1/04952/tmiesse/anaconda3/lib/python3.6/site-packages/tornado/stack_context.py\", line 276, in null_wrapper\n",
      "    return fn(*args, **kwargs)\n",
      "  File \"/home1/04952/tmiesse/anaconda3/lib/python3.6/site-packages/zmq/eventloop/zmqstream.py\", line 450, in _handle_events\n",
      "    self._handle_recv()\n",
      "  File \"/home1/04952/tmiesse/anaconda3/lib/python3.6/site-packages/zmq/eventloop/zmqstream.py\", line 480, in _handle_recv\n",
      "    self._run_callback(callback, msg)\n",
      "  File \"/home1/04952/tmiesse/anaconda3/lib/python3.6/site-packages/zmq/eventloop/zmqstream.py\", line 432, in _run_callback\n",
      "    callback(*args, **kwargs)\n",
      "  File \"/home1/04952/tmiesse/anaconda3/lib/python3.6/site-packages/tornado/stack_context.py\", line 276, in null_wrapper\n",
      "    return fn(*args, **kwargs)\n",
      "  File \"/home1/04952/tmiesse/anaconda3/lib/python3.6/site-packages/ipykernel/kernelbase.py\", line 283, in dispatcher\n",
      "    return self.dispatch_shell(stream, msg)\n",
      "  File \"/home1/04952/tmiesse/anaconda3/lib/python3.6/site-packages/ipykernel/kernelbase.py\", line 233, in dispatch_shell\n",
      "    handler(stream, idents, msg)\n",
      "  File \"/home1/04952/tmiesse/anaconda3/lib/python3.6/site-packages/ipykernel/kernelbase.py\", line 399, in execute_request\n",
      "    user_expressions, allow_stdin)\n",
      "  File \"/home1/04952/tmiesse/anaconda3/lib/python3.6/site-packages/ipykernel/ipkernel.py\", line 208, in do_execute\n",
      "    res = shell.run_cell(code, store_history=store_history, silent=silent)\n",
      "  File \"/home1/04952/tmiesse/anaconda3/lib/python3.6/site-packages/ipykernel/zmqshell.py\", line 537, in run_cell\n",
      "    return super(ZMQInteractiveShell, self).run_cell(*args, **kwargs)\n",
      "  File \"/home1/04952/tmiesse/anaconda3/lib/python3.6/site-packages/IPython/core/interactiveshell.py\", line 2666, in run_cell\n",
      "    self.events.trigger('post_run_cell', result)\n",
      "  File \"/home1/04952/tmiesse/anaconda3/lib/python3.6/site-packages/IPython/core/events.py\", line 88, in trigger\n",
      "    func(*args, **kwargs)\n",
      "  File \"/home1/04952/tmiesse/anaconda3/lib/python3.6/site-packages/ipykernel/pylab/backend_inline.py\", line 160, in configure_once\n",
      "    activate_matplotlib(backend)\n",
      "  File \"/home1/04952/tmiesse/anaconda3/lib/python3.6/site-packages/IPython/core/pylabtools.py\", line 311, in activate_matplotlib\n",
      "    matplotlib.pyplot.switch_backend(backend)\n",
      "  File \"/home1/04952/tmiesse/anaconda3/lib/python3.6/site-packages/matplotlib/pyplot.py\", line 231, in switch_backend\n",
      "    matplotlib.use(newbackend, warn=False, force=True)\n",
      "  File \"/home1/04952/tmiesse/anaconda3/lib/python3.6/site-packages/matplotlib/__init__.py\", line 1410, in use\n",
      "    reload(sys.modules['matplotlib.backends'])\n",
      "  File \"/home1/04952/tmiesse/anaconda3/lib/python3.6/importlib/__init__.py\", line 166, in reload\n",
      "    _bootstrap._exec(spec, module)\n",
      "  File \"/home1/04952/tmiesse/anaconda3/lib/python3.6/site-packages/matplotlib/backends/__init__.py\", line 16, in <module>\n",
      "    line for line in traceback.format_stack()\n",
      "\n",
      "\n",
      "  This is separate from the ipykernel package so we can avoid doing imports until\n"
     ]
    },
    {
     "data": {
      "text/html": [
       "<script>requirejs.config({paths: { 'plotly': ['https://cdn.plot.ly/plotly-latest.min']},});if(!window.Plotly) {{require(['plotly'],function(plotly) {window.Plotly=plotly;});}}</script>"
      ],
      "text/vnd.plotly.v1+html": [
       "<script>requirejs.config({paths: { 'plotly': ['https://cdn.plot.ly/plotly-latest.min']},});if(!window.Plotly) {{require(['plotly'],function(plotly) {window.Plotly=plotly;});}}</script>"
      ]
     },
     "metadata": {},
     "output_type": "display_data"
    },
    {
     "data": {
      "text/html": [
       "<script>requirejs.config({paths: { 'plotly': ['https://cdn.plot.ly/plotly-latest.min']},});if(!window.Plotly) {{require(['plotly'],function(plotly) {window.Plotly=plotly;});}}</script>"
      ],
      "text/vnd.plotly.v1+html": [
       "<script>requirejs.config({paths: { 'plotly': ['https://cdn.plot.ly/plotly-latest.min']},});if(!window.Plotly) {{require(['plotly'],function(plotly) {window.Plotly=plotly;});}}</script>"
      ]
     },
     "metadata": {},
     "output_type": "display_data"
    }
   ],
   "source": [
    "from ipywidgets import *\n",
    "import matplotlib as mpl\n",
    "mpl.use('Agg')\n",
    "import matplotlib.pyplot as plt # Import the Matplotlib package\n",
    "import numpy.core.multiarray \n",
    "from mpl_toolkits.basemap import Basemap\n",
    "import numpy as np\n",
    "from scipy.interpolate import griddata\n",
    "import warnings\n",
    "import matplotlib.cbook\n",
    "warnings.filterwarnings(\"ignore\",category=matplotlib.cbook.mplDeprecation)\n",
    "import matplotlib.tri as tri\n",
    "from adcirc import adcirc\n",
    "import os\n",
    "import pandas as pd"
   ]
  },
  {
   "cell_type": "code",
   "execution_count": 3,
   "metadata": {},
   "outputs": [],
   "source": [
    "root_dir = r'/scratch/04952/tmiesse/Dewberry/QC'\n",
    "f13, f14 = 'fort.13', 'fort.14'\n",
    "fort13 = adcirc(root_dir,f13)\n",
    "fort14 = adcirc(root_dir,f14)"
   ]
  },
  {
   "cell_type": "markdown",
   "metadata": {},
   "source": [
    "### 2. Tasks"
   ]
  },
  {
   "cell_type": "markdown",
   "metadata": {},
   "source": [
    "#### a. Find the attributes used in the Fort.13 file"
   ]
  },
  {
   "cell_type": "code",
   "execution_count": 4,
   "metadata": {},
   "outputs": [
    {
     "data": {
      "text/html": [
       "<div>\n",
       "<style scoped>\n",
       "    .dataframe tbody tr th:only-of-type {\n",
       "        vertical-align: middle;\n",
       "    }\n",
       "\n",
       "    .dataframe tbody tr th {\n",
       "        vertical-align: top;\n",
       "    }\n",
       "\n",
       "    .dataframe thead th {\n",
       "        text-align: right;\n",
       "    }\n",
       "</style>\n",
       "<table border=\"1\" class=\"dataframe\">\n",
       "  <thead>\n",
       "    <tr style=\"text-align: right;\">\n",
       "      <th></th>\n",
       "      <th>Parameter</th>\n",
       "    </tr>\n",
       "  </thead>\n",
       "  <tbody>\n",
       "    <tr>\n",
       "      <th>0</th>\n",
       "      <td>wave_refraction_in_swan</td>\n",
       "    </tr>\n",
       "    <tr>\n",
       "      <th>1</th>\n",
       "      <td>sea_surface_height_above_geoid</td>\n",
       "    </tr>\n",
       "    <tr>\n",
       "      <th>2</th>\n",
       "      <td>surface_directional_effective_roughness_length</td>\n",
       "    </tr>\n",
       "    <tr>\n",
       "      <th>3</th>\n",
       "      <td>surface_canopy_coefficient</td>\n",
       "    </tr>\n",
       "    <tr>\n",
       "      <th>4</th>\n",
       "      <td>mannings_n_at_sea_floor</td>\n",
       "    </tr>\n",
       "    <tr>\n",
       "      <th>5</th>\n",
       "      <td>primitive_weighting_in_continuity_equation</td>\n",
       "    </tr>\n",
       "    <tr>\n",
       "      <th>6</th>\n",
       "      <td>average_horizontal_eddy_viscosity_in_sea_water...</td>\n",
       "    </tr>\n",
       "  </tbody>\n",
       "</table>\n",
       "</div>"
      ],
      "text/plain": [
       "                                           Parameter\n",
       "0                            wave_refraction_in_swan\n",
       "1                     sea_surface_height_above_geoid\n",
       "2     surface_directional_effective_roughness_length\n",
       "3                         surface_canopy_coefficient\n",
       "4                            mannings_n_at_sea_floor\n",
       "5         primitive_weighting_in_continuity_equation\n",
       "6  average_horizontal_eddy_viscosity_in_sea_water..."
      ]
     },
     "execution_count": 4,
     "metadata": {},
     "output_type": "execute_result"
    }
   ],
   "source": [
    "attr = fort13.attributes()\n",
    "attr"
   ]
  },
  {
   "cell_type": "markdown",
   "metadata": {},
   "source": [
    "#### b. Read nodal attributes in fort.13 into a table"
   ]
  },
  {
   "cell_type": "code",
   "execution_count": 5,
   "metadata": {},
   "outputs": [
    {
     "name": "stdout",
     "output_type": "stream",
     "text": [
      "\n",
      " Started finding nodes in attributes at \n",
      "\n",
      "2018-07-18 12:27:16.186753\n",
      "===========END========== \n",
      "\n",
      "Processing Time : \n",
      "0:01:36.816057\n"
     ]
    },
    {
     "data": {
      "text/html": [
       "<div>\n",
       "<style scoped>\n",
       "    .dataframe tbody tr th:only-of-type {\n",
       "        vertical-align: middle;\n",
       "    }\n",
       "\n",
       "    .dataframe tbody tr th {\n",
       "        vertical-align: top;\n",
       "    }\n",
       "\n",
       "    .dataframe thead th {\n",
       "        text-align: right;\n",
       "    }\n",
       "</style>\n",
       "<table border=\"1\" class=\"dataframe\">\n",
       "  <thead>\n",
       "    <tr style=\"text-align: right;\">\n",
       "      <th></th>\n",
       "      <th>wave_refraction</th>\n",
       "      <th>sea_surface</th>\n",
       "      <th>surface_directional</th>\n",
       "      <th>surface_canopy</th>\n",
       "      <th>mannings_n</th>\n",
       "      <th>primitive_weighting</th>\n",
       "      <th>average_horizontal</th>\n",
       "    </tr>\n",
       "  </thead>\n",
       "  <tbody>\n",
       "    <tr>\n",
       "      <th>0</th>\n",
       "      <td>1 0.000000</td>\n",
       "      <td>NaN</td>\n",
       "      <td>15490 0.0106490 0.00182500 0.00100000 0.001000...</td>\n",
       "      <td>16299 0.000000</td>\n",
       "      <td>24262 0.0500000</td>\n",
       "      <td>1 0.0200000</td>\n",
       "      <td>1 4.00000</td>\n",
       "    </tr>\n",
       "    <tr>\n",
       "      <th>1</th>\n",
       "      <td>2 0.000000</td>\n",
       "      <td>NaN</td>\n",
       "      <td>15491 0.00421200 0.00109300 0.00100000 0.00100...</td>\n",
       "      <td>21471 0.000000</td>\n",
       "      <td>25236 0.0500000</td>\n",
       "      <td>2 0.00500000</td>\n",
       "      <td>2 4.00000</td>\n",
       "    </tr>\n",
       "    <tr>\n",
       "      <th>2</th>\n",
       "      <td>3 0.000000</td>\n",
       "      <td>NaN</td>\n",
       "      <td>16297 0.0511780 0.0586370 0.131352 0.00131000 ...</td>\n",
       "      <td>25239 0.000000</td>\n",
       "      <td>25237 0.0370000</td>\n",
       "      <td>3 0.00500000</td>\n",
       "      <td>3 4.00000</td>\n",
       "    </tr>\n",
       "    <tr>\n",
       "      <th>3</th>\n",
       "      <td>4 0.000000</td>\n",
       "      <td>NaN</td>\n",
       "      <td>16298 0.0442180 0.0539520 0.0202930 0.0458700 ...</td>\n",
       "      <td>25245 2.27374e-013</td>\n",
       "      <td>25239 0.100000</td>\n",
       "      <td>4 0.00500000</td>\n",
       "      <td>4 4.00000</td>\n",
       "    </tr>\n",
       "    <tr>\n",
       "      <th>4</th>\n",
       "      <td>5 0.000000</td>\n",
       "      <td>NaN</td>\n",
       "      <td>16299 0.109154 0.143936 0.173318 0.123676 0.09...</td>\n",
       "      <td>25255 0.000000</td>\n",
       "      <td>25240 0.0370000</td>\n",
       "      <td>5 0.00500000</td>\n",
       "      <td>5 4.00000</td>\n",
       "    </tr>\n",
       "  </tbody>\n",
       "</table>\n",
       "</div>"
      ],
      "text/plain": [
       "  wave_refraction sea_surface  \\\n",
       "0      1 0.000000         NaN   \n",
       "1      2 0.000000         NaN   \n",
       "2      3 0.000000         NaN   \n",
       "3      4 0.000000         NaN   \n",
       "4      5 0.000000         NaN   \n",
       "\n",
       "                                 surface_directional      surface_canopy  \\\n",
       "0  15490 0.0106490 0.00182500 0.00100000 0.001000...      16299 0.000000   \n",
       "1  15491 0.00421200 0.00109300 0.00100000 0.00100...      21471 0.000000   \n",
       "2  16297 0.0511780 0.0586370 0.131352 0.00131000 ...      25239 0.000000   \n",
       "3  16298 0.0442180 0.0539520 0.0202930 0.0458700 ...  25245 2.27374e-013   \n",
       "4  16299 0.109154 0.143936 0.173318 0.123676 0.09...      25255 0.000000   \n",
       "\n",
       "        mannings_n primitive_weighting average_horizontal  \n",
       "0  24262 0.0500000         1 0.0200000          1 4.00000  \n",
       "1  25236 0.0500000        2 0.00500000          2 4.00000  \n",
       "2  25237 0.0370000        3 0.00500000          3 4.00000  \n",
       "3   25239 0.100000        4 0.00500000          4 4.00000  \n",
       "4  25240 0.0370000        5 0.00500000          5 4.00000  "
      ]
     },
     "execution_count": 5,
     "metadata": {},
     "output_type": "execute_result"
    }
   ],
   "source": [
    "table13 = fort13.read_fort13(attr)\n",
    "table13.head()"
   ]
  },
  {
   "cell_type": "markdown",
   "metadata": {},
   "source": [
    "#### c. Open and Read the nodes/locations in the fort14"
   ]
  },
  {
   "cell_type": "code",
   "execution_count": 6,
   "metadata": {},
   "outputs": [
    {
     "data": {
      "text/html": [
       "<div>\n",
       "<style scoped>\n",
       "    .dataframe tbody tr th:only-of-type {\n",
       "        vertical-align: middle;\n",
       "    }\n",
       "\n",
       "    .dataframe tbody tr th {\n",
       "        vertical-align: top;\n",
       "    }\n",
       "\n",
       "    .dataframe thead th {\n",
       "        text-align: right;\n",
       "    }\n",
       "</style>\n",
       "<table border=\"1\" class=\"dataframe\">\n",
       "  <thead>\n",
       "    <tr style=\"text-align: right;\">\n",
       "      <th></th>\n",
       "      <th>node_id</th>\n",
       "      <th>node_x</th>\n",
       "      <th>node_y</th>\n",
       "      <th>value</th>\n",
       "    </tr>\n",
       "  </thead>\n",
       "  <tbody>\n",
       "    <tr>\n",
       "      <th>0</th>\n",
       "      <td>1</td>\n",
       "      <td>-60.0400300000</td>\n",
       "      <td>8.5596800000</td>\n",
       "      <td>6.1570001000</td>\n",
       "    </tr>\n",
       "    <tr>\n",
       "      <th>1</th>\n",
       "      <td>2</td>\n",
       "      <td>-60.0402700000</td>\n",
       "      <td>8.6642500000</td>\n",
       "      <td>12.8529997000</td>\n",
       "    </tr>\n",
       "    <tr>\n",
       "      <th>2</th>\n",
       "      <td>3</td>\n",
       "      <td>-60.0405100000</td>\n",
       "      <td>8.7688200000</td>\n",
       "      <td>25.3540001000</td>\n",
       "    </tr>\n",
       "    <tr>\n",
       "      <th>3</th>\n",
       "      <td>4</td>\n",
       "      <td>-60.0409900000</td>\n",
       "      <td>8.9779600000</td>\n",
       "      <td>46.1559982000</td>\n",
       "    </tr>\n",
       "    <tr>\n",
       "      <th>4</th>\n",
       "      <td>5</td>\n",
       "      <td>-60.0414700000</td>\n",
       "      <td>9.1871000000</td>\n",
       "      <td>26.4549999000</td>\n",
       "    </tr>\n",
       "  </tbody>\n",
       "</table>\n",
       "</div>"
      ],
      "text/plain": [
       "  node_id          node_x        node_y          value\n",
       "0       1  -60.0400300000  8.5596800000   6.1570001000\n",
       "1       2  -60.0402700000  8.6642500000  12.8529997000\n",
       "2       3  -60.0405100000  8.7688200000  25.3540001000\n",
       "3       4  -60.0409900000  8.9779600000  46.1559982000\n",
       "4       5  -60.0414700000  9.1871000000  26.4549999000"
      ]
     },
     "execution_count": 6,
     "metadata": {},
     "output_type": "execute_result"
    }
   ],
   "source": [
    "table14 = fort14.read_fort14()\n",
    "table14.head()"
   ]
  },
  {
   "cell_type": "markdown",
   "metadata": {},
   "source": [
    "#### d. Seperate the nodes and data in the fort.13 table "
   ]
  },
  {
   "cell_type": "code",
   "execution_count": 7,
   "metadata": {},
   "outputs": [
    {
     "data": {
      "text/html": [
       "<div>\n",
       "<style scoped>\n",
       "    .dataframe tbody tr th:only-of-type {\n",
       "        vertical-align: middle;\n",
       "    }\n",
       "\n",
       "    .dataframe tbody tr th {\n",
       "        vertical-align: top;\n",
       "    }\n",
       "\n",
       "    .dataframe thead th {\n",
       "        text-align: right;\n",
       "    }\n",
       "</style>\n",
       "<table border=\"1\" class=\"dataframe\">\n",
       "  <thead>\n",
       "    <tr style=\"text-align: right;\">\n",
       "      <th></th>\n",
       "      <th>sea_surface</th>\n",
       "      <th>wavenodes</th>\n",
       "      <th>wavedata</th>\n",
       "      <th>surfacedir_nodes</th>\n",
       "      <th>e</th>\n",
       "      <th>ese</th>\n",
       "      <th>se</th>\n",
       "      <th>s</th>\n",
       "      <th>sw</th>\n",
       "      <th>wsw</th>\n",
       "      <th>...</th>\n",
       "      <th>ne</th>\n",
       "      <th>ene</th>\n",
       "      <th>surfacenodes</th>\n",
       "      <th>surfacedata</th>\n",
       "      <th>manningsnodes</th>\n",
       "      <th>manningsdata</th>\n",
       "      <th>primitivenodes</th>\n",
       "      <th>primitivedata</th>\n",
       "      <th>averagenodes</th>\n",
       "      <th>averagedata</th>\n",
       "    </tr>\n",
       "  </thead>\n",
       "  <tbody>\n",
       "    <tr>\n",
       "      <th>0</th>\n",
       "      <td>NaN</td>\n",
       "      <td>1</td>\n",
       "      <td>0.000000</td>\n",
       "      <td>15490</td>\n",
       "      <td>0.0106490</td>\n",
       "      <td>0.00182500</td>\n",
       "      <td>0.00100000</td>\n",
       "      <td>0.00100000</td>\n",
       "      <td>0.00100000</td>\n",
       "      <td>0.00100000</td>\n",
       "      <td>...</td>\n",
       "      <td>0.00104400</td>\n",
       "      <td>0.00242100</td>\n",
       "      <td>16299</td>\n",
       "      <td>0.000000</td>\n",
       "      <td>24262</td>\n",
       "      <td>0.0500000</td>\n",
       "      <td>1</td>\n",
       "      <td>0.0200000</td>\n",
       "      <td>1</td>\n",
       "      <td>4.00000</td>\n",
       "    </tr>\n",
       "    <tr>\n",
       "      <th>1</th>\n",
       "      <td>NaN</td>\n",
       "      <td>2</td>\n",
       "      <td>0.000000</td>\n",
       "      <td>15491</td>\n",
       "      <td>0.00421200</td>\n",
       "      <td>0.00109300</td>\n",
       "      <td>0.00100000</td>\n",
       "      <td>0.00100000</td>\n",
       "      <td>0.00100000</td>\n",
       "      <td>0.00100000</td>\n",
       "      <td>...</td>\n",
       "      <td>0.00100000</td>\n",
       "      <td>0.00397500</td>\n",
       "      <td>21471</td>\n",
       "      <td>0.000000</td>\n",
       "      <td>25236</td>\n",
       "      <td>0.0500000</td>\n",
       "      <td>2</td>\n",
       "      <td>0.00500000</td>\n",
       "      <td>2</td>\n",
       "      <td>4.00000</td>\n",
       "    </tr>\n",
       "    <tr>\n",
       "      <th>2</th>\n",
       "      <td>NaN</td>\n",
       "      <td>3</td>\n",
       "      <td>0.000000</td>\n",
       "      <td>16297</td>\n",
       "      <td>0.0511780</td>\n",
       "      <td>0.0586370</td>\n",
       "      <td>0.131352</td>\n",
       "      <td>0.00131000</td>\n",
       "      <td>0.00136100</td>\n",
       "      <td>0.00138400</td>\n",
       "      <td>...</td>\n",
       "      <td>0.124346</td>\n",
       "      <td>0.0652540</td>\n",
       "      <td>25239</td>\n",
       "      <td>0.000000</td>\n",
       "      <td>25237</td>\n",
       "      <td>0.0370000</td>\n",
       "      <td>3</td>\n",
       "      <td>0.00500000</td>\n",
       "      <td>3</td>\n",
       "      <td>4.00000</td>\n",
       "    </tr>\n",
       "    <tr>\n",
       "      <th>3</th>\n",
       "      <td>NaN</td>\n",
       "      <td>4</td>\n",
       "      <td>0.000000</td>\n",
       "      <td>16298</td>\n",
       "      <td>0.0442180</td>\n",
       "      <td>0.0539520</td>\n",
       "      <td>0.0202930</td>\n",
       "      <td>0.0458700</td>\n",
       "      <td>0.00156900</td>\n",
       "      <td>0.00142100</td>\n",
       "      <td>...</td>\n",
       "      <td>0.0808100</td>\n",
       "      <td>0.0702230</td>\n",
       "      <td>25245</td>\n",
       "      <td>2.27374e-013</td>\n",
       "      <td>25239</td>\n",
       "      <td>0.100000</td>\n",
       "      <td>4</td>\n",
       "      <td>0.00500000</td>\n",
       "      <td>4</td>\n",
       "      <td>4.00000</td>\n",
       "    </tr>\n",
       "    <tr>\n",
       "      <th>4</th>\n",
       "      <td>NaN</td>\n",
       "      <td>5</td>\n",
       "      <td>0.000000</td>\n",
       "      <td>16299</td>\n",
       "      <td>0.109154</td>\n",
       "      <td>0.143936</td>\n",
       "      <td>0.173318</td>\n",
       "      <td>0.123676</td>\n",
       "      <td>0.0925650</td>\n",
       "      <td>0.0855250</td>\n",
       "      <td>...</td>\n",
       "      <td>0.265285</td>\n",
       "      <td>0.159219</td>\n",
       "      <td>25255</td>\n",
       "      <td>0.000000</td>\n",
       "      <td>25240</td>\n",
       "      <td>0.0370000</td>\n",
       "      <td>5</td>\n",
       "      <td>0.00500000</td>\n",
       "      <td>5</td>\n",
       "      <td>4.00000</td>\n",
       "    </tr>\n",
       "  </tbody>\n",
       "</table>\n",
       "<p>5 rows × 24 columns</p>\n",
       "</div>"
      ],
      "text/plain": [
       "  sea_surface wavenodes  wavedata surfacedir_nodes           e         ese  \\\n",
       "0         NaN         1  0.000000            15490   0.0106490  0.00182500   \n",
       "1         NaN         2  0.000000            15491  0.00421200  0.00109300   \n",
       "2         NaN         3  0.000000            16297   0.0511780   0.0586370   \n",
       "3         NaN         4  0.000000            16298   0.0442180   0.0539520   \n",
       "4         NaN         5  0.000000            16299    0.109154    0.143936   \n",
       "\n",
       "           se           s          sw         wsw     ...              ne  \\\n",
       "0  0.00100000  0.00100000  0.00100000  0.00100000     ...      0.00104400   \n",
       "1  0.00100000  0.00100000  0.00100000  0.00100000     ...      0.00100000   \n",
       "2    0.131352  0.00131000  0.00136100  0.00138400     ...        0.124346   \n",
       "3   0.0202930   0.0458700  0.00156900  0.00142100     ...       0.0808100   \n",
       "4    0.173318    0.123676   0.0925650   0.0855250     ...        0.265285   \n",
       "\n",
       "          ene surfacenodes   surfacedata manningsnodes manningsdata  \\\n",
       "0  0.00242100        16299      0.000000         24262    0.0500000   \n",
       "1  0.00397500        21471      0.000000         25236    0.0500000   \n",
       "2   0.0652540        25239      0.000000         25237    0.0370000   \n",
       "3   0.0702230        25245  2.27374e-013         25239     0.100000   \n",
       "4    0.159219        25255      0.000000         25240    0.0370000   \n",
       "\n",
       "  primitivenodes primitivedata averagenodes averagedata  \n",
       "0              1     0.0200000            1     4.00000  \n",
       "1              2    0.00500000            2     4.00000  \n",
       "2              3    0.00500000            3     4.00000  \n",
       "3              4    0.00500000            4     4.00000  \n",
       "4              5    0.00500000            5     4.00000  \n",
       "\n",
       "[5 rows x 24 columns]"
      ]
     },
     "execution_count": 7,
     "metadata": {},
     "output_type": "execute_result"
    }
   ],
   "source": [
    "table = pd.DataFrame.copy(table13)\n",
    "table = adcirc.seperate_13(table)\n",
    "table.head()"
   ]
  },
  {
   "cell_type": "markdown",
   "metadata": {},
   "source": [
    "### e. Give nodal attribute locations and plot"
   ]
  },
  {
   "cell_type": "markdown",
   "metadata": {},
   "source": [
    "wave = table[['wavenodes','wavedata']]\n",
    "table_waves = table14.merge(wave, left_on='node_id',right_on='wavenodes')"
   ]
  },
  {
   "cell_type": "raw",
   "metadata": {},
   "source": [
    "surface_dir = table[['surfacedir_nodes','e','ese','se','s','sw','wsw','w','wnw','nw','n','ne','ene']]\n",
    "table_surf_dir = table14.merge(surface_dir, left_on='node_id',right_on='surfacedir_nodes')"
   ]
  },
  {
   "cell_type": "raw",
   "metadata": {},
   "source": [
    "primitive = table[['primitivenodes','primitivedata']]\n",
    "table_primitive = table14.merge(primitive, left_on='node_id',right_on='primitivenodes')"
   ]
  },
  {
   "cell_type": "raw",
   "metadata": {},
   "source": [
    "average = table[['averagenodes','averagedata']]\n",
    "table_ave = table14.merge(average, left_on='node_id',right_on='averagenodes')"
   ]
  },
  {
   "cell_type": "code",
   "execution_count": 23,
   "metadata": {},
   "outputs": [],
   "source": [
    "manning = table[['manningsnodes','manningsdata']]\n",
    "table_mann = table14.merge(manning, left_on='node_id',right_on='manningsnodes')"
   ]
  },
  {
   "cell_type": "code",
   "execution_count": 24,
   "metadata": {},
   "outputs": [
    {
     "data": {
      "text/html": [
       "<div>\n",
       "<style scoped>\n",
       "    .dataframe tbody tr th:only-of-type {\n",
       "        vertical-align: middle;\n",
       "    }\n",
       "\n",
       "    .dataframe tbody tr th {\n",
       "        vertical-align: top;\n",
       "    }\n",
       "\n",
       "    .dataframe thead th {\n",
       "        text-align: right;\n",
       "    }\n",
       "</style>\n",
       "<table border=\"1\" class=\"dataframe\">\n",
       "  <thead>\n",
       "    <tr style=\"text-align: right;\">\n",
       "      <th></th>\n",
       "      <th>node_id</th>\n",
       "      <th>lon</th>\n",
       "      <th>lat</th>\n",
       "      <th>value</th>\n",
       "      <th>manningsnodes</th>\n",
       "      <th>manningsdata</th>\n",
       "    </tr>\n",
       "  </thead>\n",
       "  <tbody>\n",
       "    <tr>\n",
       "      <th>0</th>\n",
       "      <td>24262</td>\n",
       "      <td>-76.0400700000</td>\n",
       "      <td>36.8627850000</td>\n",
       "      <td>-4.0052042000</td>\n",
       "      <td>24262</td>\n",
       "      <td>0.0500000</td>\n",
       "    </tr>\n",
       "    <tr>\n",
       "      <th>1</th>\n",
       "      <td>25236</td>\n",
       "      <td>-75.9745860000</td>\n",
       "      <td>36.7831880000</td>\n",
       "      <td>-4.3569999000</td>\n",
       "      <td>25236</td>\n",
       "      <td>0.0500000</td>\n",
       "    </tr>\n",
       "    <tr>\n",
       "      <th>2</th>\n",
       "      <td>25237</td>\n",
       "      <td>-75.9781340000</td>\n",
       "      <td>36.8025210000</td>\n",
       "      <td>-4.3550000000</td>\n",
       "      <td>25237</td>\n",
       "      <td>0.0370000</td>\n",
       "    </tr>\n",
       "    <tr>\n",
       "      <th>3</th>\n",
       "      <td>25239</td>\n",
       "      <td>-76.0036090000</td>\n",
       "      <td>36.8302610000</td>\n",
       "      <td>-4.1448522000</td>\n",
       "      <td>25239</td>\n",
       "      <td>0.100000</td>\n",
       "    </tr>\n",
       "    <tr>\n",
       "      <th>4</th>\n",
       "      <td>25240</td>\n",
       "      <td>-76.0278930000</td>\n",
       "      <td>36.8323550000</td>\n",
       "      <td>-5.1129470000</td>\n",
       "      <td>25240</td>\n",
       "      <td>0.0370000</td>\n",
       "    </tr>\n",
       "  </tbody>\n",
       "</table>\n",
       "</div>"
      ],
      "text/plain": [
       "  node_id             lon            lat          value manningsnodes  \\\n",
       "0   24262  -76.0400700000  36.8627850000  -4.0052042000         24262   \n",
       "1   25236  -75.9745860000  36.7831880000  -4.3569999000         25236   \n",
       "2   25237  -75.9781340000  36.8025210000  -4.3550000000         25237   \n",
       "3   25239  -76.0036090000  36.8302610000  -4.1448522000         25239   \n",
       "4   25240  -76.0278930000  36.8323550000  -5.1129470000         25240   \n",
       "\n",
       "  manningsdata  \n",
       "0    0.0500000  \n",
       "1    0.0500000  \n",
       "2    0.0370000  \n",
       "3     0.100000  \n",
       "4    0.0370000  "
      ]
     },
     "execution_count": 24,
     "metadata": {},
     "output_type": "execute_result"
    }
   ],
   "source": [
    "table_mann.rename(columns={'node_x':'lon', 'node_y':'lat'}, inplace=True)\n",
    "table_mann.head()"
   ]
  },
  {
   "cell_type": "code",
   "execution_count": 25,
   "metadata": {},
   "outputs": [],
   "source": [
    "x= pd.to_numeric(table_mann['lon'])\n",
    "y = pd.to_numeric(table_mann['lat'])"
   ]
  },
  {
   "cell_type": "code",
   "execution_count": 12,
   "metadata": {},
   "outputs": [
    {
     "data": {
      "text/html": [
       "<div>\n",
       "<style scoped>\n",
       "    .dataframe tbody tr th:only-of-type {\n",
       "        vertical-align: middle;\n",
       "    }\n",
       "\n",
       "    .dataframe tbody tr th {\n",
       "        vertical-align: top;\n",
       "    }\n",
       "\n",
       "    .dataframe thead th {\n",
       "        text-align: right;\n",
       "    }\n",
       "</style>\n",
       "<table border=\"1\" class=\"dataframe\">\n",
       "  <thead>\n",
       "    <tr style=\"text-align: right;\">\n",
       "      <th></th>\n",
       "      <th>node_id</th>\n",
       "      <th>lon</th>\n",
       "      <th>lat</th>\n",
       "      <th>value</th>\n",
       "      <th>manningsnodes</th>\n",
       "      <th>manningsdata</th>\n",
       "    </tr>\n",
       "  </thead>\n",
       "  <tbody>\n",
       "    <tr>\n",
       "      <th>0</th>\n",
       "      <td>24262</td>\n",
       "      <td>-76.0400700000</td>\n",
       "      <td>36.8627850000</td>\n",
       "      <td>-4.0052042000</td>\n",
       "      <td>24262</td>\n",
       "      <td>0.0500000</td>\n",
       "    </tr>\n",
       "    <tr>\n",
       "      <th>1</th>\n",
       "      <td>25236</td>\n",
       "      <td>-75.9745860000</td>\n",
       "      <td>36.7831880000</td>\n",
       "      <td>-4.3569999000</td>\n",
       "      <td>25236</td>\n",
       "      <td>0.0500000</td>\n",
       "    </tr>\n",
       "    <tr>\n",
       "      <th>2</th>\n",
       "      <td>25237</td>\n",
       "      <td>-75.9781340000</td>\n",
       "      <td>36.8025210000</td>\n",
       "      <td>-4.3550000000</td>\n",
       "      <td>25237</td>\n",
       "      <td>0.0370000</td>\n",
       "    </tr>\n",
       "    <tr>\n",
       "      <th>3</th>\n",
       "      <td>25239</td>\n",
       "      <td>-76.0036090000</td>\n",
       "      <td>36.8302610000</td>\n",
       "      <td>-4.1448522000</td>\n",
       "      <td>25239</td>\n",
       "      <td>0.100000</td>\n",
       "    </tr>\n",
       "    <tr>\n",
       "      <th>4</th>\n",
       "      <td>25240</td>\n",
       "      <td>-76.0278930000</td>\n",
       "      <td>36.8323550000</td>\n",
       "      <td>-5.1129470000</td>\n",
       "      <td>25240</td>\n",
       "      <td>0.0370000</td>\n",
       "    </tr>\n",
       "  </tbody>\n",
       "</table>\n",
       "</div>"
      ],
      "text/plain": [
       "  node_id             lon            lat          value manningsnodes  \\\n",
       "0   24262  -76.0400700000  36.8627850000  -4.0052042000         24262   \n",
       "1   25236  -75.9745860000  36.7831880000  -4.3569999000         25236   \n",
       "2   25237  -75.9781340000  36.8025210000  -4.3550000000         25237   \n",
       "3   25239  -76.0036090000  36.8302610000  -4.1448522000         25239   \n",
       "4   25240  -76.0278930000  36.8323550000  -5.1129470000         25240   \n",
       "\n",
       "  manningsdata  \n",
       "0    0.0500000  \n",
       "1    0.0500000  \n",
       "2    0.0370000  \n",
       "3     0.100000  \n",
       "4    0.0370000  "
      ]
     },
     "execution_count": 12,
     "metadata": {},
     "output_type": "execute_result"
    }
   ],
   "source": [
    "table_mann.head()"
   ]
  },
  {
   "cell_type": "code",
   "execution_count": 26,
   "metadata": {},
   "outputs": [],
   "source": [
    "table_slice = table_mann[(x < -76.05) & (x > -78.25) \n",
    "                         & (y < 35.25) & (y > 34.059)]"
   ]
  },
  {
   "cell_type": "code",
   "execution_count": 28,
   "metadata": {},
   "outputs": [
    {
     "data": {
      "text/plain": [
       "(259170, 6)"
      ]
     },
     "execution_count": 28,
     "metadata": {},
     "output_type": "execute_result"
    }
   ],
   "source": [
    "table_slice.shape"
   ]
  },
  {
   "cell_type": "code",
   "execution_count": 27,
   "metadata": {},
   "outputs": [
    {
     "data": {
      "text/html": [
       "<div>\n",
       "<style scoped>\n",
       "    .dataframe tbody tr th:only-of-type {\n",
       "        vertical-align: middle;\n",
       "    }\n",
       "\n",
       "    .dataframe tbody tr th {\n",
       "        vertical-align: top;\n",
       "    }\n",
       "\n",
       "    .dataframe thead th {\n",
       "        text-align: right;\n",
       "    }\n",
       "</style>\n",
       "<table border=\"1\" class=\"dataframe\">\n",
       "  <thead>\n",
       "    <tr style=\"text-align: right;\">\n",
       "      <th></th>\n",
       "      <th>node_id</th>\n",
       "      <th>lon</th>\n",
       "      <th>lat</th>\n",
       "      <th>value</th>\n",
       "      <th>manningsnodes</th>\n",
       "      <th>manningsdata</th>\n",
       "    </tr>\n",
       "  </thead>\n",
       "  <tbody>\n",
       "    <tr>\n",
       "      <th>7560</th>\n",
       "      <td>79672</td>\n",
       "      <td>-76.1205500000</td>\n",
       "      <td>35.0057800000</td>\n",
       "      <td>-1.5000000000</td>\n",
       "      <td>79672</td>\n",
       "      <td>0.0900000</td>\n",
       "    </tr>\n",
       "    <tr>\n",
       "      <th>7561</th>\n",
       "      <td>79673</td>\n",
       "      <td>-76.1188710000</td>\n",
       "      <td>35.0069350000</td>\n",
       "      <td>-1.5000000000</td>\n",
       "      <td>79673</td>\n",
       "      <td>0.0900000</td>\n",
       "    </tr>\n",
       "    <tr>\n",
       "      <th>7562</th>\n",
       "      <td>79674</td>\n",
       "      <td>-76.1172500000</td>\n",
       "      <td>35.0080500000</td>\n",
       "      <td>-1.5000000000</td>\n",
       "      <td>79674</td>\n",
       "      <td>0.0900000</td>\n",
       "    </tr>\n",
       "    <tr>\n",
       "      <th>7563</th>\n",
       "      <td>79675</td>\n",
       "      <td>-76.1156400000</td>\n",
       "      <td>35.0092400000</td>\n",
       "      <td>-1.5000000000</td>\n",
       "      <td>79675</td>\n",
       "      <td>0.0900000</td>\n",
       "    </tr>\n",
       "    <tr>\n",
       "      <th>7564</th>\n",
       "      <td>79676</td>\n",
       "      <td>-76.1139100000</td>\n",
       "      <td>35.0104400000</td>\n",
       "      <td>-1.5000000000</td>\n",
       "      <td>79676</td>\n",
       "      <td>0.0900000</td>\n",
       "    </tr>\n",
       "  </tbody>\n",
       "</table>\n",
       "</div>"
      ],
      "text/plain": [
       "     node_id             lon            lat          value manningsnodes  \\\n",
       "7560   79672  -76.1205500000  35.0057800000  -1.5000000000         79672   \n",
       "7561   79673  -76.1188710000  35.0069350000  -1.5000000000         79673   \n",
       "7562   79674  -76.1172500000  35.0080500000  -1.5000000000         79674   \n",
       "7563   79675  -76.1156400000  35.0092400000  -1.5000000000         79675   \n",
       "7564   79676  -76.1139100000  35.0104400000  -1.5000000000         79676   \n",
       "\n",
       "     manningsdata  \n",
       "7560    0.0900000  \n",
       "7561    0.0900000  \n",
       "7562    0.0900000  \n",
       "7563    0.0900000  \n",
       "7564    0.0900000  "
      ]
     },
     "execution_count": 27,
     "metadata": {},
     "output_type": "execute_result"
    }
   ],
   "source": [
    "table_slice.head()"
   ]
  },
  {
   "cell_type": "code",
   "execution_count": 92,
   "metadata": {},
   "outputs": [],
   "source": [
    "table_slice.to_csv(r'/scratch/04952/tmiesse/Dewberry/QC/mannings.csv')"
   ]
  },
  {
   "cell_type": "code",
   "execution_count": null,
   "metadata": {},
   "outputs": [],
   "source": []
  },
  {
   "cell_type": "code",
   "execution_count": 29,
   "metadata": {},
   "outputs": [],
   "source": [
    "grid_x = table_slice['lon'].values\n",
    "grid_y = table_slice['lat'].values\n",
    "values = table_slice['manningsdata'].values"
   ]
  },
  {
   "cell_type": "code",
   "execution_count": 34,
   "metadata": {},
   "outputs": [],
   "source": [
    "import xarray as xr"
   ]
  },
  {
   "cell_type": "code",
   "execution_count": 70,
   "metadata": {},
   "outputs": [],
   "source": [
    "xtable = table_slice.to_xarray()"
   ]
  },
  {
   "cell_type": "code",
   "execution_count": 87,
   "metadata": {},
   "outputs": [
    {
     "ename": "TypeError",
     "evalue": "unhashable type: 'DataArray'",
     "output_type": "error",
     "traceback": [
      "\u001b[0;31m---------------------------------------------------------------------------\u001b[0m",
      "\u001b[0;31mTypeError\u001b[0m                                 Traceback (most recent call last)",
      "\u001b[0;32m<ipython-input-87-48ba51fb318f>\u001b[0m in \u001b[0;36m<module>\u001b[0;34m()\u001b[0m\n\u001b[0;32m----> 1\u001b[0;31m \u001b[0mxtable\u001b[0m\u001b[0;34m.\u001b[0m\u001b[0mset_coords\u001b[0m\u001b[0;34m(\u001b[0m\u001b[0;34m{\u001b[0m\u001b[0mxtable\u001b[0m\u001b[0;34m[\u001b[0m\u001b[0;34m'index'\u001b[0m\u001b[0;34m]\u001b[0m\u001b[0;34m:\u001b[0m\u001b[0mxtable\u001b[0m\u001b[0;34m[\u001b[0m\u001b[0;34m'lon'\u001b[0m\u001b[0;34m]\u001b[0m\u001b[0;34m}\u001b[0m\u001b[0;34m)\u001b[0m\u001b[0;34m\u001b[0m\u001b[0m\n\u001b[0m",
      "\u001b[0;31mTypeError\u001b[0m: unhashable type: 'DataArray'"
     ]
    }
   ],
   "source": [
    "xtable.set_coords({xtable['index']:xtable['lon']})"
   ]
  },
  {
   "cell_type": "code",
   "execution_count": 86,
   "metadata": {},
   "outputs": [
    {
     "ename": "TypeError",
     "evalue": "assign_coords() takes 1 positional argument but 2 were given",
     "output_type": "error",
     "traceback": [
      "\u001b[0;31m---------------------------------------------------------------------------\u001b[0m",
      "\u001b[0;31mTypeError\u001b[0m                                 Traceback (most recent call last)",
      "\u001b[0;32m<ipython-input-86-b624426b7836>\u001b[0m in \u001b[0;36m<module>\u001b[0;34m()\u001b[0m\n\u001b[0;32m----> 1\u001b[0;31m \u001b[0mxtable\u001b[0m\u001b[0;34m.\u001b[0m\u001b[0massign_coords\u001b[0m\u001b[0;34m(\u001b[0m\u001b[0;34m(\u001b[0m\u001b[0mxtable\u001b[0m\u001b[0;34m[\u001b[0m\u001b[0;34m'lon'\u001b[0m\u001b[0;34m]\u001b[0m\u001b[0;34m)\u001b[0m\u001b[0;34m)\u001b[0m\u001b[0;34m\u001b[0m\u001b[0m\n\u001b[0m",
      "\u001b[0;31mTypeError\u001b[0m: assign_coords() takes 1 positional argument but 2 were given"
     ]
    }
   ],
   "source": [
    "xtable.assign_coords(xtable['lon'])"
   ]
  },
  {
   "cell_type": "code",
   "execution_count": 91,
   "metadata": {},
   "outputs": [
    {
     "ename": "NameError",
     "evalue": "name 'meshgrid' is not defined",
     "output_type": "error",
     "traceback": [
      "\u001b[0;31m---------------------------------------------------------------------------\u001b[0m",
      "\u001b[0;31mNameError\u001b[0m                                 Traceback (most recent call last)",
      "\u001b[0;32m<ipython-input-91-dbf8808186b1>\u001b[0m in \u001b[0;36m<module>\u001b[0;34m()\u001b[0m\n\u001b[0;32m----> 1\u001b[0;31m \u001b[0mxx\u001b[0m\u001b[0;34m,\u001b[0m\u001b[0myy\u001b[0m \u001b[0;34m=\u001b[0m \u001b[0mmeshgrid\u001b[0m\u001b[0;34m(\u001b[0m\u001b[0mgrid_x\u001b[0m\u001b[0;34m,\u001b[0m\u001b[0mgrid_y\u001b[0m\u001b[0;34m)\u001b[0m\u001b[0;34m\u001b[0m\u001b[0m\n\u001b[0m",
      "\u001b[0;31mNameError\u001b[0m: name 'meshgrid' is not defined"
     ]
    }
   ],
   "source": [
    "xx,yy = meshgrid(grid_x,grid_y)"
   ]
  },
  {
   "cell_type": "code",
   "execution_count": 89,
   "metadata": {},
   "outputs": [
    {
     "ename": "ValueError",
     "evalue": "not enough values to unpack (expected 2, got 1)",
     "output_type": "error",
     "traceback": [
      "\u001b[0;31m---------------------------------------------------------------------------\u001b[0m",
      "\u001b[0;31mValueError\u001b[0m                                Traceback (most recent call last)",
      "\u001b[0;32m<ipython-input-89-d2b3527a3c6b>\u001b[0m in \u001b[0;36m<module>\u001b[0;34m()\u001b[0m\n\u001b[0;32m----> 1\u001b[0;31m \u001b[0mplt\u001b[0m\u001b[0;34m.\u001b[0m\u001b[0mpcolor\u001b[0m\u001b[0;34m(\u001b[0m\u001b[0mgrid_x\u001b[0m\u001b[0;34m,\u001b[0m\u001b[0mgrid_y\u001b[0m\u001b[0;34m,\u001b[0m\u001b[0mvalues\u001b[0m\u001b[0;34m)\u001b[0m\u001b[0;34m\u001b[0m\u001b[0m\n\u001b[0m\u001b[1;32m      2\u001b[0m \u001b[0mplt\u001b[0m\u001b[0;34m.\u001b[0m\u001b[0mshow\u001b[0m\u001b[0;34m(\u001b[0m\u001b[0;34m)\u001b[0m\u001b[0;34m\u001b[0m\u001b[0m\n",
      "\u001b[0;32m~/anaconda3/lib/python3.6/site-packages/matplotlib/pyplot.py\u001b[0m in \u001b[0;36mpcolor\u001b[0;34m(*args, **kwargs)\u001b[0m\n\u001b[1;32m   3266\u001b[0m                       mplDeprecation)\n\u001b[1;32m   3267\u001b[0m     \u001b[0;32mtry\u001b[0m\u001b[0;34m:\u001b[0m\u001b[0;34m\u001b[0m\u001b[0m\n\u001b[0;32m-> 3268\u001b[0;31m         \u001b[0mret\u001b[0m \u001b[0;34m=\u001b[0m \u001b[0max\u001b[0m\u001b[0;34m.\u001b[0m\u001b[0mpcolor\u001b[0m\u001b[0;34m(\u001b[0m\u001b[0;34m*\u001b[0m\u001b[0margs\u001b[0m\u001b[0;34m,\u001b[0m \u001b[0;34m**\u001b[0m\u001b[0mkwargs\u001b[0m\u001b[0;34m)\u001b[0m\u001b[0;34m\u001b[0m\u001b[0m\n\u001b[0m\u001b[1;32m   3269\u001b[0m     \u001b[0;32mfinally\u001b[0m\u001b[0;34m:\u001b[0m\u001b[0;34m\u001b[0m\u001b[0m\n\u001b[1;32m   3270\u001b[0m         \u001b[0max\u001b[0m\u001b[0;34m.\u001b[0m\u001b[0m_hold\u001b[0m \u001b[0;34m=\u001b[0m \u001b[0mwashold\u001b[0m\u001b[0;34m\u001b[0m\u001b[0m\n",
      "\u001b[0;32m~/anaconda3/lib/python3.6/site-packages/matplotlib/__init__.py\u001b[0m in \u001b[0;36minner\u001b[0;34m(ax, *args, **kwargs)\u001b[0m\n\u001b[1;32m   1853\u001b[0m                         \u001b[0;34m\"the Matplotlib list!)\"\u001b[0m \u001b[0;34m%\u001b[0m \u001b[0;34m(\u001b[0m\u001b[0mlabel_namer\u001b[0m\u001b[0;34m,\u001b[0m \u001b[0mfunc\u001b[0m\u001b[0;34m.\u001b[0m\u001b[0m__name__\u001b[0m\u001b[0;34m)\u001b[0m\u001b[0;34m,\u001b[0m\u001b[0;34m\u001b[0m\u001b[0m\n\u001b[1;32m   1854\u001b[0m                         RuntimeWarning, stacklevel=2)\n\u001b[0;32m-> 1855\u001b[0;31m             \u001b[0;32mreturn\u001b[0m \u001b[0mfunc\u001b[0m\u001b[0;34m(\u001b[0m\u001b[0max\u001b[0m\u001b[0;34m,\u001b[0m \u001b[0;34m*\u001b[0m\u001b[0margs\u001b[0m\u001b[0;34m,\u001b[0m \u001b[0;34m**\u001b[0m\u001b[0mkwargs\u001b[0m\u001b[0;34m)\u001b[0m\u001b[0;34m\u001b[0m\u001b[0m\n\u001b[0m\u001b[1;32m   1856\u001b[0m \u001b[0;34m\u001b[0m\u001b[0m\n\u001b[1;32m   1857\u001b[0m         inner.__doc__ = _add_data_doc(inner.__doc__,\n",
      "\u001b[0;32m~/anaconda3/lib/python3.6/site-packages/matplotlib/axes/_axes.py\u001b[0m in \u001b[0;36mpcolor\u001b[0;34m(self, *args, **kwargs)\u001b[0m\n\u001b[1;32m   5730\u001b[0m         \u001b[0mvmax\u001b[0m \u001b[0;34m=\u001b[0m \u001b[0mkwargs\u001b[0m\u001b[0;34m.\u001b[0m\u001b[0mpop\u001b[0m\u001b[0;34m(\u001b[0m\u001b[0;34m'vmax'\u001b[0m\u001b[0;34m,\u001b[0m \u001b[0;32mNone\u001b[0m\u001b[0;34m)\u001b[0m\u001b[0;34m\u001b[0m\u001b[0m\n\u001b[1;32m   5731\u001b[0m \u001b[0;34m\u001b[0m\u001b[0m\n\u001b[0;32m-> 5732\u001b[0;31m         \u001b[0mX\u001b[0m\u001b[0;34m,\u001b[0m \u001b[0mY\u001b[0m\u001b[0;34m,\u001b[0m \u001b[0mC\u001b[0m \u001b[0;34m=\u001b[0m \u001b[0mself\u001b[0m\u001b[0;34m.\u001b[0m\u001b[0m_pcolorargs\u001b[0m\u001b[0;34m(\u001b[0m\u001b[0;34m'pcolor'\u001b[0m\u001b[0;34m,\u001b[0m \u001b[0;34m*\u001b[0m\u001b[0margs\u001b[0m\u001b[0;34m,\u001b[0m \u001b[0mallmatch\u001b[0m\u001b[0;34m=\u001b[0m\u001b[0;32mFalse\u001b[0m\u001b[0;34m)\u001b[0m\u001b[0;34m\u001b[0m\u001b[0m\n\u001b[0m\u001b[1;32m   5733\u001b[0m         \u001b[0mNy\u001b[0m\u001b[0;34m,\u001b[0m \u001b[0mNx\u001b[0m \u001b[0;34m=\u001b[0m \u001b[0mX\u001b[0m\u001b[0;34m.\u001b[0m\u001b[0mshape\u001b[0m\u001b[0;34m\u001b[0m\u001b[0m\n\u001b[1;32m   5734\u001b[0m \u001b[0;34m\u001b[0m\u001b[0m\n",
      "\u001b[0;32m~/anaconda3/lib/python3.6/site-packages/matplotlib/axes/_axes.py\u001b[0m in \u001b[0;36m_pcolorargs\u001b[0;34m(funcname, *args, **kw)\u001b[0m\n\u001b[1;32m   5548\u001b[0m                 \u001b[0;32mif\u001b[0m \u001b[0misinstance\u001b[0m\u001b[0;34m(\u001b[0m\u001b[0mY\u001b[0m\u001b[0;34m,\u001b[0m \u001b[0mnp\u001b[0m\u001b[0;34m.\u001b[0m\u001b[0mma\u001b[0m\u001b[0;34m.\u001b[0m\u001b[0mcore\u001b[0m\u001b[0;34m.\u001b[0m\u001b[0mMaskedArray\u001b[0m\u001b[0;34m)\u001b[0m\u001b[0;34m:\u001b[0m\u001b[0;34m\u001b[0m\u001b[0m\n\u001b[1;32m   5549\u001b[0m                     \u001b[0mY\u001b[0m \u001b[0;34m=\u001b[0m \u001b[0mY\u001b[0m\u001b[0;34m.\u001b[0m\u001b[0mdata\u001b[0m\u001b[0;34m\u001b[0m\u001b[0m\n\u001b[0;32m-> 5550\u001b[0;31m             \u001b[0mnumRows\u001b[0m\u001b[0;34m,\u001b[0m \u001b[0mnumCols\u001b[0m \u001b[0;34m=\u001b[0m \u001b[0mC\u001b[0m\u001b[0;34m.\u001b[0m\u001b[0mshape\u001b[0m\u001b[0;34m\u001b[0m\u001b[0m\n\u001b[0m\u001b[1;32m   5551\u001b[0m         \u001b[0;32melse\u001b[0m\u001b[0;34m:\u001b[0m\u001b[0;34m\u001b[0m\u001b[0m\n\u001b[1;32m   5552\u001b[0m             raise TypeError(\n",
      "\u001b[0;31mValueError\u001b[0m: not enough values to unpack (expected 2, got 1)"
     ]
    },
    {
     "data": {
      "image/png": "[encoded data removed]",
      "text/plain": [
       "<Figure size 432x288 with 1 Axes>"
      ]
     },
     "metadata": {},
     "output_type": "display_data"
    }
   ],
   "source": [
    "plt.pcolor(grid_x,grid_y,values)\n",
    "plt.show()"
   ]
  },
  {
   "cell_type": "code",
   "execution_count": 53,
   "metadata": {},
   "outputs": [],
   "source": [
    "#xtable.manningsdata.plot()\n",
    "#xtable.manningsdata.plot(levels=4)"
   ]
  },
  {
   "cell_type": "code",
   "execution_count": null,
   "metadata": {},
   "outputs": [],
   "source": []
  },
  {
   "cell_type": "code",
   "execution_count": null,
   "metadata": {},
   "outputs": [],
   "source": []
  },
  {
   "cell_type": "code",
   "execution_count": null,
   "metadata": {},
   "outputs": [],
   "source": []
  },
  {
   "cell_type": "code",
   "execution_count": null,
   "metadata": {},
   "outputs": [],
   "source": []
  },
  {
   "cell_type": "code",
   "execution_count": null,
   "metadata": {},
   "outputs": [],
   "source": []
  },
  {
   "cell_type": "code",
   "execution_count": null,
   "metadata": {},
   "outputs": [],
   "source": []
  },
  {
   "cell_type": "code",
   "execution_count": null,
   "metadata": {},
   "outputs": [],
   "source": []
  },
  {
   "cell_type": "code",
   "execution_count": null,
   "metadata": {},
   "outputs": [],
   "source": []
  },
  {
   "cell_type": "code",
   "execution_count": 33,
   "metadata": {},
   "outputs": [
    {
     "ename": "AttributeError",
     "evalue": "'Dataset' object has no attribute 'plot'",
     "output_type": "error",
     "traceback": [
      "\u001b[0;31m---------------------------------------------------------------------------\u001b[0m",
      "\u001b[0;31mAttributeError\u001b[0m                            Traceback (most recent call last)",
      "\u001b[0;32m<ipython-input-33-81408b5813a8>\u001b[0m in \u001b[0;36m<module>\u001b[0;34m()\u001b[0m\n\u001b[0;32m----> 1\u001b[0;31m \u001b[0mmanningsplot\u001b[0m \u001b[0;34m=\u001b[0m \u001b[0mxtable\u001b[0m\u001b[0;34m.\u001b[0m\u001b[0mplot\u001b[0m\u001b[0;34m.\u001b[0m\u001b[0mpcolormesh\u001b[0m\u001b[0;34m(\u001b[0m\u001b[0;34m'lon'\u001b[0m\u001b[0;34m,\u001b[0m \u001b[0;34m'lat'\u001b[0m\u001b[0;34m,\u001b[0m \u001b[0mcol\u001b[0m\u001b[0;34m=\u001b[0m\u001b[0;34m'time'\u001b[0m\u001b[0;34m,\u001b[0m \u001b[0mcol_wrap\u001b[0m\u001b[0;34m=\u001b[0m\u001b[0;36m3\u001b[0m\u001b[0;34m,\u001b[0m \u001b[0mrobust\u001b[0m\u001b[0;34m=\u001b[0m\u001b[0;32mTrue\u001b[0m\u001b[0;34m,\u001b[0m \u001b[0mcmap\u001b[0m\u001b[0;34m=\u001b[0m\u001b[0;34m'viridis'\u001b[0m\u001b[0;34m)\u001b[0m\u001b[0;34m\u001b[0m\u001b[0m\n\u001b[0m",
      "\u001b[0;32m~/anaconda3/lib/python3.6/site-packages/xarray/core/common.py\u001b[0m in \u001b[0;36m__getattr__\u001b[0;34m(self, name)\u001b[0m\n\u001b[1;32m    174\u001b[0m                     \u001b[0;32mreturn\u001b[0m \u001b[0msource\u001b[0m\u001b[0;34m[\u001b[0m\u001b[0mname\u001b[0m\u001b[0;34m]\u001b[0m\u001b[0;34m\u001b[0m\u001b[0m\n\u001b[1;32m    175\u001b[0m         raise AttributeError(\"%r object has no attribute %r\" %\n\u001b[0;32m--> 176\u001b[0;31m                              (type(self).__name__, name))\n\u001b[0m\u001b[1;32m    177\u001b[0m \u001b[0;34m\u001b[0m\u001b[0m\n\u001b[1;32m    178\u001b[0m     \u001b[0;32mdef\u001b[0m \u001b[0m__setattr__\u001b[0m\u001b[0;34m(\u001b[0m\u001b[0mself\u001b[0m\u001b[0;34m,\u001b[0m \u001b[0mname\u001b[0m\u001b[0;34m,\u001b[0m \u001b[0mvalue\u001b[0m\u001b[0;34m)\u001b[0m\u001b[0;34m:\u001b[0m\u001b[0;34m\u001b[0m\u001b[0m\n",
      "\u001b[0;31mAttributeError\u001b[0m: 'Dataset' object has no attribute 'plot'"
     ]
    }
   ],
   "source": [
    "manningsplot = xtable.plot.pcolormesh('lon', 'lat', col='time', col_wrap=3, robust=True, cmap='viridis')\n"
   ]
  },
  {
   "cell_type": "raw",
   "metadata": {},
   "source": [
    "m = Basemap(projection='cyl',llcrnrlat=34.059,urcrnrlat=35.25,llcrnrlon=-78.25,urcrnrlon=-76.05,resolution='h', epsg = 4269)\n",
    "m.drawcoastlines(color='k')\n",
    "#triang = tri.Triangulation(lon,lat,data)\n",
    "#plt.tricontourf(triang, data, levels=levels,alpha=0.9,vmin=-1.5, vmax=3, aspect='auto',cmap='jet')\n",
    "m.arcgisimage(service='World_Street_Map', xpixels = 800, verbose= False)\n",
    "x,y=m(lon,lat)\n",
    "#cs = m.contourf(x,y,data)\n",
    "plt.figure(figsize=[1000,1080])\n",
    "plt.show()"
   ]
  },
  {
   "cell_type": "code",
   "execution_count": null,
   "metadata": {},
   "outputs": [],
   "source": []
  },
  {
   "cell_type": "code",
   "execution_count": null,
   "metadata": {},
   "outputs": [],
   "source": []
  },
  {
   "cell_type": "code",
   "execution_count": null,
   "metadata": {},
   "outputs": [],
   "source": []
  },
  {
   "cell_type": "code",
   "execution_count": null,
   "metadata": {},
   "outputs": [],
   "source": []
  },
  {
   "cell_type": "raw",
   "metadata": {},
   "source": [
    "lat = table_mann['node_y'][:]\n",
    "lon = table_mann['node_x'][:]\n",
    "data= table_mann['manningsdata'][:]\n",
    "elems = table_mann['node_id'][:]\n",
    "m = Basemap(projection='cyl',llcrnrlat=34.459,urcrnrlat=35.1,llcrnrlon=282.95,urcrnrlon=283.8,resolution='h', epsg = 4269)\n",
    "\n",
    "print ('\\nTriangulating ...\\n')\n",
    "triang = tri.Triangulation(lon,lat)\n",
    "\n",
    "#if data.mask.any():\n",
    "   # -99999 entries in 'data' array are usually masked, mask all corresponding triangles\n",
    "#    point_mask_indices = numpy.where(data.mask)\n",
    "#    tri_mask = numpy.any(numpy.in1d(elems, point_mask_indices).reshape(-1, 3), axis=1)\n",
    "#    triang.set_mask(tri_mask)\n",
    "\n",
    "# First create the x and y coordinates of the points.\n",
    "\n",
    "levels = np.arange(-1.5, 1.5, 0.1)\n",
    "\n",
    "print ('Making contours ...\\n')\n",
    "plt.tricontourf(triang, data, levels=levels,alpha=0.9,vmin=-1.5, vmax=3, aspect='auto',cmap='jet')\n",
    "\n",
    "m.arcgisimage(service='World_Street_Map', xpixels = 800, verbose= False)\n",
    "#World_Street_Map,ESRI_Imagery_World_2D,NatGeo_World_Map ,World_Imagery (type of Data to use from)  \n",
    "\n",
    "\n",
    "\n",
    "plt.title('Mannings_n\\n')\n",
    "#    plt.xlim([282, 286])\n",
    "#    plt.ylim([36, 40])    \n",
    "plt.colorbar(cmap='jet',label='Water Levels (meters realtive to MSL)',format = \"%.1f\")\n",
    "plt.savefig(r'/scratch/04952/tmiesse/Dewberry/QC/manning.png'.format(file_number),dpi=300, bbox_inches = 'tight', pad_inches = 0.1)\n",
    "plt.close() \n",
    "\n",
    "\n",
    "\n",
    "\n"
   ]
  },
  {
   "cell_type": "code",
   "execution_count": null,
   "metadata": {},
   "outputs": [],
   "source": []
  },
  {
   "cell_type": "code",
   "execution_count": null,
   "metadata": {},
   "outputs": [],
   "source": []
  },
  {
   "cell_type": "code",
   "execution_count": null,
   "metadata": {},
   "outputs": [],
   "source": []
  },
  {
   "cell_type": "code",
   "execution_count": null,
   "metadata": {},
   "outputs": [],
   "source": [
    "# Assign date of QC & Name/Info of QC Staff\n",
    "qc_date = datetime.now()\n",
    "qc_staff = 'Tyler Miesse'\n",
    "\n",
    "print('QC Completed on {} by {}'.format(qc_date, qc_staff))"
   ]
  },
  {
   "cell_type": "markdown",
   "metadata": {},
   "source": [
    "### Export Completed QC Report"
   ]
  },
  {
   "cell_type": "markdown",
   "metadata": {},
   "source": [
    "## End"
   ]
  }
 ],
 "metadata": {
  "kernelspec": {
   "display_name": "Python 3",
   "language": "python",
   "name": "python3"
  },
  "language_info": {
   "codemirror_mode": {
    "name": "ipython",
    "version": 3
   },
   "file_extension": ".py",
   "mimetype": "text/x-python",
   "name": "python",
   "nbconvert_exporter": "python",
   "pygments_lexer": "ipython3",
   "version": "3.6.5"
  }
 },
 "nbformat": 4,
 "nbformat_minor": 2
}
