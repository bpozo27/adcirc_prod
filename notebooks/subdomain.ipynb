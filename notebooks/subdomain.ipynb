{
 "cells": [
  {
   "cell_type": "markdown",
   "metadata": {},
   "source": [
    "# Subdomain Notebook\n",
    "\n",
    "<img align=\"right\" width=\"150\" height=\"150\" src=\"https://id.dewberry.com/clients/Templates/DewberryLogo_RGB.png\">\n"
   ]
  },
  {
   "cell_type": "markdown",
   "metadata": {},
   "source": [
    "### Generate Subdomains for ADCIRC"
   ]
  },
  {
   "cell_type": "markdown",
   "metadata": {},
   "source": [
    "#### Requirements:\n",
    " 1. subdomainPy\n",
    " 2. Locations of subdomains in (Lat/Long)\n",
    " 3. Fully generated model inputs for a Full ADCIRC model"
   ]
  },
  {
   "cell_type": "markdown",
   "metadata": {},
   "source": [
    "### Directions:\n",
    "1. Create a new directory for the subdomain\n",
    "2. Run python scripts to generate input files for subdomain and to link them with the full domain inputs\n",
    "3. Run the full domain model\n",
    "4. Run python scripts to extract boundary conditions from the full domain to the subdomain\n",
    "5. Run the subdomain model just like the full domain model"
   ]
  },
  {
   "cell_type": "markdown",
   "metadata": {},
   "source": [
    "#### 1. Define Libraries and Paths"
   ]
  },
  {
   "cell_type": "code",
   "execution_count": 12,
   "metadata": {},
   "outputs": [],
   "source": [
    "import os\n",
    "\n",
    "root = r'/scratch/04952/tmiesse/Dewberry/north_carolina/surf_city'\n",
    "sub = 'sub{}'\n",
    "shape = 'shape.c14'\n",
    "lon,lat = [],[]"
   ]
  },
  {
   "cell_type": "markdown",
   "metadata": {},
   "source": [
    "#### 2. Create Subdomain directory"
   ]
  },
  {
   "cell_type": "code",
   "execution_count": 14,
   "metadata": {},
   "outputs": [],
   "source": [
    "sub_num = int(input('How many subdomains are being generated? '))"
   ]
  },
  {
   "cell_type": "code",
   "execution_count": 15,
   "metadata": {},
   "outputs": [],
   "source": [
    "for i in range(0,sub_num):\n",
    "    os.mkdir(os.path.join(root,sub.format(i)))"
   ]
  },
  {
   "cell_type": "markdown",
   "metadata": {},
   "source": [
    "#### 3. Make the shapefiles for the subdomains"
   ]
  },
  {
   "cell_type": "code",
   "execution_count": 16,
   "metadata": {},
   "outputs": [],
   "source": [
    "'''\n",
    "Example:\n",
    "  lon    ,  lat\n",
    "-76.8554 , 34.6024\n",
    "-77.6897 , 34.0945\n",
    "-75.9195 , 34.9859\n",
    "-77.4019 , 34.7055\n",
    "'''\n",
    "lon = ['-76.8554','-77.6897','-75.9195','-77.4019']\n",
    "lat = [ '34.6024', '34.0945','34.9859', '34.7055']\n",
    "r   = ['0.2','0.15','0.3','0.05'] # specify the radias of the subdomain\n",
    "\n",
    "for i in range(0, sub_num):\n",
    "    sub_shape = os.path.join(root,sub.format(i),shape)\n",
    "    with open(sub_shape, 'w') as fin:\n",
    "        line1 = lon[i] + ' ' + lat[i]\n",
    "        line2 = r[i]\n",
    "        lines = line1 + '\\n' + line2\n",
    "        fin.write(lines)\n"
   ]
  },
  {
   "cell_type": "markdown",
   "metadata": {},
   "source": [
    "#### 4. Generate Bash file to run python scripts"
   ]
  },
  {
   "cell_type": "code",
   "execution_count": 17,
   "metadata": {},
   "outputs": [],
   "source": [
    "line1 = '#!bin/bash'+'\\n'\n",
    "shell = os.path.join(root,'sub.sh')\n",
    "full = root    \n",
    "with open(shell, 'w') as fin:\n",
    "    fin.write(line1)\n",
    "    line3 = 'python $SCRATCH/subdomainPy/scripts/gensub.py'+' '+full +' '\n",
    "    for i in range(0,sub_num):\n",
    "        line2 = 'cd'+' '+os.path.join(root,sub.format(i))+'\\n'\n",
    "        lines = line2 + line3+line2.split(' ')[1]\n",
    "        fin.write(lines)\n"
   ]
  },
  {
   "cell_type": "markdown",
   "metadata": {},
   "source": [
    "#### 5. Go to terminal and run Bash script"
   ]
  },
  {
   "cell_type": "code",
   "execution_count": null,
   "metadata": {},
   "outputs": [],
   "source": []
  }
 ],
 "metadata": {
  "kernelspec": {
   "display_name": "Python 3",
   "language": "python",
   "name": "python3"
  },
  "language_info": {
   "codemirror_mode": {
    "name": "ipython",
    "version": 3
   },
   "file_extension": ".py",
   "mimetype": "text/x-python",
   "name": "python",
   "nbconvert_exporter": "python",
   "pygments_lexer": "ipython3",
   "version": "3.6.5"
  }
 },
 "nbformat": 4,
 "nbformat_minor": 2
}
