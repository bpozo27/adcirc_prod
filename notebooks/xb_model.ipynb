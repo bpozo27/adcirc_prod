{
 "cells": [
  {
   "cell_type": "code",
   "execution_count": null,
   "metadata": {},
   "outputs": [],
   "source": []
  },
  {
   "cell_type": "code",
   "execution_count": 1,
   "metadata": {},
   "outputs": [],
   "source": [
    "import math\n",
    "import pandas as pd\n",
    "import numpy as np\n",
    "import os\n",
    "import datetime as dt\n",
    "from oceanwaves import OceanWaves\n",
    "from scipy.interpolate import interp1d\n",
    "import plotly.plotly as py\n",
    "import plotly.graph_objs as go\n",
    "from plotly.offline import download_plotlyjs, init_notebook_mode, plot, iplot\n",
    "from wave_utils import waves\n",
    "root = r'/scratch/04952/tmiesse/notebook/'\n",
    "cross= 'cross_v1.csv'"
   ]
  },
  {
   "cell_type": "code",
   "execution_count": 2,
   "metadata": {},
   "outputs": [],
   "source": [
    "grid = pd.read_csv(os.path.join(root,cross))\n",
    "\n",
    "x = grid['X'][:]\n",
    "z = grid['Graphic Profile 1'][:]"
   ]
  },
  {
   "cell_type": "code",
   "execution_count": 6,
   "metadata": {},
   "outputs": [],
   "source": [
    "xin = x\n",
    "zin = z\n",
    "xgrid   = {'xgrid':[]}\n",
    "Tm      = {'Tm':5.0}\n",
    "dxmin   = {'dxmin':2.0}\n",
    "dxmax   = {'dxmax':'Inf'}\n",
    "vardx   = {'vardx':1.0}\n",
    "g       = {'g':9.81}\n",
    "CFL     = {'CFL':0.9}\n",
    "dtref   = {'dtref':4.0}\n",
    "maxfac  = {'maxfac':1.15}\n",
    "wl      = {'wl':0}\n",
    "depthfac= {'depthfac':2}\n",
    "ppwl    = {'ppwl':12}\n",
    "OPT = [xgrid,Tm,dxmin,dxmax,vardx,g,CFL,dtref,maxfac,wl,depthfac,ppwl]\n",
    "dx = []\n",
    "depthfac= 2\n",
    "ppwel   = 12\n"
   ]
  },
  {
   "cell_type": "code",
   "execution_count": 4,
   "metadata": {},
   "outputs": [
    {
     "ename": "NameError",
     "evalue": "name 'xgr' is not defined",
     "output_type": "error",
     "traceback": [
      "\u001b[0;31m---------------------------------------------------------------------------\u001b[0m",
      "\u001b[0;31mNameError\u001b[0m                                 Traceback (most recent call last)",
      "\u001b[0;32m<ipython-input-4-a9c2336eda7e>\u001b[0m in \u001b[0;36m<module>\u001b[0;34m()\u001b[0m\n\u001b[1;32m     32\u001b[0m \u001b[0;31m#%%\u001b[0m\u001b[0;34m\u001b[0m\u001b[0;34m\u001b[0m\u001b[0m\n\u001b[1;32m     33\u001b[0m trace = go.Scatter(\n\u001b[0;32m---> 34\u001b[0;31m     \u001b[0mx\u001b[0m \u001b[0;34m=\u001b[0m \u001b[0mxgr\u001b[0m\u001b[0;34m,\u001b[0m\u001b[0;34m\u001b[0m\u001b[0m\n\u001b[0m\u001b[1;32m     35\u001b[0m     y = zgr)\n\u001b[1;32m     36\u001b[0m \u001b[0mdata\u001b[0m \u001b[0;34m=\u001b[0m \u001b[0;34m[\u001b[0m\u001b[0mtrace\u001b[0m\u001b[0;34m]\u001b[0m\u001b[0;34m\u001b[0m\u001b[0m\n",
      "\u001b[0;31mNameError\u001b[0m: name 'xgr' is not defined"
     ]
    }
   ],
   "source": [
    "xend    = xin.iloc[-1]\n",
    "xstart  = xin.iloc[0]\n",
    "xlast   = xstart\n",
    "  \n",
    "if vardx == 0:\n",
    "  xgr = np.linspace(xin.iloc[0],xin.iloc[-1],int(len(xin))/OPT[2]['dxmin'])\n",
    "  zgr = np.interp(xgr,xin,zin)\n",
    "      #    xb_verbose(1,'Create equidistant cross-shore grid');\n",
    "\n",
    "elif vardx == 1 and not xgrid:\n",
    "  xgr = OPT[0]['xgrid']\n",
    "  zgr = np.interp(xgr,xin,zin)\n",
    "\n",
    "elif vardx == 1:\n",
    "  hin = max(OPT[9]['wl']-zin)\n",
    "  k = waves.dispersion(2*math.pi/OPT[1]['Tm'],hin,OPT[5]['g'])\n",
    "  Llong = 4*2*math.pi/k\n",
    "  x = xin\n",
    "  \n",
    "  xgr, zgr,hgr = [],[],[]\n",
    "  ii = 0;\n",
    "  xgr.append(xstart)\n",
    "  zgr.append(zin(0))\n",
    "  hgr.append(hin(0)) \n",
    "\n",
    "  while xlast < xend:\n",
    "    dxmax = Llong/OPT[11]['ppwl']\n",
    "    dxmax = min(dxmax,float(OPT[3]['dxmax']))\n",
    "    dx = math.sqrt(OPT[5]['g']*hgr)\n",
    "    dx = min(xgr[ii],xend)\n",
    "    dx = max(dx[ii],OPT[2]['dxmin'])\n",
    "#%%      \n",
    "trace = go.Scatter(\n",
    "    x = xgr,\n",
    "    y = zgr)\n",
    "data = [trace]\n",
    "\n",
    "plot(data, 'cross.html')"
   ]
  },
  {
   "cell_type": "code",
   "execution_count": null,
   "metadata": {},
   "outputs": [],
   "source": []
  },
  {
   "cell_type": "code",
   "execution_count": null,
   "metadata": {},
   "outputs": [],
   "source": []
  },
  {
   "cell_type": "code",
   "execution_count": null,
   "metadata": {},
   "outputs": [],
   "source": []
  },
  {
   "cell_type": "code",
   "execution_count": null,
   "metadata": {},
   "outputs": [],
   "source": []
  },
  {
   "cell_type": "code",
   "execution_count": null,
   "metadata": {},
   "outputs": [],
   "source": []
  },
  {
   "cell_type": "code",
   "execution_count": null,
   "metadata": {},
   "outputs": [],
   "source": []
  },
  {
   "cell_type": "code",
   "execution_count": null,
   "metadata": {},
   "outputs": [],
   "source": []
  }
 ],
 "metadata": {
  "kernelspec": {
   "display_name": "Python 3",
   "language": "python",
   "name": "python3"
  },
  "language_info": {
   "codemirror_mode": {
    "name": "ipython",
    "version": 3
   },
   "file_extension": ".py",
   "mimetype": "text/x-python",
   "name": "python",
   "nbconvert_exporter": "python",
   "pygments_lexer": "ipython3",
   "version": "3.6.5"
  }
 },
 "nbformat": 4,
 "nbformat_minor": 2
}
