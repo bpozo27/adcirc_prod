{
 "cells": [
  {
   "cell_type": "markdown",
   "metadata": {},
   "source": [
    "# Model QC Notebook\n",
    "<img align=\"right\" width=\"150\" height=\"150\" src=\"https://id.dewberry.com/clients/Templates/DewberryLogo_RGB.png\">\n",
    "### ADCIRC-SWAN Model Setup \n"
   ]
  },
  {
   "cell_type": "markdown",
   "metadata": {},
   "source": [
    "### Description: \n",
    "\n",
    " - What is needed to use this notebook\n",
    " - Steps to follow:\n",
    "      1. Import Libraries & Assign Paths\n",
    "      2. Assign Tasks (e.g. Check fort.15 for parameters)\n",
    "      3. Save Completed Document"
   ]
  },
  {
   "cell_type": "markdown",
   "metadata": {},
   "source": [
    "## 1. Import Libraries & Assign Paths & Vairables"
   ]
  },
  {
   "cell_type": "code",
   "execution_count": null,
   "metadata": {},
   "outputs": [],
   "source": [
    "import adcirc_prod"
   ]
  },
  {
   "cell_type": "code",
   "execution_count": 1,
   "metadata": {},
   "outputs": [
    {
     "data": {
      "text/html": [
       "<script>requirejs.config({paths: { 'plotly': ['https://cdn.plot.ly/plotly-latest.min']},});if(!window.Plotly) {{require(['plotly'],function(plotly) {window.Plotly=plotly;});}}</script>"
      ],
      "text/vnd.plotly.v1+html": [
       "<script>requirejs.config({paths: { 'plotly': ['https://cdn.plot.ly/plotly-latest.min']},});if(!window.Plotly) {{require(['plotly'],function(plotly) {window.Plotly=plotly;});}}</script>"
      ]
     },
     "metadata": {},
     "output_type": "display_data"
    },
    {
     "data": {
      "text/html": [
       "<script>requirejs.config({paths: { 'plotly': ['https://cdn.plot.ly/plotly-latest.min']},});if(!window.Plotly) {{require(['plotly'],function(plotly) {window.Plotly=plotly;});}}</script>"
      ],
      "text/vnd.plotly.v1+html": [
       "<script>requirejs.config({paths: { 'plotly': ['https://cdn.plot.ly/plotly-latest.min']},});if(!window.Plotly) {{require(['plotly'],function(plotly) {window.Plotly=plotly;});}}</script>"
      ]
     },
     "metadata": {},
     "output_type": "display_data"
    }
   ],
   "source": [
    "# Assign Model directory\n",
    "root = r'/scratch/04952/tmiesse/Dewberry/QC'\n",
    "\n",
    "input_files = adcirc_prod.GetInputFiles(root)\n",
    "# returns a dictionary paths to f13,f14,f15\n",
    "# prints 'Input Files in root:'\n",
    "# f13 = '/data/path/fort.13'\n",
    "# e.g. f13: '/data/pat.fort.13'\n",
    "\n",
    "f13 =input_files.f13\n",
    "f14 = input_files.f14\n",
    "f15 = input_files.f1\n",
    "attrs = f13.attrs \n",
    "wave_refr = attrs.wave_refraction_in_swan\n",
    "all_atts = attrs.GetALL\n",
    "\n",
    "\n",
    "# Assign Variables \n",
    "#attributes = []\n",
    "#f13, f14, f15 = 'fort.13', 'fort.14', 'fort.15'\n",
    "#path13  = os.path.join(root, f13)"
   ]
  },
  {
   "cell_type": "markdown",
   "metadata": {},
   "source": [
    "## 2. Tasks"
   ]
  },
  {
   "cell_type": "markdown",
   "metadata": {},
   "source": [
    "#### a. Find the parameters used in fort.13"
   ]
  },
  {
   "cell_type": "code",
   "execution_count": 2,
   "metadata": {},
   "outputs": [
    {
     "data": {
      "text/html": [
       "<div>\n",
       "<style scoped>\n",
       "    .dataframe tbody tr th:only-of-type {\n",
       "        vertical-align: middle;\n",
       "    }\n",
       "\n",
       "    .dataframe tbody tr th {\n",
       "        vertical-align: top;\n",
       "    }\n",
       "\n",
       "    .dataframe thead th {\n",
       "        text-align: right;\n",
       "    }\n",
       "</style>\n",
       "<table border=\"1\" class=\"dataframe\">\n",
       "  <thead>\n",
       "    <tr style=\"text-align: right;\">\n",
       "      <th></th>\n",
       "      <th>Parameter</th>\n",
       "    </tr>\n",
       "  </thead>\n",
       "  <tbody>\n",
       "    <tr>\n",
       "      <th>0</th>\n",
       "      <td>wave_refraction_in_swan</td>\n",
       "    </tr>\n",
       "    <tr>\n",
       "      <th>1</th>\n",
       "      <td>sea_surface_height_above_geoid</td>\n",
       "    </tr>\n",
       "    <tr>\n",
       "      <th>2</th>\n",
       "      <td>surface_directional_effective_roughness_length</td>\n",
       "    </tr>\n",
       "    <tr>\n",
       "      <th>3</th>\n",
       "      <td>surface_canopy_coefficient</td>\n",
       "    </tr>\n",
       "    <tr>\n",
       "      <th>4</th>\n",
       "      <td>mannings_n_at_sea_floor</td>\n",
       "    </tr>\n",
       "    <tr>\n",
       "      <th>5</th>\n",
       "      <td>primitive_weighting_in_continuity_equation</td>\n",
       "    </tr>\n",
       "    <tr>\n",
       "      <th>6</th>\n",
       "      <td>average_horizontal_eddy_viscosity_in_sea_water...</td>\n",
       "    </tr>\n",
       "  </tbody>\n",
       "</table>\n",
       "</div>"
      ],
      "text/plain": [
       "                                           Parameter\n",
       "0                            wave_refraction_in_swan\n",
       "1                     sea_surface_height_above_geoid\n",
       "2     surface_directional_effective_roughness_length\n",
       "3                         surface_canopy_coefficient\n",
       "4                            mannings_n_at_sea_floor\n",
       "5         primitive_weighting_in_continuity_equation\n",
       "6  average_horizontal_eddy_viscosity_in_sea_water..."
      ]
     },
     "execution_count": 2,
     "metadata": {},
     "output_type": "execute_result"
    }
   ],
   "source": [
    "attribute = attributes_fort13(path13)\n",
    "t_attrib = pd.DataFrame(attribute)\n",
    "t_attrib.columns = ['Parameter']\n",
    "t_attrib"
   ]
  },
  {
   "cell_type": "markdown",
   "metadata": {},
   "source": [
    "#### b. Create a table with all the nodal locations"
   ]
  },
  {
   "cell_type": "code",
   "execution_count": 3,
   "metadata": {},
   "outputs": [
    {
     "data": {
      "text/html": [
       "<div>\n",
       "<style scoped>\n",
       "    .dataframe tbody tr th:only-of-type {\n",
       "        vertical-align: middle;\n",
       "    }\n",
       "\n",
       "    .dataframe tbody tr th {\n",
       "        vertical-align: top;\n",
       "    }\n",
       "\n",
       "    .dataframe thead th {\n",
       "        text-align: right;\n",
       "    }\n",
       "</style>\n",
       "<table border=\"1\" class=\"dataframe\">\n",
       "  <thead>\n",
       "    <tr style=\"text-align: right;\">\n",
       "      <th></th>\n",
       "      <th>node_id</th>\n",
       "      <th>node_x</th>\n",
       "      <th>node_y</th>\n",
       "      <th>value</th>\n",
       "    </tr>\n",
       "  </thead>\n",
       "  <tbody>\n",
       "    <tr>\n",
       "      <th>0</th>\n",
       "      <td>1</td>\n",
       "      <td>-60.0400300000</td>\n",
       "      <td>8.5596800000</td>\n",
       "      <td>6.1570001000</td>\n",
       "    </tr>\n",
       "    <tr>\n",
       "      <th>1</th>\n",
       "      <td>2</td>\n",
       "      <td>-60.0402700000</td>\n",
       "      <td>8.6642500000</td>\n",
       "      <td>12.8529997000</td>\n",
       "    </tr>\n",
       "    <tr>\n",
       "      <th>2</th>\n",
       "      <td>3</td>\n",
       "      <td>-60.0405100000</td>\n",
       "      <td>8.7688200000</td>\n",
       "      <td>25.3540001000</td>\n",
       "    </tr>\n",
       "    <tr>\n",
       "      <th>3</th>\n",
       "      <td>4</td>\n",
       "      <td>-60.0409900000</td>\n",
       "      <td>8.9779600000</td>\n",
       "      <td>46.1559982000</td>\n",
       "    </tr>\n",
       "    <tr>\n",
       "      <th>4</th>\n",
       "      <td>5</td>\n",
       "      <td>-60.0414700000</td>\n",
       "      <td>9.1871000000</td>\n",
       "      <td>26.4549999000</td>\n",
       "    </tr>\n",
       "  </tbody>\n",
       "</table>\n",
       "</div>"
      ],
      "text/plain": [
       "  node_id          node_x        node_y          value\n",
       "0       1  -60.0400300000  8.5596800000   6.1570001000\n",
       "1       2  -60.0402700000  8.6642500000  12.8529997000\n",
       "2       3  -60.0405100000  8.7688200000  25.3540001000\n",
       "3       4  -60.0409900000  8.9779600000  46.1559982000\n",
       "4       5  -60.0414700000  9.1871000000  26.4549999000"
      ]
     },
     "execution_count": 3,
     "metadata": {},
     "output_type": "execute_result"
    }
   ],
   "source": [
    "table_v1 = read_fort14(os.path.join(root,f14)) \n",
    "table_v1.head()"
   ]
  },
  {
   "cell_type": "markdown",
   "metadata": {},
   "source": [
    "#### c. Find the nodes and values for each parameter in fort.13"
   ]
  },
  {
   "cell_type": "code",
   "execution_count": 4,
   "metadata": {},
   "outputs": [
    {
     "name": "stdout",
     "output_type": "stream",
     "text": [
      "\n",
      " Started finding nodes at \n",
      "\n",
      "2018-07-17 08:00:21.632000\n",
      "===========END========== \n",
      "\n",
      "Processing Time : \n",
      "0:00:06.158164\n"
     ]
    },
    {
     "data": {
      "text/html": [
       "<div>\n",
       "<style scoped>\n",
       "    .dataframe tbody tr th:only-of-type {\n",
       "        vertical-align: middle;\n",
       "    }\n",
       "\n",
       "    .dataframe tbody tr th {\n",
       "        vertical-align: top;\n",
       "    }\n",
       "\n",
       "    .dataframe thead th {\n",
       "        text-align: right;\n",
       "    }\n",
       "</style>\n",
       "<table border=\"1\" class=\"dataframe\">\n",
       "  <thead>\n",
       "    <tr style=\"text-align: right;\">\n",
       "      <th></th>\n",
       "      <th>wave</th>\n",
       "      <th>sea</th>\n",
       "      <th>surface_directional</th>\n",
       "      <th>surface_canopy</th>\n",
       "      <th>mannings_n</th>\n",
       "      <th>primitive_weighting</th>\n",
       "      <th>average_horizontal</th>\n",
       "    </tr>\n",
       "  </thead>\n",
       "  <tbody>\n",
       "    <tr>\n",
       "      <th>0</th>\n",
       "      <td>1 0.000000</td>\n",
       "      <td>NaN</td>\n",
       "      <td>15490 0.0106490 0.00182500 0.00100000 0.001000...</td>\n",
       "      <td>16299 0.000000</td>\n",
       "      <td>24262 0.0500000</td>\n",
       "      <td>1 0.0200000</td>\n",
       "      <td>1 4.00000</td>\n",
       "    </tr>\n",
       "    <tr>\n",
       "      <th>1</th>\n",
       "      <td>2 0.000000</td>\n",
       "      <td>NaN</td>\n",
       "      <td>15491 0.00421200 0.00109300 0.00100000 0.00100...</td>\n",
       "      <td>21471 0.000000</td>\n",
       "      <td>25236 0.0500000</td>\n",
       "      <td>2 0.00500000</td>\n",
       "      <td>2 4.00000</td>\n",
       "    </tr>\n",
       "    <tr>\n",
       "      <th>2</th>\n",
       "      <td>3 0.000000</td>\n",
       "      <td>NaN</td>\n",
       "      <td>16297 0.0511780 0.0586370 0.131352 0.00131000 ...</td>\n",
       "      <td>25239 0.000000</td>\n",
       "      <td>25237 0.0370000</td>\n",
       "      <td>3 0.00500000</td>\n",
       "      <td>3 4.00000</td>\n",
       "    </tr>\n",
       "    <tr>\n",
       "      <th>3</th>\n",
       "      <td>4 0.000000</td>\n",
       "      <td>NaN</td>\n",
       "      <td>16298 0.0442180 0.0539520 0.0202930 0.0458700 ...</td>\n",
       "      <td>25245 2.27374e-013</td>\n",
       "      <td>25239 0.100000</td>\n",
       "      <td>4 0.00500000</td>\n",
       "      <td>4 4.00000</td>\n",
       "    </tr>\n",
       "    <tr>\n",
       "      <th>4</th>\n",
       "      <td>5 0.000000</td>\n",
       "      <td>NaN</td>\n",
       "      <td>16299 0.109154 0.143936 0.173318 0.123676 0.09...</td>\n",
       "      <td>25255 0.000000</td>\n",
       "      <td>25240 0.0370000</td>\n",
       "      <td>5 0.00500000</td>\n",
       "      <td>5 4.00000</td>\n",
       "    </tr>\n",
       "  </tbody>\n",
       "</table>\n",
       "</div>"
      ],
      "text/plain": [
       "         wave  sea                                surface_directional  \\\n",
       "0  1 0.000000  NaN  15490 0.0106490 0.00182500 0.00100000 0.001000...   \n",
       "1  2 0.000000  NaN  15491 0.00421200 0.00109300 0.00100000 0.00100...   \n",
       "2  3 0.000000  NaN  16297 0.0511780 0.0586370 0.131352 0.00131000 ...   \n",
       "3  4 0.000000  NaN  16298 0.0442180 0.0539520 0.0202930 0.0458700 ...   \n",
       "4  5 0.000000  NaN  16299 0.109154 0.143936 0.173318 0.123676 0.09...   \n",
       "\n",
       "       surface_canopy       mannings_n primitive_weighting average_horizontal  \n",
       "0      16299 0.000000  24262 0.0500000         1 0.0200000          1 4.00000  \n",
       "1      21471 0.000000  25236 0.0500000        2 0.00500000          2 4.00000  \n",
       "2      25239 0.000000  25237 0.0370000        3 0.00500000          3 4.00000  \n",
       "3  25245 2.27374e-013   25239 0.100000        4 0.00500000          4 4.00000  \n",
       "4      25255 0.000000  25240 0.0370000        5 0.00500000          5 4.00000  "
      ]
     },
     "execution_count": 4,
     "metadata": {},
     "output_type": "execute_result"
    }
   ],
   "source": [
    "table_v2 = read_fort13(path13,attribute)\n",
    "table_v2.head()"
   ]
  },
  {
   "cell_type": "markdown",
   "metadata": {},
   "source": [
    "#### d. Split the nodes and the values in the generated table"
   ]
  },
  {
   "cell_type": "code",
   "execution_count": 5,
   "metadata": {},
   "outputs": [
    {
     "data": {
      "text/html": [
       "<div>\n",
       "<style scoped>\n",
       "    .dataframe tbody tr th:only-of-type {\n",
       "        vertical-align: middle;\n",
       "    }\n",
       "\n",
       "    .dataframe tbody tr th {\n",
       "        vertical-align: top;\n",
       "    }\n",
       "\n",
       "    .dataframe thead th {\n",
       "        text-align: right;\n",
       "    }\n",
       "</style>\n",
       "<table border=\"1\" class=\"dataframe\">\n",
       "  <thead>\n",
       "    <tr style=\"text-align: right;\">\n",
       "      <th></th>\n",
       "      <th>sea</th>\n",
       "      <th>wave_nodes</th>\n",
       "      <th>wave_data</th>\n",
       "      <th>surface_nodes</th>\n",
       "      <th>e</th>\n",
       "      <th>ese</th>\n",
       "      <th>se</th>\n",
       "      <th>s</th>\n",
       "      <th>sw</th>\n",
       "      <th>wsw</th>\n",
       "      <th>...</th>\n",
       "      <th>ne</th>\n",
       "      <th>ene</th>\n",
       "      <th>canopy_nodes</th>\n",
       "      <th>canopy_data</th>\n",
       "      <th>mannings_nodes</th>\n",
       "      <th>mannings_data</th>\n",
       "      <th>prim_nodes</th>\n",
       "      <th>prim_data</th>\n",
       "      <th>horiz_nodes</th>\n",
       "      <th>horiz_data</th>\n",
       "    </tr>\n",
       "  </thead>\n",
       "  <tbody>\n",
       "    <tr>\n",
       "      <th>0</th>\n",
       "      <td>NaN</td>\n",
       "      <td>1</td>\n",
       "      <td>0.000000</td>\n",
       "      <td>15490</td>\n",
       "      <td>0.0106490</td>\n",
       "      <td>0.00182500</td>\n",
       "      <td>0.00100000</td>\n",
       "      <td>0.00100000</td>\n",
       "      <td>0.00100000</td>\n",
       "      <td>0.00100000</td>\n",
       "      <td>...</td>\n",
       "      <td>0.00104400</td>\n",
       "      <td>0.00242100</td>\n",
       "      <td>16299</td>\n",
       "      <td>0.000000</td>\n",
       "      <td>24262</td>\n",
       "      <td>0.0500000</td>\n",
       "      <td>1</td>\n",
       "      <td>0.0200000</td>\n",
       "      <td>1</td>\n",
       "      <td>4.00000</td>\n",
       "    </tr>\n",
       "    <tr>\n",
       "      <th>1</th>\n",
       "      <td>NaN</td>\n",
       "      <td>2</td>\n",
       "      <td>0.000000</td>\n",
       "      <td>15491</td>\n",
       "      <td>0.00421200</td>\n",
       "      <td>0.00109300</td>\n",
       "      <td>0.00100000</td>\n",
       "      <td>0.00100000</td>\n",
       "      <td>0.00100000</td>\n",
       "      <td>0.00100000</td>\n",
       "      <td>...</td>\n",
       "      <td>0.00100000</td>\n",
       "      <td>0.00397500</td>\n",
       "      <td>21471</td>\n",
       "      <td>0.000000</td>\n",
       "      <td>25236</td>\n",
       "      <td>0.0500000</td>\n",
       "      <td>2</td>\n",
       "      <td>0.00500000</td>\n",
       "      <td>2</td>\n",
       "      <td>4.00000</td>\n",
       "    </tr>\n",
       "    <tr>\n",
       "      <th>2</th>\n",
       "      <td>NaN</td>\n",
       "      <td>3</td>\n",
       "      <td>0.000000</td>\n",
       "      <td>16297</td>\n",
       "      <td>0.0511780</td>\n",
       "      <td>0.0586370</td>\n",
       "      <td>0.131352</td>\n",
       "      <td>0.00131000</td>\n",
       "      <td>0.00136100</td>\n",
       "      <td>0.00138400</td>\n",
       "      <td>...</td>\n",
       "      <td>0.124346</td>\n",
       "      <td>0.0652540</td>\n",
       "      <td>25239</td>\n",
       "      <td>0.000000</td>\n",
       "      <td>25237</td>\n",
       "      <td>0.0370000</td>\n",
       "      <td>3</td>\n",
       "      <td>0.00500000</td>\n",
       "      <td>3</td>\n",
       "      <td>4.00000</td>\n",
       "    </tr>\n",
       "    <tr>\n",
       "      <th>3</th>\n",
       "      <td>NaN</td>\n",
       "      <td>4</td>\n",
       "      <td>0.000000</td>\n",
       "      <td>16298</td>\n",
       "      <td>0.0442180</td>\n",
       "      <td>0.0539520</td>\n",
       "      <td>0.0202930</td>\n",
       "      <td>0.0458700</td>\n",
       "      <td>0.00156900</td>\n",
       "      <td>0.00142100</td>\n",
       "      <td>...</td>\n",
       "      <td>0.0808100</td>\n",
       "      <td>0.0702230</td>\n",
       "      <td>25245</td>\n",
       "      <td>2.27374e-013</td>\n",
       "      <td>25239</td>\n",
       "      <td>0.100000</td>\n",
       "      <td>4</td>\n",
       "      <td>0.00500000</td>\n",
       "      <td>4</td>\n",
       "      <td>4.00000</td>\n",
       "    </tr>\n",
       "    <tr>\n",
       "      <th>4</th>\n",
       "      <td>NaN</td>\n",
       "      <td>5</td>\n",
       "      <td>0.000000</td>\n",
       "      <td>16299</td>\n",
       "      <td>0.109154</td>\n",
       "      <td>0.143936</td>\n",
       "      <td>0.173318</td>\n",
       "      <td>0.123676</td>\n",
       "      <td>0.0925650</td>\n",
       "      <td>0.0855250</td>\n",
       "      <td>...</td>\n",
       "      <td>0.265285</td>\n",
       "      <td>0.159219</td>\n",
       "      <td>25255</td>\n",
       "      <td>0.000000</td>\n",
       "      <td>25240</td>\n",
       "      <td>0.0370000</td>\n",
       "      <td>5</td>\n",
       "      <td>0.00500000</td>\n",
       "      <td>5</td>\n",
       "      <td>4.00000</td>\n",
       "    </tr>\n",
       "  </tbody>\n",
       "</table>\n",
       "<p>5 rows × 24 columns</p>\n",
       "</div>"
      ],
      "text/plain": [
       "   sea wave_nodes wave_data surface_nodes           e         ese          se  \\\n",
       "0  NaN          1  0.000000         15490   0.0106490  0.00182500  0.00100000   \n",
       "1  NaN          2  0.000000         15491  0.00421200  0.00109300  0.00100000   \n",
       "2  NaN          3  0.000000         16297   0.0511780   0.0586370    0.131352   \n",
       "3  NaN          4  0.000000         16298   0.0442180   0.0539520   0.0202930   \n",
       "4  NaN          5  0.000000         16299    0.109154    0.143936    0.173318   \n",
       "\n",
       "            s          sw         wsw    ...              ne         ene  \\\n",
       "0  0.00100000  0.00100000  0.00100000    ...      0.00104400  0.00242100   \n",
       "1  0.00100000  0.00100000  0.00100000    ...      0.00100000  0.00397500   \n",
       "2  0.00131000  0.00136100  0.00138400    ...        0.124346   0.0652540   \n",
       "3   0.0458700  0.00156900  0.00142100    ...       0.0808100   0.0702230   \n",
       "4    0.123676   0.0925650   0.0855250    ...        0.265285    0.159219   \n",
       "\n",
       "  canopy_nodes   canopy_data mannings_nodes mannings_data prim_nodes  \\\n",
       "0        16299      0.000000          24262     0.0500000          1   \n",
       "1        21471      0.000000          25236     0.0500000          2   \n",
       "2        25239      0.000000          25237     0.0370000          3   \n",
       "3        25245  2.27374e-013          25239      0.100000          4   \n",
       "4        25255      0.000000          25240     0.0370000          5   \n",
       "\n",
       "    prim_data horiz_nodes horiz_data  \n",
       "0   0.0200000           1    4.00000  \n",
       "1  0.00500000           2    4.00000  \n",
       "2  0.00500000           3    4.00000  \n",
       "3  0.00500000           4    4.00000  \n",
       "4  0.00500000           5    4.00000  \n",
       "\n",
       "[5 rows x 24 columns]"
      ]
     },
     "execution_count": 5,
     "metadata": {},
     "output_type": "execute_result"
    }
   ],
   "source": [
    "table_v2['wave_nodes'], table_v2['wave_data'] = table_v2['wave'].str.split(' ', 0).str\n",
    "table_v2['surface_nodes'], table_v2['e'], table_v2['ese'], table_v2['se'],table_v2['s'], table_v2['sw'], table_v2['wsw'], table_v2['w'], table_v2['wnw'],table_v2['nw'], table_v2['n'], table_v2['ne'], table_v2['ene'] = table_v2['surface_directional'].str.split(' ', 0).str\n",
    "table_v2['canopy_nodes'], table_v2['canopy_data'] = table_v2['surface_canopy'].str.split(' ', 0).str\n",
    "table_v2['mannings_nodes'], table_v2['mannings_data'] = table_v2['mannings_n'].str.split(' ', 0).str\n",
    "table_v2['prim_nodes'], table_v2['prim_data'] = table_v2['primitive_weighting'].str.split(' ', 0).str\n",
    "table_v2['horiz_nodes'], table_v2['horiz_data'] = table_v2['average_horizontal'].str.split(' ', 0).str\n",
    "table_v2 = table_v2.drop('wave',1)\n",
    "table_v2 = table_v2.drop('surface_directional',1)\n",
    "table_v2 = table_v2.drop('surface_canopy',1)\n",
    "table_v2 = table_v2.drop('mannings_n',1)\n",
    "table_v2 = table_v2.drop('primitive_weighting',1)\n",
    "table_v2 = table_v2.drop('average_horizontal',1)\n",
    "table_v2.head()"
   ]
  },
  {
   "cell_type": "code",
   "execution_count": 6,
   "metadata": {},
   "outputs": [],
   "source": [
    "# this table can be made into a csv if that is easier to view\n",
    "# run this code to write to a csv\n",
    "table_v2.to_csv(os.path.join(root,'model_qc.csv'))"
   ]
  },
  {
   "cell_type": "markdown",
   "metadata": {},
   "source": [
    "#### e. Add locations to each node\n",
    "##### - each attribute will be split out again for this"
   ]
  },
  {
   "cell_type": "code",
   "execution_count": null,
   "metadata": {},
   "outputs": [],
   "source": []
  },
  {
   "cell_type": "code",
   "execution_count": null,
   "metadata": {},
   "outputs": [],
   "source": []
  },
  {
   "cell_type": "code",
   "execution_count": null,
   "metadata": {},
   "outputs": [],
   "source": []
  },
  {
   "cell_type": "code",
   "execution_count": null,
   "metadata": {},
   "outputs": [],
   "source": []
  },
  {
   "cell_type": "code",
   "execution_count": null,
   "metadata": {},
   "outputs": [],
   "source": []
  },
  {
   "cell_type": "code",
   "execution_count": null,
   "metadata": {},
   "outputs": [],
   "source": []
  },
  {
   "cell_type": "markdown",
   "metadata": {},
   "source": [
    "#### f. Create raster and plot of each attribute"
   ]
  },
  {
   "cell_type": "code",
   "execution_count": null,
   "metadata": {},
   "outputs": [],
   "source": []
  },
  {
   "cell_type": "code",
   "execution_count": null,
   "metadata": {},
   "outputs": [],
   "source": []
  },
  {
   "cell_type": "code",
   "execution_count": null,
   "metadata": {},
   "outputs": [],
   "source": []
  },
  {
   "cell_type": "code",
   "execution_count": null,
   "metadata": {},
   "outputs": [],
   "source": []
  },
  {
   "cell_type": "code",
   "execution_count": null,
   "metadata": {},
   "outputs": [],
   "source": []
  },
  {
   "cell_type": "code",
   "execution_count": 11,
   "metadata": {},
   "outputs": [],
   "source": [
    "var = table_v2['surface_directional_effective_roughness_length'].iloc[0]"
   ]
  },
  {
   "cell_type": "code",
   "execution_count": 135,
   "metadata": {},
   "outputs": [
    {
     "data": {
      "text/plain": [
       "['0.000000']"
      ]
     },
     "execution_count": 135,
     "metadata": {},
     "output_type": "execute_result"
    }
   ],
   "source": [
    "node = var.split(' ')[0]\n",
    "varss = var.split(' ')[1:]\n",
    "varss"
   ]
  },
  {
   "cell_type": "code",
   "execution_count": null,
   "metadata": {},
   "outputs": [],
   "source": [
    "split_vars = lambda x: x.split(' ')[:] \n",
    "table_v2['surface_directional_effective_roughness_length'] = table_v2['surface_directional_effective_roughness_length'].apply(split_vars)"
   ]
  },
  {
   "cell_type": "code",
   "execution_count": null,
   "metadata": {},
   "outputs": [],
   "source": []
  },
  {
   "cell_type": "code",
   "execution_count": null,
   "metadata": {},
   "outputs": [],
   "source": []
  },
  {
   "cell_type": "code",
   "execution_count": null,
   "metadata": {},
   "outputs": [],
   "source": []
  },
  {
   "cell_type": "code",
   "execution_count": null,
   "metadata": {},
   "outputs": [],
   "source": []
  },
  {
   "cell_type": "code",
   "execution_count": null,
   "metadata": {},
   "outputs": [],
   "source": []
  },
  {
   "cell_type": "code",
   "execution_count": null,
   "metadata": {},
   "outputs": [],
   "source": []
  },
  {
   "cell_type": "code",
   "execution_count": null,
   "metadata": {},
   "outputs": [],
   "source": [
    "attributes = []\n",
    "nodesx2, nodesy2, value2, node_id2 = [], [], [], []\n",
    "loc, location = [], []\n",
    "nodes = 838458\n",
    "f13, f14 = 'fort.13', 'fort.14'\n",
    "node = np.array([], dtype=np.int32)\n",
    "data = np.array([])"
   ]
  },
  {
   "cell_type": "code",
   "execution_count": null,
   "metadata": {},
   "outputs": [],
   "source": []
  },
  {
   "cell_type": "code",
   "execution_count": null,
   "metadata": {},
   "outputs": [],
   "source": [
    "path13  = os.path.join(root_dir, f13)\n",
    "attribute = attributes_fort13(path13)\n",
    "t_attrib = pd.DataFrame(attribute)\n",
    "t_attrib"
   ]
  },
  {
   "cell_type": "code",
   "execution_count": null,
   "metadata": {},
   "outputs": [],
   "source": [
    "node, data = read_fort13(path13,attribute,attribute[0])\n"
   ]
  },
  {
   "cell_type": "code",
   "execution_count": null,
   "metadata": {},
   "outputs": [],
   "source": []
  },
  {
   "cell_type": "code",
   "execution_count": null,
   "metadata": {},
   "outputs": [],
   "source": []
  },
  {
   "cell_type": "code",
   "execution_count": null,
   "metadata": {},
   "outputs": [],
   "source": []
  },
  {
   "cell_type": "code",
   "execution_count": null,
   "metadata": {},
   "outputs": [],
   "source": []
  },
  {
   "cell_type": "code",
   "execution_count": null,
   "metadata": {},
   "outputs": [],
   "source": []
  },
  {
   "cell_type": "code",
   "execution_count": null,
   "metadata": {},
   "outputs": [],
   "source": []
  },
  {
   "cell_type": "code",
   "execution_count": null,
   "metadata": {},
   "outputs": [],
   "source": [
    "# Assign date of QC & Name/Info of QC Staff\n",
    "qc_date = datetime.now()\n",
    "qc_staff = 'Tyler Miesse'\n",
    "\n",
    "print('QC Completed on {} by {}'.format(qc_date, qc_staff))"
   ]
  },
  {
   "cell_type": "markdown",
   "metadata": {},
   "source": [
    "## Export Completed QC Notebook\n",
    "\n",
    "# END"
   ]
  }
 ],
 "metadata": {
  "kernelspec": {
   "display_name": "Python 3",
   "language": "python",
   "name": "python3"
  },
  "language_info": {
   "codemirror_mode": {
    "name": "ipython",
    "version": 3
   },
   "file_extension": ".py",
   "mimetype": "text/x-python",
   "name": "python",
   "nbconvert_exporter": "python",
   "pygments_lexer": "ipython3",
   "version": "3.6.5"
  }
 },
 "nbformat": 4,
 "nbformat_minor": 2
}
