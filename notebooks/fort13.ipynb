{
 "cells": [
  {
   "cell_type": "markdown",
   "metadata": {},
   "source": [
    "# Read data from ADCIRC input files\n",
    "\n",
    "\n",
    "## 1. Read in the x,y, node id from fort.14\n",
    "## 2. Read in the non- defaault values for each parameter in the fort.13\n",
    "## Write to csv (lat, lon, value)\n",
    "## 3. Plot the non-delfault only\n",
    "\n",
    "Do it here"
   ]
  },
  {
   "cell_type": "code",
   "execution_count": 1,
   "metadata": {},
   "outputs": [
    {
     "data": {
      "text/html": [
       "<script>requirejs.config({paths: { 'plotly': ['https://cdn.plot.ly/plotly-latest.min']},});if(!window.Plotly) {{require(['plotly'],function(plotly) {window.Plotly=plotly;});}}</script>"
      ],
      "text/vnd.plotly.v1+html": [
       "<script>requirejs.config({paths: { 'plotly': ['https://cdn.plot.ly/plotly-latest.min']},});if(!window.Plotly) {{require(['plotly'],function(plotly) {window.Plotly=plotly;});}}</script>"
      ]
     },
     "metadata": {},
     "output_type": "display_data"
    },
    {
     "data": {
      "text/html": [
       "<script>requirejs.config({paths: { 'plotly': ['https://cdn.plot.ly/plotly-latest.min']},});if(!window.Plotly) {{require(['plotly'],function(plotly) {window.Plotly=plotly;});}}</script>"
      ],
      "text/vnd.plotly.v1+html": [
       "<script>requirejs.config({paths: { 'plotly': ['https://cdn.plot.ly/plotly-latest.min']},});if(!window.Plotly) {{require(['plotly'],function(plotly) {window.Plotly=plotly;});}}</script>"
      ]
     },
     "metadata": {},
     "output_type": "display_data"
    },
    {
     "data": {
      "text/html": [
       "<script>requirejs.config({paths: { 'plotly': ['https://cdn.plot.ly/plotly-latest.min']},});if(!window.Plotly) {{require(['plotly'],function(plotly) {window.Plotly=plotly;});}}</script>"
      ],
      "text/vnd.plotly.v1+html": [
       "<script>requirejs.config({paths: { 'plotly': ['https://cdn.plot.ly/plotly-latest.min']},});if(!window.Plotly) {{require(['plotly'],function(plotly) {window.Plotly=plotly;});}}</script>"
      ]
     },
     "metadata": {},
     "output_type": "display_data"
    }
   ],
   "source": [
    "import pandas as pd\n",
    "from plotly.offline import download_plotlyjs, init_notebook_mode, plot, iplot\n",
    "init_notebook_mode(connected=True)\n",
    "import plotly.plotly as py\n",
    "import plotly.offline as offline\n",
    "import plotly.graph_objs as go\n",
    "import glob\n",
    "import numpy as np\n",
    "from collections import Counter\n",
    "from importlib import reload\n",
    "import library ; reload(library)\n",
    "from library import *"
   ]
  },
  {
   "cell_type": "markdown",
   "metadata": {},
   "source": [
    "Initialized Paths"
   ]
  },
  {
   "cell_type": "code",
   "execution_count": 2,
   "metadata": {},
   "outputs": [],
   "source": [
    "root_dir = r'P:\\Temp\\tmiesse\\projects\\north_carolina\\past_studies\\refinednewtopo'"
   ]
  },
  {
   "cell_type": "markdown",
   "metadata": {},
   "source": [
    "Initialized Variables"
   ]
  },
  {
   "cell_type": "code",
   "execution_count": 3,
   "metadata": {},
   "outputs": [],
   "source": [
    "attributes = []\n",
    "nodesx2, nodesy2, value2, node_id2 = [], [], [], []\n",
    "loc, location = [], []\n",
    "nodes = 838458\n",
    "f13, f14 = 'fort.13', 'fort.14'\n",
    "node = np.array([], dtype=np.int32)\n",
    "data = np.array([])"
   ]
  },
  {
   "cell_type": "markdown",
   "metadata": {},
   "source": [
    "Find the attributes used in the Fort.13 file"
   ]
  },
  {
   "cell_type": "code",
   "execution_count": 4,
   "metadata": {},
   "outputs": [
    {
     "data": {
      "text/html": [
       "<div>\n",
       "<style scoped>\n",
       "    .dataframe tbody tr th:only-of-type {\n",
       "        vertical-align: middle;\n",
       "    }\n",
       "\n",
       "    .dataframe tbody tr th {\n",
       "        vertical-align: top;\n",
       "    }\n",
       "\n",
       "    .dataframe thead th {\n",
       "        text-align: right;\n",
       "    }\n",
       "</style>\n",
       "<table border=\"1\" class=\"dataframe\">\n",
       "  <thead>\n",
       "    <tr style=\"text-align: right;\">\n",
       "      <th></th>\n",
       "      <th>0</th>\n",
       "    </tr>\n",
       "  </thead>\n",
       "  <tbody>\n",
       "    <tr>\n",
       "      <th>0</th>\n",
       "      <td>wave_refraction_in_swan</td>\n",
       "    </tr>\n",
       "    <tr>\n",
       "      <th>1</th>\n",
       "      <td>sea_surface_height_above_geoid</td>\n",
       "    </tr>\n",
       "    <tr>\n",
       "      <th>2</th>\n",
       "      <td>surface_directional_effective_roughness_length</td>\n",
       "    </tr>\n",
       "    <tr>\n",
       "      <th>3</th>\n",
       "      <td>surface_canopy_coefficient</td>\n",
       "    </tr>\n",
       "    <tr>\n",
       "      <th>4</th>\n",
       "      <td>mannings_n_at_sea_floor</td>\n",
       "    </tr>\n",
       "    <tr>\n",
       "      <th>5</th>\n",
       "      <td>primitive_weighting_in_continuity_equation</td>\n",
       "    </tr>\n",
       "    <tr>\n",
       "      <th>6</th>\n",
       "      <td>average_horizontal_eddy_viscosity_in_sea_water...</td>\n",
       "    </tr>\n",
       "  </tbody>\n",
       "</table>\n",
       "</div>"
      ],
      "text/plain": [
       "                                                   0\n",
       "0                            wave_refraction_in_swan\n",
       "1                     sea_surface_height_above_geoid\n",
       "2     surface_directional_effective_roughness_length\n",
       "3                         surface_canopy_coefficient\n",
       "4                            mannings_n_at_sea_floor\n",
       "5         primitive_weighting_in_continuity_equation\n",
       "6  average_horizontal_eddy_viscosity_in_sea_water..."
      ]
     },
     "execution_count": 4,
     "metadata": {},
     "output_type": "execute_result"
    }
   ],
   "source": [
    "path13  = os.path.join(root_dir, f13)\n",
    "attribute = attributes_fort13(path13)\n",
    "t_attrib = pd.DataFrame(attribute)\n",
    "t_attrib"
   ]
  },
  {
   "cell_type": "markdown",
   "metadata": {},
   "source": [
    "Find the nodes and values for the first attribute"
   ]
  },
  {
   "cell_type": "code",
   "execution_count": 5,
   "metadata": {},
   "outputs": [
    {
     "name": "stdout",
     "output_type": "stream",
     "text": [
      "\n",
      " Started finding nodes in attributes at \n",
      "\n",
      "2018-07-02 10:31:33.975794\n",
      "===========END========== \n",
      "\n",
      "Processing Time : \n",
      "0:00:02.158800\n"
     ]
    }
   ],
   "source": [
    "node, data = read_fort13(path13,attribute,attribute[0])\n"
   ]
  },
  {
   "cell_type": "code",
   "execution_count": null,
   "metadata": {},
   "outputs": [],
   "source": []
  },
  {
   "cell_type": "code",
   "execution_count": null,
   "metadata": {},
   "outputs": [],
   "source": []
  },
  {
   "cell_type": "markdown",
   "metadata": {},
   "source": [
    "Open and Read the nodes/locations in the fort14"
   ]
  },
  {
   "cell_type": "code",
   "execution_count": 6,
   "metadata": {},
   "outputs": [
    {
     "data": {
      "text/html": [
       "<div>\n",
       "<style scoped>\n",
       "    .dataframe tbody tr th:only-of-type {\n",
       "        vertical-align: middle;\n",
       "    }\n",
       "\n",
       "    .dataframe tbody tr th {\n",
       "        vertical-align: top;\n",
       "    }\n",
       "\n",
       "    .dataframe thead th {\n",
       "        text-align: right;\n",
       "    }\n",
       "</style>\n",
       "<table border=\"1\" class=\"dataframe\">\n",
       "  <thead>\n",
       "    <tr style=\"text-align: right;\">\n",
       "      <th></th>\n",
       "      <th>node_id</th>\n",
       "      <th>node_x</th>\n",
       "      <th>node_y</th>\n",
       "      <th>value</th>\n",
       "    </tr>\n",
       "  </thead>\n",
       "  <tbody>\n",
       "    <tr>\n",
       "      <th>0</th>\n",
       "      <td>1</td>\n",
       "      <td>-60.0400300000</td>\n",
       "      <td>8.5596800000</td>\n",
       "      <td>6.1570001000</td>\n",
       "    </tr>\n",
       "    <tr>\n",
       "      <th>1</th>\n",
       "      <td>2</td>\n",
       "      <td>-60.0402700000</td>\n",
       "      <td>8.6642500000</td>\n",
       "      <td>12.8529997000</td>\n",
       "    </tr>\n",
       "    <tr>\n",
       "      <th>2</th>\n",
       "      <td>3</td>\n",
       "      <td>-60.0405100000</td>\n",
       "      <td>8.7688200000</td>\n",
       "      <td>25.3540001000</td>\n",
       "    </tr>\n",
       "    <tr>\n",
       "      <th>3</th>\n",
       "      <td>4</td>\n",
       "      <td>-60.0409900000</td>\n",
       "      <td>8.9779600000</td>\n",
       "      <td>46.1559982000</td>\n",
       "    </tr>\n",
       "    <tr>\n",
       "      <th>4</th>\n",
       "      <td>5</td>\n",
       "      <td>-60.0414700000</td>\n",
       "      <td>9.1871000000</td>\n",
       "      <td>26.4549999000</td>\n",
       "    </tr>\n",
       "  </tbody>\n",
       "</table>\n",
       "</div>"
      ],
      "text/plain": [
       "  node_id          node_x        node_y          value\n",
       "0       1  -60.0400300000  8.5596800000   6.1570001000\n",
       "1       2  -60.0402700000  8.6642500000  12.8529997000\n",
       "2       3  -60.0405100000  8.7688200000  25.3540001000\n",
       "3       4  -60.0409900000  8.9779600000  46.1559982000\n",
       "4       5  -60.0414700000  9.1871000000  26.4549999000"
      ]
     },
     "execution_count": 6,
     "metadata": {},
     "output_type": "execute_result"
    }
   ],
   "source": [
    "path  = os.path.join(root_dir, f14)\n",
    "table14 = read_fort14(path,nodes)\n",
    "table14.head()"
   ]
  },
  {
   "cell_type": "markdown",
   "metadata": {},
   "source": [
    "Compare Nodes for the first attribute"
   ]
  },
  {
   "cell_type": "code",
   "execution_count": 7,
   "metadata": {},
   "outputs": [
    {
     "name": "stdout",
     "output_type": "stream",
     "text": [
      "\n",
      " Started comparing nodes at \n",
      "\n",
      "2018-07-02 10:31:53.745794\n",
      "===========END========== \n",
      "\n",
      "Processing Time : \n",
      "0:07:24.196400\n"
     ]
    }
   ],
   "source": [
    "node_id2, nodesx2, nodesy2, value2 = compare_fort_nodes(node, table14)"
   ]
  },
  {
   "cell_type": "code",
   "execution_count": 8,
   "metadata": {},
   "outputs": [],
   "source": [
    "data = pd.DataFrame()\n",
    "data.insert(0,'node_id',node_id2)\n",
    "data.insert(1,'node_x',nodesx2)\n",
    "data.insert(2,'node_y',nodesy2)\n",
    "data.insert(3,'value',value2)\n",
    "data.to_csv('Nodes_in_wave_refract.csv', sep=',', index = False)"
   ]
  },
  {
   "cell_type": "code",
   "execution_count": null,
   "metadata": {},
   "outputs": [],
   "source": []
  },
  {
   "cell_type": "code",
   "execution_count": null,
   "metadata": {},
   "outputs": [],
   "source": []
  },
  {
   "cell_type": "code",
   "execution_count": null,
   "metadata": {},
   "outputs": [],
   "source": []
  },
  {
   "cell_type": "code",
   "execution_count": null,
   "metadata": {},
   "outputs": [],
   "source": []
  },
  {
   "cell_type": "code",
   "execution_count": null,
   "metadata": {},
   "outputs": [],
   "source": []
  },
  {
   "cell_type": "code",
   "execution_count": null,
   "metadata": {},
   "outputs": [],
   "source": []
  },
  {
   "cell_type": "code",
   "execution_count": null,
   "metadata": {},
   "outputs": [],
   "source": []
  },
  {
   "cell_type": "code",
   "execution_count": null,
   "metadata": {},
   "outputs": [],
   "source": []
  },
  {
   "cell_type": "code",
   "execution_count": null,
   "metadata": {},
   "outputs": [],
   "source": []
  },
  {
   "cell_type": "code",
   "execution_count": null,
   "metadata": {},
   "outputs": [],
   "source": []
  },
  {
   "cell_type": "code",
   "execution_count": null,
   "metadata": {},
   "outputs": [],
   "source": []
  },
  {
   "cell_type": "code",
   "execution_count": null,
   "metadata": {},
   "outputs": [],
   "source": []
  },
  {
   "cell_type": "markdown",
   "metadata": {},
   "source": [
    "### Open and Read the nodes in fort13 wave refraction"
   ]
  },
  {
   "cell_type": "markdown",
   "metadata": {},
   "source": [
    "### Compare the nodes used for wave refraction in the fort13 file and give the used nodes locations from fort14"
   ]
  },
  {
   "cell_type": "code",
   "execution_count": 6,
   "metadata": {},
   "outputs": [
    {
     "name": "stdout",
     "output_type": "stream",
     "text": [
      "\n",
      " Started comparing nodes at \n",
      "\n",
      "2018-06-28 12:21:52.534105\n",
      "===========END========== \n",
      "\n",
      "Processing Time : \n",
      "0:06:37.289696\n"
     ]
    }
   ],
   "source": [
    "a = dt.now()\n",
    "print(\"\\n Started comparing nodes at \\n\") \n",
    "print(a)\n",
    "for i in range(len(node_id)):\n",
    "    if node_id[i] not in node_num:\n",
    "        node_id2.append(node_id[i])\n",
    "        nodesx2.append(nodesx[i])\n",
    "        nodesy2.append(nodesy[i])\n",
    "        value2.append(value[i])\n",
    "table2 = ({'node_id':node_id2},{'node_x':nodesx2},{'node_y':nodesy2},{'value':value2})\n",
    "b = dt.now()\n",
    "c = b-a\n",
    "print(\"===========END========== \\n\")\n",
    "print(\"Processing Time : \")\n",
    "print(c)        "
   ]
  },
  {
   "cell_type": "code",
   "execution_count": 7,
   "metadata": {},
   "outputs": [],
   "source": [
    "data = pd.DataFrame()\n",
    "data.insert(0,'node_id',node_id2)\n",
    "data.insert(1,'node_x',nodesx2)\n",
    "data.insert(2,'node_y',nodesy2)\n",
    "data.insert(3,'value',value2)\n",
    "data.to_csv('Nodes_notin_wave_refract.csv', sep=',', index = False)"
   ]
  },
  {
   "cell_type": "markdown",
   "metadata": {},
   "source": [
    "Nodes used for sea_surface_height_above_geoid"
   ]
  },
  {
   "cell_type": "code",
   "execution_count": 4,
   "metadata": {},
   "outputs": [],
   "source": [
    "path  = os.path.join(root_dir, f13)\n",
    "with open(path, 'r') as f:\n",
    "    lines = f.readlines()\n",
    "    for i in range(0,len(lines)):\n",
    "        line = lines[i]\n",
    "        if i>20:\n",
    "            if 'sea_surface_height_above_geoid' in line:               \n",
    "                i = i+2\n",
    "                line = lines[i]\n",
    "                x=i\n",
    "                for ii in range(x,len(lines)):\n",
    "                    line = lines[ii]\n",
    "                    if 'surface_directional_effective_roughness_length' in line:\n",
    "                        break\n",
    "                    table.append(line.split('\\n')[0])\n",
    "for i in range(len(table)):\n",
    "    node_num.append(table[i].split(' ')[0])\n",
    "    wave_ref.append(table[i].split(' ')[1])   "
   ]
  },
  {
   "cell_type": "code",
   "execution_count": 11,
   "metadata": {},
   "outputs": [
    {
     "name": "stdout",
     "output_type": "stream",
     "text": [
      "\n",
      " Started comparing nodes at \n",
      "\n",
      "2018-06-28 13:01:10.046925\n"
     ]
    },
    {
     "ename": "KeyboardInterrupt",
     "evalue": "",
     "output_type": "error",
     "traceback": [
      "\u001b[1;31m---------------------------------------------------------------------------\u001b[0m",
      "\u001b[1;31mKeyboardInterrupt\u001b[0m                         Traceback (most recent call last)",
      "\u001b[1;32m<ipython-input-11-6d3ad980d13a>\u001b[0m in \u001b[0;36m<module>\u001b[1;34m()\u001b[0m\n\u001b[0;32m      5\u001b[0m \u001b[1;32mfor\u001b[0m \u001b[0mi\u001b[0m \u001b[1;32min\u001b[0m \u001b[0mrange\u001b[0m\u001b[1;33m(\u001b[0m\u001b[0mlen\u001b[0m\u001b[1;33m(\u001b[0m\u001b[0mnode_id\u001b[0m\u001b[1;33m)\u001b[0m\u001b[1;33m)\u001b[0m\u001b[1;33m:\u001b[0m\u001b[1;33m\u001b[0m\u001b[0m\n\u001b[0;32m      6\u001b[0m     \u001b[1;32mif\u001b[0m \u001b[0mnode_id\u001b[0m\u001b[1;33m[\u001b[0m\u001b[0mi\u001b[0m\u001b[1;33m]\u001b[0m \u001b[1;32mnot\u001b[0m \u001b[1;32min\u001b[0m \u001b[0mnode_num\u001b[0m\u001b[1;33m:\u001b[0m\u001b[1;33m\u001b[0m\u001b[0m\n\u001b[1;32m----> 7\u001b[1;33m         \u001b[0mnode_id2\u001b[0m\u001b[1;33m.\u001b[0m\u001b[0mappend\u001b[0m\u001b[1;33m(\u001b[0m\u001b[0mnode_id\u001b[0m\u001b[1;33m[\u001b[0m\u001b[0mi\u001b[0m\u001b[1;33m]\u001b[0m\u001b[1;33m)\u001b[0m\u001b[1;33m\u001b[0m\u001b[0m\n\u001b[0m\u001b[0;32m      8\u001b[0m         \u001b[0mnodesx2\u001b[0m\u001b[1;33m.\u001b[0m\u001b[0mappend\u001b[0m\u001b[1;33m(\u001b[0m\u001b[0mnodesx\u001b[0m\u001b[1;33m[\u001b[0m\u001b[0mi\u001b[0m\u001b[1;33m]\u001b[0m\u001b[1;33m)\u001b[0m\u001b[1;33m\u001b[0m\u001b[0m\n\u001b[0;32m      9\u001b[0m         \u001b[0mnodesy2\u001b[0m\u001b[1;33m.\u001b[0m\u001b[0mappend\u001b[0m\u001b[1;33m(\u001b[0m\u001b[0mnodesy\u001b[0m\u001b[1;33m[\u001b[0m\u001b[0mi\u001b[0m\u001b[1;33m]\u001b[0m\u001b[1;33m)\u001b[0m\u001b[1;33m\u001b[0m\u001b[0m\n",
      "\u001b[1;31mKeyboardInterrupt\u001b[0m: "
     ]
    }
   ],
   "source": [
    "nodesx2, nodesy2, value2, node_id2 = [], [], [], []\n",
    "i = 0\n",
    "a = dt.now()\n",
    "print(\"\\n Started comparing nodes at \\n\") \n",
    "print(a)\n",
    "for i in range(len(node_id)):\n",
    "    if node_id[i] not in node_num:\n",
    "        node_id2.append(node_id[i])\n",
    "        nodesx2.append(nodesx[i])\n",
    "        nodesy2.append(nodesy[i])\n",
    "        value2.append(value[i])\n",
    "table2 = ({'node_id':node_id2},{'node_x':nodesx2},{'node_y':nodesy2},{'value':value2})\n",
    "b = dt.now()\n",
    "c = b-a\n",
    "print(\"===========END========== \\n\")\n",
    "print(\"Processing Time : \")\n",
    "print(c)  "
   ]
  },
  {
   "cell_type": "code",
   "execution_count": null,
   "metadata": {},
   "outputs": [],
   "source": [
    "data = pd.DataFrame()\n",
    "data.insert(0,'node_id',node_id2)\n",
    "data.insert(1,'node_x',nodesx2)\n",
    "data.insert(2,'node_y',nodesy2)\n",
    "data.insert(3,'value',value2)\n",
    "data.to_csv('Nodes_not_using_geoid.csv', sep=',', index = False)"
   ]
  },
  {
   "cell_type": "markdown",
   "metadata": {},
   "source": [
    "### Nodes using Surface Directional Roughness length"
   ]
  },
  {
   "cell_type": "code",
   "execution_count": 7,
   "metadata": {},
   "outputs": [],
   "source": [
    "table0, node_num, rough = [], [], []\n",
    "path  = os.path.join(root_dir, f13)\n",
    "with open(path, 'r') as f:\n",
    "    lines = f.readlines()\n",
    "    for i in range(29,len(lines)):\n",
    "        line = lines[i]\n",
    "        if 'surface_directional_effective_roughness_length' in line:               \n",
    "            x = i+2\n",
    "            for ii in range(x,len(lines)):\n",
    "                line = lines[ii]\n",
    "                if 'surface_canopy_coefficient' in line:\n",
    "                    break\n",
    "                table0.append(line.split('\\n')[0])\n",
    "        elif 'surface_canopy_coefficient' in line:\n",
    "            break\n",
    "            \n",
    "for i in range(len(table0)):\n",
    "    node_num.append(table0[i].split(' ')[0])\n",
    "    rough.append(table0[i].split(' ')[1:12])   \n",
    "    \n",
    "   \n",
    "    "
   ]
  },
  {
   "cell_type": "code",
   "execution_count": null,
   "metadata": {},
   "outputs": [],
   "source": []
  },
  {
   "cell_type": "code",
   "execution_count": 9,
   "metadata": {},
   "outputs": [
    {
     "name": "stdout",
     "output_type": "stream",
     "text": [
      "\n",
      " Started comparing nodes at \n",
      "\n",
      "2018-06-29 12:38:39.340404\n"
     ]
    },
    {
     "ename": "KeyboardInterrupt",
     "evalue": "",
     "output_type": "error",
     "traceback": [
      "\u001b[1;31m---------------------------------------------------------------------------\u001b[0m",
      "\u001b[1;31mKeyboardInterrupt\u001b[0m                         Traceback (most recent call last)",
      "\u001b[1;32m<ipython-input-9-fc06493eee8c>\u001b[0m in \u001b[0;36m<module>\u001b[1;34m()\u001b[0m\n\u001b[0;32m      3\u001b[0m \u001b[0mprint\u001b[0m\u001b[1;33m(\u001b[0m\u001b[1;34m\"\\n Started comparing nodes at \\n\"\u001b[0m\u001b[1;33m)\u001b[0m\u001b[1;33m\u001b[0m\u001b[0m\n\u001b[0;32m      4\u001b[0m \u001b[0mprint\u001b[0m\u001b[1;33m(\u001b[0m\u001b[0ma\u001b[0m\u001b[1;33m)\u001b[0m\u001b[1;33m\u001b[0m\u001b[0m\n\u001b[1;32m----> 5\u001b[1;33m \u001b[1;32mfor\u001b[0m \u001b[0mi\u001b[0m \u001b[1;32min\u001b[0m \u001b[0mrange\u001b[0m\u001b[1;33m(\u001b[0m\u001b[1;36m0\u001b[0m\u001b[1;33m,\u001b[0m\u001b[0mlen\u001b[0m\u001b[1;33m(\u001b[0m\u001b[0mtable\u001b[0m\u001b[1;33m)\u001b[0m\u001b[1;33m)\u001b[0m\u001b[1;33m:\u001b[0m\u001b[1;33m\u001b[0m\u001b[0m\n\u001b[0m\u001b[0;32m      6\u001b[0m     \u001b[1;32mif\u001b[0m \u001b[0mtable\u001b[0m\u001b[1;33m[\u001b[0m\u001b[1;34m'node_id'\u001b[0m\u001b[1;33m]\u001b[0m\u001b[1;33m[\u001b[0m\u001b[0mi\u001b[0m\u001b[1;33m]\u001b[0m \u001b[1;32mnot\u001b[0m \u001b[1;32min\u001b[0m \u001b[0mnode_num\u001b[0m\u001b[1;33m:\u001b[0m\u001b[1;33m\u001b[0m\u001b[0m\n\u001b[0;32m      7\u001b[0m         \u001b[0mnode_id2\u001b[0m\u001b[1;33m.\u001b[0m\u001b[0mappend\u001b[0m\u001b[1;33m(\u001b[0m\u001b[0mtable\u001b[0m\u001b[1;33m[\u001b[0m\u001b[1;34m'node_id'\u001b[0m\u001b[1;33m]\u001b[0m\u001b[1;33m[\u001b[0m\u001b[0mi\u001b[0m\u001b[1;33m]\u001b[0m\u001b[1;33m)\u001b[0m\u001b[1;33m\u001b[0m\u001b[0m\n",
      "\u001b[1;31mKeyboardInterrupt\u001b[0m: "
     ]
    }
   ],
   "source": [
    "nodesx2, nodesy2, value2, node_id2 = [], [], [], []\n",
    "a = dt.now()\n",
    "print(\"\\n Started comparing nodes at \\n\") \n",
    "print(a)\n",
    "for i in range(0,len(table)):\n",
    "    if table['node_id'][i] not in node_num:\n",
    "        node_id2.append(table['node_id'][i])\n",
    "        nodesx2.append(table['node_x'][i])\n",
    "        nodesy2.append(table['node_y'][i])\n",
    "        value2.append(table['value'][i])\n",
    "b = dt.now()\n",
    "c = b-a\n",
    "print(\"===========END========== \\n\")\n",
    "print(\"Processing Time : \")\n",
    "print(c)  \n",
    "                "
   ]
  },
  {
   "cell_type": "code",
   "execution_count": 12,
   "metadata": {},
   "outputs": [],
   "source": [
    "data = pd.DataFrame()\n",
    "data.insert(0,'node_id',node_id2)\n",
    "data.insert(1,'node_x',nodesx2)\n",
    "data.insert(2,'node_y',nodesy2)\n",
    "data.insert(3,'value',value2)\n",
    "data.to_csv('Nodes_with_no_rough.csv', sep=',', index = False)"
   ]
  },
  {
   "cell_type": "code",
   "execution_count": null,
   "metadata": {},
   "outputs": [],
   "source": []
  },
  {
   "cell_type": "code",
   "execution_count": null,
   "metadata": {},
   "outputs": [],
   "source": []
  },
  {
   "cell_type": "code",
   "execution_count": 129,
   "metadata": {},
   "outputs": [],
   "source": [
    "locations  = []\n",
    "locations2 = []"
   ]
  },
  {
   "cell_type": "code",
   "execution_count": 130,
   "metadata": {},
   "outputs": [],
   "source": [
    "for i in range(len(nodesy2)):\n",
    "    y = float(nodesy2[i])\n",
    "    x = float(nodesx2[i])\n",
    "    locations.append(y)\n",
    "    locations2.append(x)\n",
    "xx = np.array(locations2)\n",
    "yy = np.array(locations)"
   ]
  },
  {
   "cell_type": "code",
   "execution_count": 150,
   "metadata": {},
   "outputs": [],
   "source": [
    "a = (locations,locations2)\n"
   ]
  },
  {
   "cell_type": "code",
   "execution_count": 160,
   "metadata": {},
   "outputs": [
    {
     "data": {
      "application/vnd.jupyter.widget-view+json": {
       "model_id": "9804df2fc6a64fc18625f2efdbfd6580",
       "version_major": 2,
       "version_minor": 0
      },
      "text/plain": [
       "Map(basemap={'url': 'https://{s}.tile.openstreetmap.org/{z}/{x}/{y}.png', 'max_zoom': 19, 'attribution': 'Map …"
      ]
     },
     "metadata": {},
     "output_type": "display_data"
    }
   ],
   "source": [
    "center = [34.741918, -76.233942]\n",
    "zoom = 6\n",
    "m = Map(center=center, zoom=zoom)\n",
    "\n",
    "m"
   ]
  },
  {
   "cell_type": "code",
   "execution_count": null,
   "metadata": {},
   "outputs": [],
   "source": []
  }
 ],
 "metadata": {
  "kernelspec": {
   "display_name": "Python 3",
   "language": "python",
   "name": "python3"
  },
  "language_info": {
   "codemirror_mode": {
    "name": "ipython",
    "version": 3
   },
   "file_extension": ".py",
   "mimetype": "text/x-python",
   "name": "python",
   "nbconvert_exporter": "python",
   "pygments_lexer": "ipython3",
   "version": "3.6.5"
  }
 },
 "nbformat": 4,
 "nbformat_minor": 2
}
