{
 "cells": [
  {
   "cell_type": "code",
   "execution_count": 2,
   "metadata": {},
   "outputs": [
    {
     "name": "stdout",
     "output_type": "stream",
     "text": [
      "\f",
      "\n"
     ]
    }
   ],
   "source": [
    "%clear()\n",
    "%reset -f\n",
    "\n",
    "import  pylab\n",
    "import pandas as pd\n",
    "import  numpy as np\n",
    "import os\n",
    "import gzip\n",
    "import shutil \n",
    "import glob\n"
   ]
  },
  {
   "cell_type": "code",
   "execution_count": 4,
   "metadata": {},
   "outputs": [],
   "source": [
    "# Paths and files initialized\n",
    "root_dir = r\"N:\\TECH\\COASTAL\\NC_STORM_SURGE_MODELING_UPDATE\\NC_TSDN\\2_Engineering_Analyses\\IDS_No_3\\ProductionSimulations\\Tropical\"\n",
    "f_path = r\"C:\\Users\\tmiesse\\Work\\North_Carolina\\Old_Parameters\"\n",
    "\n",
    "myGlob = glob.glob(r\"N:\\TECH\\COASTAL\\NC_STORM_SURGE_MODELING_UPDATE\\NC_TSDN\\2_Engineering_Analyses\\IDS_No_3\\ProductionSimulations\\Tropical*\")\n",
    "numb_dir = len(myGlob)\n",
    "\n",
    "adc0 = 'adcirc0'\n",
    "adc1 = 'adcirc1'\n",
    "someID = 'j'\n",
    "\n",
    "name0, name1 = [], []\n",
    "contents0, contents1 = [], []\n",
    "out_adc0,out_adc1 = [], []\n",
    "adcirc1s, adcirc0s  = [],[]\n"
   ]
  },
  {
   "cell_type": "code",
   "execution_count": 5,
   "metadata": {},
   "outputs": [],
   "source": [
    "# Find each fort.15 directory\n",
    "\n",
    "gzs = glob.glob(os.path.join(root_dir, \"**\", \"*.15.gz\"), recursive=True)\n",
    "for gz in gzs:\n",
    "    if 'adcirc.1' in gz: \n",
    "        adcirc1s.append(gz)\n",
    "    else:\n",
    "        adcirc0s.append(gz)"
   ]
  },
  {
   "cell_type": "code",
   "execution_count": 7,
   "metadata": {},
   "outputs": [
    {
     "ename": "ValueError",
     "evalue": "Length of values does not match length of index",
     "output_type": "error",
     "traceback": [
      "\u001b[1;31m---------------------------------------------------------------------------\u001b[0m",
      "\u001b[1;31mValueError\u001b[0m                                Traceback (most recent call last)",
      "\u001b[1;32m<ipython-input-7-c257e262d8db>\u001b[0m in \u001b[0;36m<module>\u001b[1;34m()\u001b[0m\n\u001b[0;32m     35\u001b[0m         \u001b[0mtable01\u001b[0m \u001b[1;33m=\u001b[0m \u001b[0mpd\u001b[0m\u001b[1;33m.\u001b[0m\u001b[0mconcat\u001b[0m\u001b[1;33m(\u001b[0m\u001b[1;33m[\u001b[0m\u001b[0mtable01\u001b[0m\u001b[1;33m,\u001b[0m\u001b[0mtable0\u001b[0m\u001b[1;33m]\u001b[0m\u001b[1;33m)\u001b[0m\u001b[1;33m\u001b[0m\u001b[0m\n\u001b[0;32m     36\u001b[0m \u001b[1;33m\u001b[0m\u001b[0m\n\u001b[1;32m---> 37\u001b[1;33m \u001b[0mtable01\u001b[0m\u001b[1;33m.\u001b[0m\u001b[0minsert\u001b[0m\u001b[1;33m(\u001b[0m\u001b[1;36m0\u001b[0m\u001b[1;33m,\u001b[0m\u001b[1;34m'Storm'\u001b[0m\u001b[1;33m,\u001b[0m\u001b[0mname0\u001b[0m\u001b[1;33m)\u001b[0m\u001b[1;33m\u001b[0m\u001b[0m\n\u001b[0m\u001b[0;32m     38\u001b[0m \u001b[0mtable01\u001b[0m\u001b[1;33m.\u001b[0m\u001b[0mto_csv\u001b[0m\u001b[1;33m(\u001b[0m\u001b[0mos\u001b[0m\u001b[1;33m.\u001b[0m\u001b[0mpath\u001b[0m\u001b[1;33m.\u001b[0m\u001b[0mjoin\u001b[0m\u001b[1;33m(\u001b[0m\u001b[0mf_path\u001b[0m\u001b[1;33m,\u001b[0m\u001b[1;34m'adcirc0s.csv'\u001b[0m\u001b[1;33m)\u001b[0m\u001b[1;33m,\u001b[0m\u001b[0msep\u001b[0m\u001b[1;33m=\u001b[0m\u001b[1;34m','\u001b[0m\u001b[1;33m)\u001b[0m\u001b[1;33m\u001b[0m\u001b[0m\n",
      "\u001b[1;32m~\\AppData\\Local\\Continuum\\anaconda3\\lib\\site-packages\\pandas\\core\\frame.py\u001b[0m in \u001b[0;36minsert\u001b[1;34m(self, loc, column, value, allow_duplicates)\u001b[0m\n\u001b[0;32m   3215\u001b[0m         \"\"\"\n\u001b[0;32m   3216\u001b[0m         \u001b[0mself\u001b[0m\u001b[1;33m.\u001b[0m\u001b[0m_ensure_valid_index\u001b[0m\u001b[1;33m(\u001b[0m\u001b[0mvalue\u001b[0m\u001b[1;33m)\u001b[0m\u001b[1;33m\u001b[0m\u001b[0m\n\u001b[1;32m-> 3217\u001b[1;33m         \u001b[0mvalue\u001b[0m \u001b[1;33m=\u001b[0m \u001b[0mself\u001b[0m\u001b[1;33m.\u001b[0m\u001b[0m_sanitize_column\u001b[0m\u001b[1;33m(\u001b[0m\u001b[0mcolumn\u001b[0m\u001b[1;33m,\u001b[0m \u001b[0mvalue\u001b[0m\u001b[1;33m,\u001b[0m \u001b[0mbroadcast\u001b[0m\u001b[1;33m=\u001b[0m\u001b[1;32mFalse\u001b[0m\u001b[1;33m)\u001b[0m\u001b[1;33m\u001b[0m\u001b[0m\n\u001b[0m\u001b[0;32m   3218\u001b[0m         self._data.insert(loc, column, value,\n\u001b[0;32m   3219\u001b[0m                           allow_duplicates=allow_duplicates)\n",
      "\u001b[1;32m~\\AppData\\Local\\Continuum\\anaconda3\\lib\\site-packages\\pandas\\core\\frame.py\u001b[0m in \u001b[0;36m_sanitize_column\u001b[1;34m(self, key, value, broadcast)\u001b[0m\n\u001b[0;32m   3386\u001b[0m \u001b[1;33m\u001b[0m\u001b[0m\n\u001b[0;32m   3387\u001b[0m             \u001b[1;31m# turn me into an ndarray\u001b[0m\u001b[1;33m\u001b[0m\u001b[1;33m\u001b[0m\u001b[0m\n\u001b[1;32m-> 3388\u001b[1;33m             \u001b[0mvalue\u001b[0m \u001b[1;33m=\u001b[0m \u001b[0m_sanitize_index\u001b[0m\u001b[1;33m(\u001b[0m\u001b[0mvalue\u001b[0m\u001b[1;33m,\u001b[0m \u001b[0mself\u001b[0m\u001b[1;33m.\u001b[0m\u001b[0mindex\u001b[0m\u001b[1;33m,\u001b[0m \u001b[0mcopy\u001b[0m\u001b[1;33m=\u001b[0m\u001b[1;32mFalse\u001b[0m\u001b[1;33m)\u001b[0m\u001b[1;33m\u001b[0m\u001b[0m\n\u001b[0m\u001b[0;32m   3389\u001b[0m             \u001b[1;32mif\u001b[0m \u001b[1;32mnot\u001b[0m \u001b[0misinstance\u001b[0m\u001b[1;33m(\u001b[0m\u001b[0mvalue\u001b[0m\u001b[1;33m,\u001b[0m \u001b[1;33m(\u001b[0m\u001b[0mnp\u001b[0m\u001b[1;33m.\u001b[0m\u001b[0mndarray\u001b[0m\u001b[1;33m,\u001b[0m \u001b[0mIndex\u001b[0m\u001b[1;33m)\u001b[0m\u001b[1;33m)\u001b[0m\u001b[1;33m:\u001b[0m\u001b[1;33m\u001b[0m\u001b[0m\n\u001b[0;32m   3390\u001b[0m                 \u001b[1;32mif\u001b[0m \u001b[0misinstance\u001b[0m\u001b[1;33m(\u001b[0m\u001b[0mvalue\u001b[0m\u001b[1;33m,\u001b[0m \u001b[0mlist\u001b[0m\u001b[1;33m)\u001b[0m \u001b[1;32mand\u001b[0m \u001b[0mlen\u001b[0m\u001b[1;33m(\u001b[0m\u001b[0mvalue\u001b[0m\u001b[1;33m)\u001b[0m \u001b[1;33m>\u001b[0m \u001b[1;36m0\u001b[0m\u001b[1;33m:\u001b[0m\u001b[1;33m\u001b[0m\u001b[0m\n",
      "\u001b[1;32m~\\AppData\\Local\\Continuum\\anaconda3\\lib\\site-packages\\pandas\\core\\series.py\u001b[0m in \u001b[0;36m_sanitize_index\u001b[1;34m(data, index, copy)\u001b[0m\n\u001b[0;32m   3996\u001b[0m \u001b[1;33m\u001b[0m\u001b[0m\n\u001b[0;32m   3997\u001b[0m     \u001b[1;32mif\u001b[0m \u001b[0mlen\u001b[0m\u001b[1;33m(\u001b[0m\u001b[0mdata\u001b[0m\u001b[1;33m)\u001b[0m \u001b[1;33m!=\u001b[0m \u001b[0mlen\u001b[0m\u001b[1;33m(\u001b[0m\u001b[0mindex\u001b[0m\u001b[1;33m)\u001b[0m\u001b[1;33m:\u001b[0m\u001b[1;33m\u001b[0m\u001b[0m\n\u001b[1;32m-> 3998\u001b[1;33m         \u001b[1;32mraise\u001b[0m \u001b[0mValueError\u001b[0m\u001b[1;33m(\u001b[0m\u001b[1;34m'Length of values does not match length of '\u001b[0m \u001b[1;34m'index'\u001b[0m\u001b[1;33m)\u001b[0m\u001b[1;33m\u001b[0m\u001b[0m\n\u001b[0m\u001b[0;32m   3999\u001b[0m \u001b[1;33m\u001b[0m\u001b[0m\n\u001b[0;32m   4000\u001b[0m     \u001b[1;32mif\u001b[0m \u001b[0misinstance\u001b[0m\u001b[1;33m(\u001b[0m\u001b[0mdata\u001b[0m\u001b[1;33m,\u001b[0m \u001b[0mABCIndexClass\u001b[0m\u001b[1;33m)\u001b[0m \u001b[1;32mand\u001b[0m \u001b[1;32mnot\u001b[0m \u001b[0mcopy\u001b[0m\u001b[1;33m:\u001b[0m\u001b[1;33m\u001b[0m\u001b[0m\n",
      "\u001b[1;31mValueError\u001b[0m: Length of values does not match length of index"
     ]
    }
   ],
   "source": [
    "# Read and input each fort.15 file in adcirc0 into a table     \n",
    "\n",
    "for i in range(0,len(adcirc0s)):\n",
    "    # create a text file to write the fort 15 in       \n",
    "    out_adc0, out_adc1 = [],[]    \n",
    "    out_adc0 = os.path.join(adcirc0s[i].split(\"fort.15.gz\")[0],\"fort.txt\")  \n",
    "    \n",
    "    # Unzip file and copy file to a text file\n",
    "    with gzip.open(adcirc0s[i],'rb') as f_in:\n",
    "        with open(out_adc0, 'wb') as f_out:\n",
    "            shutil.copyfileobj(f_in,f_out)\n",
    "\n",
    "    # read the fort15 files in adirc0        \n",
    "    output_f = os.path.join(adcirc0s[i].split(\"fort.15.gz\")[0], '{}_{}.txt'.format(adc0, someID))\n",
    "    \n",
    "    content,descr = [], []\n",
    "    with open(output_f, 'w') as fout:\n",
    "        with open(out_adc0, 'r') as fin:\n",
    "            lines = fin.readlines()\n",
    "            for line in lines:\n",
    "                if '!' in line:\n",
    "                    data = line.split('!')\n",
    "                    variable = data[0].strip()\n",
    "                    parameter= data[1].split('-')[0].replace(\"\\n\",\"\")\n",
    "                    content.append(variable)\n",
    "                    descr.append(parameter)\n",
    "                    \n",
    "    name0.append(adcirc0s[i].split('\\\\')[9])\n",
    "    contents0 = np.reshape(content,(1,100))\n",
    "    del content\n",
    "    if i==0:\n",
    "        table01 = pd.DataFrame(contents0,columns=descr)\n",
    "    else:\n",
    "        table0 = pd.DataFrame(contents0, columns=descr)\n",
    "        table01 = pd.concat([table01,table0])\n",
    "        \n",
    "table01.insert(0,'Storm',name0)\n",
    "table01.to_csv(os.path.join(f_path,'adcirc0s.csv'),sep=',')"
   ]
  },
  {
   "cell_type": "code",
   "execution_count": null,
   "metadata": {},
   "outputs": [],
   "source": [
    "# Read and Input each fort.15 file in adcirc1 into a table \n",
    "\n",
    "for i in range(0,len(adcirc1s)):\n",
    "    # create a text file to write the fort 15 in       \n",
    "   \n",
    "    out_adc1 = os.path.join(adcirc1s[0].split(\"fort.15.gz\")[0],\"fort.txt\")    \n",
    "    \n",
    "    # Unzip file and copy file to a text file\n",
    "    with gzip.open(adcirc1s[i],'rb') as f_in:\n",
    "        with open(out_adc1, 'wb') as f_out:\n",
    "            shutil.copyfileobj(f_in,f_out)\n",
    "\n",
    "    # read the fort15 files in adirc0        \n",
    "    output_f = os.path.join(adcirc1s[i].split(\"fort.15.gz\")[0], '{}_{}.txt'.format(adc1, someID))\n",
    "\n",
    "    content,descr = [], []\n",
    "    with open(output_f, 'w') as fout:\n",
    "        with open(out_adc1, 'r') as fin:\n",
    "            lines = fin.readlines()\n",
    "            for line in lines:\n",
    "                if '!' in line:\n",
    "                    data = line.split('!')\n",
    "                    variable = data[0].strip()\n",
    "                    parameter= data[1].split('-')[0].replace(\"\\n\",\"\")\n",
    "                    content.append(variable)\n",
    "                    descr.append(parameter)\n",
    "\n",
    "    name1.append(adcirc1s[i].split('\\\\')[9])\n",
    "    contents1 = np.reshape(content,(1,100))\n",
    "    del content\n",
    "    if i==0:\n",
    "        table12 = pd.DataFrame(contents1,columns=descr)\n",
    "    else:\n",
    "        table1 = pd.DataFrame(contents1, columns=descr)\n",
    "        table12 = pd.concat([table12,table1])\n",
    "\n",
    "        \n",
    "table12.insert(0,'Storm',name1)\n",
    "table12.to_csv(os.path.join(f_path,'adcirc1s.csv'),sep=',')"
   ]
  }
 ],
 "metadata": {
  "kernelspec": {
   "display_name": "Python 3",
   "language": "python",
   "name": "python3"
  },
  "language_info": {
   "codemirror_mode": {
    "name": "ipython",
    "version": 3
   },
   "file_extension": ".py",
   "mimetype": "text/x-python",
   "name": "python",
   "nbconvert_exporter": "python",
   "pygments_lexer": "ipython3",
   "version": "3.6.5"
  }
 },
 "nbformat": 4,
 "nbformat_minor": 2
}
