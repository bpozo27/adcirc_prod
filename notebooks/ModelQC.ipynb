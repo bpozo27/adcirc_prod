{
 "cells": [
  {
   "cell_type": "markdown",
   "metadata": {},
   "source": [
    "# Model QC Notebook\n",
    "\n",
    "<img style=\"float:right;\" src=\"https://id.dewberry.com/clients/Templates/DewberryLogo_RGB.png\" width=150px>"
   ]
  },
  {
   "cell_type": "markdown",
   "metadata": {},
   "source": [
    "### Description\n",
    "#### - What is needed to use this notebook\n",
    "  1. adcirc library\n",
    "  \n",
    "#### - Steps to follow:\n",
    "  1. Import Libraries & Assign Paths\n",
    "  2. Assign Tasks\n",
    "  3. Save Report"
   ]
  },
  {
   "cell_type": "markdown",
   "metadata": {},
   "source": [
    "### 1. Import Libraries, Assign Paths, & Variables"
   ]
  },
  {
   "cell_type": "code",
   "execution_count": 1,
   "metadata": {},
   "outputs": [
    {
     "data": {
      "text/html": [
       "<script>requirejs.config({paths: { 'plotly': ['https://cdn.plot.ly/plotly-latest.min']},});if(!window.Plotly) {{require(['plotly'],function(plotly) {window.Plotly=plotly;});}}</script>"
      ],
      "text/vnd.plotly.v1+html": [
       "<script>requirejs.config({paths: { 'plotly': ['https://cdn.plot.ly/plotly-latest.min']},});if(!window.Plotly) {{require(['plotly'],function(plotly) {window.Plotly=plotly;});}}</script>"
      ]
     },
     "metadata": {},
     "output_type": "display_data"
    },
    {
     "data": {
      "text/html": [
       "<script>requirejs.config({paths: { 'plotly': ['https://cdn.plot.ly/plotly-latest.min']},});if(!window.Plotly) {{require(['plotly'],function(plotly) {window.Plotly=plotly;});}}</script>"
      ],
      "text/vnd.plotly.v1+html": [
       "<script>requirejs.config({paths: { 'plotly': ['https://cdn.plot.ly/plotly-latest.min']},});if(!window.Plotly) {{require(['plotly'],function(plotly) {window.Plotly=plotly;});}}</script>"
      ]
     },
     "metadata": {},
     "output_type": "display_data"
    }
   ],
   "source": [
    "from adcirc import adcirc\n",
    "import os\n",
    "import pandas as pd\n",
    "root_dir = r'P:\\Temp\\tmiesse\\projects\\north_carolina\\past_studies\\refinednewtopo'\n",
    "f13, f14 = 'fort.13', 'fort.14'\n",
    "fort13 = adcirc(root_dir,f13)\n",
    "fort14 = adcirc(root_dir,f14)"
   ]
  },
  {
   "cell_type": "markdown",
   "metadata": {},
   "source": [
    "### 2. Tasks"
   ]
  },
  {
   "cell_type": "markdown",
   "metadata": {},
   "source": [
    "#### a. Find the attributes used in the Fort.13 file"
   ]
  },
  {
   "cell_type": "code",
   "execution_count": 2,
   "metadata": {},
   "outputs": [
    {
     "data": {
      "text/html": [
       "<div>\n",
       "<style scoped>\n",
       "    .dataframe tbody tr th:only-of-type {\n",
       "        vertical-align: middle;\n",
       "    }\n",
       "\n",
       "    .dataframe tbody tr th {\n",
       "        vertical-align: top;\n",
       "    }\n",
       "\n",
       "    .dataframe thead th {\n",
       "        text-align: right;\n",
       "    }\n",
       "</style>\n",
       "<table border=\"1\" class=\"dataframe\">\n",
       "  <thead>\n",
       "    <tr style=\"text-align: right;\">\n",
       "      <th></th>\n",
       "      <th>Parameter</th>\n",
       "    </tr>\n",
       "  </thead>\n",
       "  <tbody>\n",
       "    <tr>\n",
       "      <th>0</th>\n",
       "      <td>wave_refraction_in_swan</td>\n",
       "    </tr>\n",
       "    <tr>\n",
       "      <th>1</th>\n",
       "      <td>sea_surface_height_above_geoid</td>\n",
       "    </tr>\n",
       "    <tr>\n",
       "      <th>2</th>\n",
       "      <td>surface_directional_effective_roughness_length</td>\n",
       "    </tr>\n",
       "    <tr>\n",
       "      <th>3</th>\n",
       "      <td>surface_canopy_coefficient</td>\n",
       "    </tr>\n",
       "    <tr>\n",
       "      <th>4</th>\n",
       "      <td>mannings_n_at_sea_floor</td>\n",
       "    </tr>\n",
       "    <tr>\n",
       "      <th>5</th>\n",
       "      <td>primitive_weighting_in_continuity_equation</td>\n",
       "    </tr>\n",
       "    <tr>\n",
       "      <th>6</th>\n",
       "      <td>average_horizontal_eddy_viscosity_in_sea_water...</td>\n",
       "    </tr>\n",
       "  </tbody>\n",
       "</table>\n",
       "</div>"
      ],
      "text/plain": [
       "                                           Parameter\n",
       "0                            wave_refraction_in_swan\n",
       "1                     sea_surface_height_above_geoid\n",
       "2     surface_directional_effective_roughness_length\n",
       "3                         surface_canopy_coefficient\n",
       "4                            mannings_n_at_sea_floor\n",
       "5         primitive_weighting_in_continuity_equation\n",
       "6  average_horizontal_eddy_viscosity_in_sea_water..."
      ]
     },
     "execution_count": 2,
     "metadata": {},
     "output_type": "execute_result"
    }
   ],
   "source": [
    "attr = fort13.attributes()\n",
    "attr"
   ]
  },
  {
   "cell_type": "markdown",
   "metadata": {},
   "source": [
    "#### b. Read nodal attributes in fort.13 into a table"
   ]
  },
  {
   "cell_type": "code",
   "execution_count": 3,
   "metadata": {},
   "outputs": [
    {
     "name": "stdout",
     "output_type": "stream",
     "text": [
      "\n",
      " Started finding nodes in attributes at \n",
      "\n",
      "2018-07-17 15:34:42.460799\n",
      "===========END========== \n",
      "\n",
      "Processing Time : \n",
      "0:03:32.663992\n"
     ]
    },
    {
     "data": {
      "text/html": [
       "<div>\n",
       "<style scoped>\n",
       "    .dataframe tbody tr th:only-of-type {\n",
       "        vertical-align: middle;\n",
       "    }\n",
       "\n",
       "    .dataframe tbody tr th {\n",
       "        vertical-align: top;\n",
       "    }\n",
       "\n",
       "    .dataframe thead th {\n",
       "        text-align: right;\n",
       "    }\n",
       "</style>\n",
       "<table border=\"1\" class=\"dataframe\">\n",
       "  <thead>\n",
       "    <tr style=\"text-align: right;\">\n",
       "      <th></th>\n",
       "      <th>wave_refraction</th>\n",
       "      <th>sea_surface</th>\n",
       "      <th>surface_directional</th>\n",
       "      <th>surface_canopy</th>\n",
       "      <th>mannings_n</th>\n",
       "      <th>primitive_weighting</th>\n",
       "      <th>average_horizontal</th>\n",
       "    </tr>\n",
       "  </thead>\n",
       "  <tbody>\n",
       "    <tr>\n",
       "      <th>0</th>\n",
       "      <td>1 0.000000</td>\n",
       "      <td>NaN</td>\n",
       "      <td>15490 0.0106490 0.00182500 0.00100000 0.001000...</td>\n",
       "      <td>16299 0.000000</td>\n",
       "      <td>24262 0.0500000</td>\n",
       "      <td>1 0.0200000</td>\n",
       "      <td>1 4.00000</td>\n",
       "    </tr>\n",
       "    <tr>\n",
       "      <th>1</th>\n",
       "      <td>2 0.000000</td>\n",
       "      <td>NaN</td>\n",
       "      <td>15491 0.00421200 0.00109300 0.00100000 0.00100...</td>\n",
       "      <td>21471 0.000000</td>\n",
       "      <td>25236 0.0500000</td>\n",
       "      <td>2 0.00500000</td>\n",
       "      <td>2 4.00000</td>\n",
       "    </tr>\n",
       "    <tr>\n",
       "      <th>2</th>\n",
       "      <td>3 0.000000</td>\n",
       "      <td>NaN</td>\n",
       "      <td>16297 0.0511780 0.0586370 0.131352 0.00131000 ...</td>\n",
       "      <td>25239 0.000000</td>\n",
       "      <td>25237 0.0370000</td>\n",
       "      <td>3 0.00500000</td>\n",
       "      <td>3 4.00000</td>\n",
       "    </tr>\n",
       "    <tr>\n",
       "      <th>3</th>\n",
       "      <td>4 0.000000</td>\n",
       "      <td>NaN</td>\n",
       "      <td>16298 0.0442180 0.0539520 0.0202930 0.0458700 ...</td>\n",
       "      <td>25245 2.27374e-013</td>\n",
       "      <td>25239 0.100000</td>\n",
       "      <td>4 0.00500000</td>\n",
       "      <td>4 4.00000</td>\n",
       "    </tr>\n",
       "    <tr>\n",
       "      <th>4</th>\n",
       "      <td>5 0.000000</td>\n",
       "      <td>NaN</td>\n",
       "      <td>16299 0.109154 0.143936 0.173318 0.123676 0.09...</td>\n",
       "      <td>25255 0.000000</td>\n",
       "      <td>25240 0.0370000</td>\n",
       "      <td>5 0.00500000</td>\n",
       "      <td>5 4.00000</td>\n",
       "    </tr>\n",
       "  </tbody>\n",
       "</table>\n",
       "</div>"
      ],
      "text/plain": [
       "  wave_refraction sea_surface  \\\n",
       "0      1 0.000000         NaN   \n",
       "1      2 0.000000         NaN   \n",
       "2      3 0.000000         NaN   \n",
       "3      4 0.000000         NaN   \n",
       "4      5 0.000000         NaN   \n",
       "\n",
       "                                 surface_directional      surface_canopy  \\\n",
       "0  15490 0.0106490 0.00182500 0.00100000 0.001000...      16299 0.000000   \n",
       "1  15491 0.00421200 0.00109300 0.00100000 0.00100...      21471 0.000000   \n",
       "2  16297 0.0511780 0.0586370 0.131352 0.00131000 ...      25239 0.000000   \n",
       "3  16298 0.0442180 0.0539520 0.0202930 0.0458700 ...  25245 2.27374e-013   \n",
       "4  16299 0.109154 0.143936 0.173318 0.123676 0.09...      25255 0.000000   \n",
       "\n",
       "        mannings_n primitive_weighting average_horizontal  \n",
       "0  24262 0.0500000         1 0.0200000          1 4.00000  \n",
       "1  25236 0.0500000        2 0.00500000          2 4.00000  \n",
       "2  25237 0.0370000        3 0.00500000          3 4.00000  \n",
       "3   25239 0.100000        4 0.00500000          4 4.00000  \n",
       "4  25240 0.0370000        5 0.00500000          5 4.00000  "
      ]
     },
     "execution_count": 3,
     "metadata": {},
     "output_type": "execute_result"
    }
   ],
   "source": [
    "table13 = fort13.read_fort13(attr)\n",
    "table13.head()"
   ]
  },
  {
   "cell_type": "markdown",
   "metadata": {},
   "source": [
    "#### c. Open and Read the nodes/locations in the fort14"
   ]
  },
  {
   "cell_type": "code",
   "execution_count": 4,
   "metadata": {},
   "outputs": [
    {
     "data": {
      "text/html": [
       "<div>\n",
       "<style scoped>\n",
       "    .dataframe tbody tr th:only-of-type {\n",
       "        vertical-align: middle;\n",
       "    }\n",
       "\n",
       "    .dataframe tbody tr th {\n",
       "        vertical-align: top;\n",
       "    }\n",
       "\n",
       "    .dataframe thead th {\n",
       "        text-align: right;\n",
       "    }\n",
       "</style>\n",
       "<table border=\"1\" class=\"dataframe\">\n",
       "  <thead>\n",
       "    <tr style=\"text-align: right;\">\n",
       "      <th></th>\n",
       "      <th>node_id</th>\n",
       "      <th>node_x</th>\n",
       "      <th>node_y</th>\n",
       "      <th>value</th>\n",
       "    </tr>\n",
       "  </thead>\n",
       "  <tbody>\n",
       "    <tr>\n",
       "      <th>0</th>\n",
       "      <td>1</td>\n",
       "      <td>-60.0400300000</td>\n",
       "      <td>8.5596800000</td>\n",
       "      <td>6.1570001000</td>\n",
       "    </tr>\n",
       "    <tr>\n",
       "      <th>1</th>\n",
       "      <td>2</td>\n",
       "      <td>-60.0402700000</td>\n",
       "      <td>8.6642500000</td>\n",
       "      <td>12.8529997000</td>\n",
       "    </tr>\n",
       "    <tr>\n",
       "      <th>2</th>\n",
       "      <td>3</td>\n",
       "      <td>-60.0405100000</td>\n",
       "      <td>8.7688200000</td>\n",
       "      <td>25.3540001000</td>\n",
       "    </tr>\n",
       "    <tr>\n",
       "      <th>3</th>\n",
       "      <td>4</td>\n",
       "      <td>-60.0409900000</td>\n",
       "      <td>8.9779600000</td>\n",
       "      <td>46.1559982000</td>\n",
       "    </tr>\n",
       "    <tr>\n",
       "      <th>4</th>\n",
       "      <td>5</td>\n",
       "      <td>-60.0414700000</td>\n",
       "      <td>9.1871000000</td>\n",
       "      <td>26.4549999000</td>\n",
       "    </tr>\n",
       "  </tbody>\n",
       "</table>\n",
       "</div>"
      ],
      "text/plain": [
       "  node_id          node_x        node_y          value\n",
       "0       1  -60.0400300000  8.5596800000   6.1570001000\n",
       "1       2  -60.0402700000  8.6642500000  12.8529997000\n",
       "2       3  -60.0405100000  8.7688200000  25.3540001000\n",
       "3       4  -60.0409900000  8.9779600000  46.1559982000\n",
       "4       5  -60.0414700000  9.1871000000  26.4549999000"
      ]
     },
     "execution_count": 4,
     "metadata": {},
     "output_type": "execute_result"
    }
   ],
   "source": [
    "table14 = fort14.read_fort14()\n",
    "table14.head()"
   ]
  },
  {
   "cell_type": "markdown",
   "metadata": {},
   "source": [
    "#### d. Seperate the nodes and data in the fort.13 table "
   ]
  },
  {
   "cell_type": "code",
   "execution_count": 6,
   "metadata": {},
   "outputs": [
    {
     "ename": "NameError",
     "evalue": "name 'table_v2' is not defined",
     "output_type": "error",
     "traceback": [
      "\u001b[1;31m---------------------------------------------------------------------------\u001b[0m",
      "\u001b[1;31mNameError\u001b[0m                                 Traceback (most recent call last)",
      "\u001b[1;32m<ipython-input-6-635e65aa674d>\u001b[0m in \u001b[0;36m<module>\u001b[1;34m()\u001b[0m\n\u001b[1;32m----> 1\u001b[1;33m \u001b[0mtable13\u001b[0m\u001b[1;33m[\u001b[0m\u001b[1;34m'wave_nodes'\u001b[0m\u001b[1;33m]\u001b[0m\u001b[1;33m,\u001b[0m \u001b[0mtable13\u001b[0m\u001b[1;33m[\u001b[0m\u001b[1;34m'wave_data'\u001b[0m\u001b[1;33m]\u001b[0m \u001b[1;33m=\u001b[0m \u001b[0mtable_v2\u001b[0m\u001b[1;33m[\u001b[0m\u001b[1;34m'wave_refraction'\u001b[0m\u001b[1;33m]\u001b[0m\u001b[1;33m.\u001b[0m\u001b[0mstr\u001b[0m\u001b[1;33m.\u001b[0m\u001b[0msplit\u001b[0m\u001b[1;33m(\u001b[0m\u001b[1;34m' '\u001b[0m\u001b[1;33m,\u001b[0m \u001b[1;36m0\u001b[0m\u001b[1;33m)\u001b[0m\u001b[1;33m.\u001b[0m\u001b[0mstr\u001b[0m\u001b[1;33m\u001b[0m\u001b[0m\n\u001b[0m\u001b[0;32m      2\u001b[0m \u001b[0mtable13\u001b[0m\u001b[1;33m[\u001b[0m\u001b[1;34m'surface_nodes'\u001b[0m\u001b[1;33m]\u001b[0m\u001b[1;33m,\u001b[0m \u001b[0mtable13\u001b[0m\u001b[1;33m[\u001b[0m\u001b[1;34m'e'\u001b[0m\u001b[1;33m]\u001b[0m\u001b[1;33m,\u001b[0m \u001b[0mtable_v2\u001b[0m\u001b[1;33m[\u001b[0m\u001b[1;34m'ese'\u001b[0m\u001b[1;33m]\u001b[0m\u001b[1;33m,\u001b[0m \u001b[0mtable_v2\u001b[0m\u001b[1;33m[\u001b[0m\u001b[1;34m'se'\u001b[0m\u001b[1;33m]\u001b[0m\u001b[1;33m,\u001b[0m\u001b[0mtable_v2\u001b[0m\u001b[1;33m[\u001b[0m\u001b[1;34m's'\u001b[0m\u001b[1;33m]\u001b[0m\u001b[1;33m,\u001b[0m \u001b[0mtable_v2\u001b[0m\u001b[1;33m[\u001b[0m\u001b[1;34m'sw'\u001b[0m\u001b[1;33m]\u001b[0m\u001b[1;33m,\u001b[0m \u001b[0mtable_v2\u001b[0m\u001b[1;33m[\u001b[0m\u001b[1;34m'wsw'\u001b[0m\u001b[1;33m]\u001b[0m\u001b[1;33m,\u001b[0m \u001b[0mtable_v2\u001b[0m\u001b[1;33m[\u001b[0m\u001b[1;34m'w'\u001b[0m\u001b[1;33m]\u001b[0m\u001b[1;33m,\u001b[0m \u001b[0mtable_v2\u001b[0m\u001b[1;33m[\u001b[0m\u001b[1;34m'wnw'\u001b[0m\u001b[1;33m]\u001b[0m\u001b[1;33m,\u001b[0m\u001b[0mtable_v2\u001b[0m\u001b[1;33m[\u001b[0m\u001b[1;34m'nw'\u001b[0m\u001b[1;33m]\u001b[0m\u001b[1;33m,\u001b[0m \u001b[0mtable_v2\u001b[0m\u001b[1;33m[\u001b[0m\u001b[1;34m'n'\u001b[0m\u001b[1;33m]\u001b[0m\u001b[1;33m,\u001b[0m \u001b[0mtable_v2\u001b[0m\u001b[1;33m[\u001b[0m\u001b[1;34m'ne'\u001b[0m\u001b[1;33m]\u001b[0m\u001b[1;33m,\u001b[0m \u001b[0mtable_v2\u001b[0m\u001b[1;33m[\u001b[0m\u001b[1;34m'ene'\u001b[0m\u001b[1;33m]\u001b[0m \u001b[1;33m=\u001b[0m \u001b[0mtable_v2\u001b[0m\u001b[1;33m[\u001b[0m\u001b[1;34m'surface_directional'\u001b[0m\u001b[1;33m]\u001b[0m\u001b[1;33m.\u001b[0m\u001b[0mstr\u001b[0m\u001b[1;33m.\u001b[0m\u001b[0msplit\u001b[0m\u001b[1;33m(\u001b[0m\u001b[1;34m' '\u001b[0m\u001b[1;33m,\u001b[0m \u001b[1;36m0\u001b[0m\u001b[1;33m)\u001b[0m\u001b[1;33m.\u001b[0m\u001b[0mstr\u001b[0m\u001b[1;33m\u001b[0m\u001b[0m\n\u001b[0;32m      3\u001b[0m \u001b[0mtable13\u001b[0m\u001b[1;33m[\u001b[0m\u001b[1;34m'canopy_nodes'\u001b[0m\u001b[1;33m]\u001b[0m\u001b[1;33m,\u001b[0m \u001b[0mtable13\u001b[0m\u001b[1;33m[\u001b[0m\u001b[1;34m'canopy_data'\u001b[0m\u001b[1;33m]\u001b[0m \u001b[1;33m=\u001b[0m \u001b[0mtable_v2\u001b[0m\u001b[1;33m[\u001b[0m\u001b[1;34m'surface_canopy'\u001b[0m\u001b[1;33m]\u001b[0m\u001b[1;33m.\u001b[0m\u001b[0mstr\u001b[0m\u001b[1;33m.\u001b[0m\u001b[0msplit\u001b[0m\u001b[1;33m(\u001b[0m\u001b[1;34m' '\u001b[0m\u001b[1;33m,\u001b[0m \u001b[1;36m0\u001b[0m\u001b[1;33m)\u001b[0m\u001b[1;33m.\u001b[0m\u001b[0mstr\u001b[0m\u001b[1;33m\u001b[0m\u001b[0m\n\u001b[0;32m      4\u001b[0m \u001b[0mtable13\u001b[0m\u001b[1;33m[\u001b[0m\u001b[1;34m'mannings_nodes'\u001b[0m\u001b[1;33m]\u001b[0m\u001b[1;33m,\u001b[0m \u001b[0mtable13\u001b[0m\u001b[1;33m[\u001b[0m\u001b[1;34m'mannings_data'\u001b[0m\u001b[1;33m]\u001b[0m \u001b[1;33m=\u001b[0m \u001b[0mtable_v2\u001b[0m\u001b[1;33m[\u001b[0m\u001b[1;34m'mannings_n'\u001b[0m\u001b[1;33m]\u001b[0m\u001b[1;33m.\u001b[0m\u001b[0mstr\u001b[0m\u001b[1;33m.\u001b[0m\u001b[0msplit\u001b[0m\u001b[1;33m(\u001b[0m\u001b[1;34m' '\u001b[0m\u001b[1;33m,\u001b[0m \u001b[1;36m0\u001b[0m\u001b[1;33m)\u001b[0m\u001b[1;33m.\u001b[0m\u001b[0mstr\u001b[0m\u001b[1;33m\u001b[0m\u001b[0m\n\u001b[0;32m      5\u001b[0m \u001b[0mtable13\u001b[0m\u001b[1;33m[\u001b[0m\u001b[1;34m'prim_nodes'\u001b[0m\u001b[1;33m]\u001b[0m\u001b[1;33m,\u001b[0m \u001b[0mtable13\u001b[0m\u001b[1;33m[\u001b[0m\u001b[1;34m'prim_data'\u001b[0m\u001b[1;33m]\u001b[0m \u001b[1;33m=\u001b[0m \u001b[0mtable_v2\u001b[0m\u001b[1;33m[\u001b[0m\u001b[1;34m'primitive_weighting'\u001b[0m\u001b[1;33m]\u001b[0m\u001b[1;33m.\u001b[0m\u001b[0mstr\u001b[0m\u001b[1;33m.\u001b[0m\u001b[0msplit\u001b[0m\u001b[1;33m(\u001b[0m\u001b[1;34m' '\u001b[0m\u001b[1;33m,\u001b[0m \u001b[1;36m0\u001b[0m\u001b[1;33m)\u001b[0m\u001b[1;33m.\u001b[0m\u001b[0mstr\u001b[0m\u001b[1;33m\u001b[0m\u001b[0m\n",
      "\u001b[1;31mNameError\u001b[0m: name 'table_v2' is not defined"
     ]
    }
   ],
   "source": [
    "table13['wave_nodes'], table13['wave_data'] = table_v2['wave_refraction'].str.split(' ', 0).str\n",
    "table13['surface_nodes'], table13['e'], table_v2['ese'], table_v2['se'],table_v2['s'], table_v2['sw'], table_v2['wsw'], table_v2['w'], table_v2['wnw'],table_v2['nw'], table_v2['n'], table_v2['ne'], table_v2['ene'] = table_v2['surface_directional'].str.split(' ', 0).str\n",
    "table13['canopy_nodes'], table13['canopy_data'] = table_v2['surface_canopy'].str.split(' ', 0).str\n",
    "table13['mannings_nodes'], table13['mannings_data'] = table_v2['mannings_n'].str.split(' ', 0).str\n",
    "table13['prim_nodes'], table13['prim_data'] = table_v2['primitive_weighting'].str.split(' ', 0).str\n",
    "table13['horiz_nodes'], table13['horiz_data'] = table_v2['average_horizontal'].str.split(' ', 0).str\n",
    "table13 = table13.drop('wave_refraction',1)\n",
    "table13 = table13.drop('surface_directional',1)\n",
    "table13 = table13.drop('surface_canopy',1)\n",
    "table13 = table13.drop('mannings_n',1)\n",
    "table13 = table13.drop('primitive_weighting',1)\n",
    "table13 = table13.drop('average_horizontal',1)\n",
    "table13.head()"
   ]
  },
  {
   "cell_type": "code",
   "execution_count": null,
   "metadata": {},
   "outputs": [],
   "source": []
  },
  {
   "cell_type": "code",
   "execution_count": null,
   "metadata": {},
   "outputs": [],
   "source": []
  },
  {
   "cell_type": "code",
   "execution_count": null,
   "metadata": {},
   "outputs": [],
   "source": []
  },
  {
   "cell_type": "code",
   "execution_count": null,
   "metadata": {},
   "outputs": [],
   "source": []
  },
  {
   "cell_type": "code",
   "execution_count": 9,
   "metadata": {},
   "outputs": [],
   "source": [
    "table = pd.DataFrame.copy(table13)"
   ]
  },
  {
   "cell_type": "code",
   "execution_count": 6,
   "metadata": {},
   "outputs": [
    {
     "data": {
      "text/html": [
       "<div>\n",
       "<style scoped>\n",
       "    .dataframe tbody tr th:only-of-type {\n",
       "        vertical-align: middle;\n",
       "    }\n",
       "\n",
       "    .dataframe tbody tr th {\n",
       "        vertical-align: top;\n",
       "    }\n",
       "\n",
       "    .dataframe thead th {\n",
       "        text-align: right;\n",
       "    }\n",
       "</style>\n",
       "<table border=\"1\" class=\"dataframe\">\n",
       "  <thead>\n",
       "    <tr style=\"text-align: right;\">\n",
       "      <th></th>\n",
       "      <th>wave_refraction</th>\n",
       "      <th>sea_surface</th>\n",
       "      <th>surface_directional</th>\n",
       "      <th>surface_canopy</th>\n",
       "      <th>mannings_n</th>\n",
       "      <th>primitive_weighting</th>\n",
       "      <th>average_horizontal</th>\n",
       "    </tr>\n",
       "  </thead>\n",
       "  <tbody>\n",
       "    <tr>\n",
       "      <th>0</th>\n",
       "      <td>1 0.000000</td>\n",
       "      <td>NaN</td>\n",
       "      <td>15490 0.0106490 0.00182500 0.00100000 0.001000...</td>\n",
       "      <td>16299 0.000000</td>\n",
       "      <td>24262 0.0500000</td>\n",
       "      <td>1 0.0200000</td>\n",
       "      <td>1 4.00000</td>\n",
       "    </tr>\n",
       "    <tr>\n",
       "      <th>1</th>\n",
       "      <td>2 0.000000</td>\n",
       "      <td>NaN</td>\n",
       "      <td>15491 0.00421200 0.00109300 0.00100000 0.00100...</td>\n",
       "      <td>21471 0.000000</td>\n",
       "      <td>25236 0.0500000</td>\n",
       "      <td>2 0.00500000</td>\n",
       "      <td>2 4.00000</td>\n",
       "    </tr>\n",
       "    <tr>\n",
       "      <th>2</th>\n",
       "      <td>3 0.000000</td>\n",
       "      <td>NaN</td>\n",
       "      <td>16297 0.0511780 0.0586370 0.131352 0.00131000 ...</td>\n",
       "      <td>25239 0.000000</td>\n",
       "      <td>25237 0.0370000</td>\n",
       "      <td>3 0.00500000</td>\n",
       "      <td>3 4.00000</td>\n",
       "    </tr>\n",
       "    <tr>\n",
       "      <th>3</th>\n",
       "      <td>4 0.000000</td>\n",
       "      <td>NaN</td>\n",
       "      <td>16298 0.0442180 0.0539520 0.0202930 0.0458700 ...</td>\n",
       "      <td>25245 2.27374e-013</td>\n",
       "      <td>25239 0.100000</td>\n",
       "      <td>4 0.00500000</td>\n",
       "      <td>4 4.00000</td>\n",
       "    </tr>\n",
       "    <tr>\n",
       "      <th>4</th>\n",
       "      <td>5 0.000000</td>\n",
       "      <td>NaN</td>\n",
       "      <td>16299 0.109154 0.143936 0.173318 0.123676 0.09...</td>\n",
       "      <td>25255 0.000000</td>\n",
       "      <td>25240 0.0370000</td>\n",
       "      <td>5 0.00500000</td>\n",
       "      <td>5 4.00000</td>\n",
       "    </tr>\n",
       "  </tbody>\n",
       "</table>\n",
       "</div>"
      ],
      "text/plain": [
       "  wave_refraction sea_surface  \\\n",
       "0      1 0.000000         NaN   \n",
       "1      2 0.000000         NaN   \n",
       "2      3 0.000000         NaN   \n",
       "3      4 0.000000         NaN   \n",
       "4      5 0.000000         NaN   \n",
       "\n",
       "                                 surface_directional      surface_canopy  \\\n",
       "0  15490 0.0106490 0.00182500 0.00100000 0.001000...      16299 0.000000   \n",
       "1  15491 0.00421200 0.00109300 0.00100000 0.00100...      21471 0.000000   \n",
       "2  16297 0.0511780 0.0586370 0.131352 0.00131000 ...      25239 0.000000   \n",
       "3  16298 0.0442180 0.0539520 0.0202930 0.0458700 ...  25245 2.27374e-013   \n",
       "4  16299 0.109154 0.143936 0.173318 0.123676 0.09...      25255 0.000000   \n",
       "\n",
       "        mannings_n primitive_weighting average_horizontal  \n",
       "0  24262 0.0500000         1 0.0200000          1 4.00000  \n",
       "1  25236 0.0500000        2 0.00500000          2 4.00000  \n",
       "2  25237 0.0370000        3 0.00500000          3 4.00000  \n",
       "3   25239 0.100000        4 0.00500000          4 4.00000  \n",
       "4  25240 0.0370000        5 0.00500000          5 4.00000  "
      ]
     },
     "execution_count": 6,
     "metadata": {},
     "output_type": "execute_result"
    }
   ],
   "source": [
    "table13_v2.head()"
   ]
  },
  {
   "cell_type": "code",
   "execution_count": 35,
   "metadata": {},
   "outputs": [],
   "source": [
    "xx = list(table.columns.values)"
   ]
  },
  {
   "cell_type": "code",
   "execution_count": 12,
   "metadata": {},
   "outputs": [
    {
     "ename": "NameError",
     "evalue": "name 'table' is not defined",
     "output_type": "error",
     "traceback": [
      "\u001b[1;31m---------------------------------------------------------------------------\u001b[0m",
      "\u001b[1;31mNameError\u001b[0m                                 Traceback (most recent call last)",
      "\u001b[1;32m<ipython-input-12-04a690dcf217>\u001b[0m in \u001b[0;36m<module>\u001b[1;34m()\u001b[0m\n\u001b[1;32m----> 1\u001b[1;33m \u001b[0mtable13_v2\u001b[0m \u001b[1;33m=\u001b[0m \u001b[0madcirc\u001b[0m\u001b[1;33m.\u001b[0m\u001b[0mseperate_13\u001b[0m\u001b[1;33m(\u001b[0m\u001b[0mtable13\u001b[0m\u001b[1;33m)\u001b[0m\u001b[1;33m\u001b[0m\u001b[0m\n\u001b[0m",
      "\u001b[1;32m~\\Work\\Scripts\\notebooks\\adcirc.py\u001b[0m in \u001b[0;36mseperate_13\u001b[1;34m(self)\u001b[0m\n\u001b[0;32m    126\u001b[0m \u001b[1;33m\u001b[0m\u001b[0m\n\u001b[0;32m    127\u001b[0m     \u001b[1;32mdef\u001b[0m \u001b[0mseperate_13\u001b[0m\u001b[1;33m(\u001b[0m\u001b[0mself\u001b[0m\u001b[1;33m,\u001b[0m\u001b[0mtable\u001b[0m\u001b[1;33m)\u001b[0m\u001b[1;33m:\u001b[0m\u001b[1;33m\u001b[0m\u001b[0m\n\u001b[1;32m--> 128\u001b[1;33m         \u001b[0mxx\u001b[0m \u001b[1;33m=\u001b[0m \u001b[0mlist\u001b[0m\u001b[1;33m(\u001b[0m\u001b[0mtable\u001b[0m\u001b[1;33m.\u001b[0m\u001b[0mcolumns\u001b[0m\u001b[1;33m.\u001b[0m\u001b[0mvalues\u001b[0m\u001b[1;33m)\u001b[0m\u001b[1;33m\u001b[0m\u001b[0m\n\u001b[0m\u001b[0;32m    129\u001b[0m         \u001b[1;32mfor\u001b[0m \u001b[0mi\u001b[0m \u001b[1;32min\u001b[0m \u001b[0mrange\u001b[0m\u001b[1;33m(\u001b[0m\u001b[1;36m0\u001b[0m\u001b[1;33m,\u001b[0m\u001b[0mlen\u001b[0m\u001b[1;33m(\u001b[0m\u001b[0mxx\u001b[0m\u001b[1;33m)\u001b[0m\u001b[1;33m)\u001b[0m\u001b[1;33m:\u001b[0m\u001b[1;33m\u001b[0m\u001b[0m\n\u001b[0;32m    130\u001b[0m             \u001b[1;32mif\u001b[0m \u001b[0mtable\u001b[0m\u001b[1;33m[\u001b[0m\u001b[0mxx\u001b[0m\u001b[1;33m[\u001b[0m\u001b[0mi\u001b[0m\u001b[1;33m]\u001b[0m\u001b[1;33m]\u001b[0m\u001b[1;33m[\u001b[0m\u001b[1;36m0\u001b[0m\u001b[1;33m]\u001b[0m \u001b[1;33m==\u001b[0m \u001b[1;34m'NaN'\u001b[0m\u001b[1;33m:\u001b[0m\u001b[1;33m\u001b[0m\u001b[0m\n",
      "\u001b[1;31mNameError\u001b[0m: name 'table' is not defined"
     ]
    }
   ],
   "source": [
    "table13_v2 = adcirc.seperate_13(table)"
   ]
  },
  {
   "cell_type": "code",
   "execution_count": 30,
   "metadata": {},
   "outputs": [
    {
     "data": {
      "text/html": [
       "<div>\n",
       "<style scoped>\n",
       "    .dataframe tbody tr th:only-of-type {\n",
       "        vertical-align: middle;\n",
       "    }\n",
       "\n",
       "    .dataframe tbody tr th {\n",
       "        vertical-align: top;\n",
       "    }\n",
       "\n",
       "    .dataframe thead th {\n",
       "        text-align: right;\n",
       "    }\n",
       "</style>\n",
       "<table border=\"1\" class=\"dataframe\">\n",
       "  <thead>\n",
       "    <tr style=\"text-align: right;\">\n",
       "      <th></th>\n",
       "      <th>wave_refraction</th>\n",
       "      <th>sea_surface</th>\n",
       "      <th>surface_directional</th>\n",
       "      <th>surface_canopy</th>\n",
       "      <th>mannings_n</th>\n",
       "      <th>primitive_weighting</th>\n",
       "      <th>average_horizontal</th>\n",
       "      <th>wavenodes</th>\n",
       "      <th>wavedata</th>\n",
       "    </tr>\n",
       "  </thead>\n",
       "  <tbody>\n",
       "    <tr>\n",
       "      <th>0</th>\n",
       "      <td>1 0.000000</td>\n",
       "      <td>NaN</td>\n",
       "      <td>15490 0.0106490 0.00182500 0.00100000 0.001000...</td>\n",
       "      <td>16299 0.000000</td>\n",
       "      <td>24262 0.0500000</td>\n",
       "      <td>1 0.0200000</td>\n",
       "      <td>1 4.00000</td>\n",
       "      <td>1</td>\n",
       "      <td>0.000000</td>\n",
       "    </tr>\n",
       "    <tr>\n",
       "      <th>1</th>\n",
       "      <td>2 0.000000</td>\n",
       "      <td>NaN</td>\n",
       "      <td>15491 0.00421200 0.00109300 0.00100000 0.00100...</td>\n",
       "      <td>21471 0.000000</td>\n",
       "      <td>25236 0.0500000</td>\n",
       "      <td>2 0.00500000</td>\n",
       "      <td>2 4.00000</td>\n",
       "      <td>2</td>\n",
       "      <td>0.000000</td>\n",
       "    </tr>\n",
       "    <tr>\n",
       "      <th>2</th>\n",
       "      <td>3 0.000000</td>\n",
       "      <td>NaN</td>\n",
       "      <td>16297 0.0511780 0.0586370 0.131352 0.00131000 ...</td>\n",
       "      <td>25239 0.000000</td>\n",
       "      <td>25237 0.0370000</td>\n",
       "      <td>3 0.00500000</td>\n",
       "      <td>3 4.00000</td>\n",
       "      <td>3</td>\n",
       "      <td>0.000000</td>\n",
       "    </tr>\n",
       "    <tr>\n",
       "      <th>3</th>\n",
       "      <td>4 0.000000</td>\n",
       "      <td>NaN</td>\n",
       "      <td>16298 0.0442180 0.0539520 0.0202930 0.0458700 ...</td>\n",
       "      <td>25245 2.27374e-013</td>\n",
       "      <td>25239 0.100000</td>\n",
       "      <td>4 0.00500000</td>\n",
       "      <td>4 4.00000</td>\n",
       "      <td>4</td>\n",
       "      <td>0.000000</td>\n",
       "    </tr>\n",
       "    <tr>\n",
       "      <th>4</th>\n",
       "      <td>5 0.000000</td>\n",
       "      <td>NaN</td>\n",
       "      <td>16299 0.109154 0.143936 0.173318 0.123676 0.09...</td>\n",
       "      <td>25255 0.000000</td>\n",
       "      <td>25240 0.0370000</td>\n",
       "      <td>5 0.00500000</td>\n",
       "      <td>5 4.00000</td>\n",
       "      <td>5</td>\n",
       "      <td>0.000000</td>\n",
       "    </tr>\n",
       "  </tbody>\n",
       "</table>\n",
       "</div>"
      ],
      "text/plain": [
       "  wave_refraction sea_surface  \\\n",
       "0      1 0.000000         NaN   \n",
       "1      2 0.000000         NaN   \n",
       "2      3 0.000000         NaN   \n",
       "3      4 0.000000         NaN   \n",
       "4      5 0.000000         NaN   \n",
       "\n",
       "                                 surface_directional      surface_canopy  \\\n",
       "0  15490 0.0106490 0.00182500 0.00100000 0.001000...      16299 0.000000   \n",
       "1  15491 0.00421200 0.00109300 0.00100000 0.00100...      21471 0.000000   \n",
       "2  16297 0.0511780 0.0586370 0.131352 0.00131000 ...      25239 0.000000   \n",
       "3  16298 0.0442180 0.0539520 0.0202930 0.0458700 ...  25245 2.27374e-013   \n",
       "4  16299 0.109154 0.143936 0.173318 0.123676 0.09...      25255 0.000000   \n",
       "\n",
       "        mannings_n primitive_weighting average_horizontal wavenodes  wavedata  \n",
       "0  24262 0.0500000         1 0.0200000          1 4.00000         1  0.000000  \n",
       "1  25236 0.0500000        2 0.00500000          2 4.00000         2  0.000000  \n",
       "2  25237 0.0370000        3 0.00500000          3 4.00000         3  0.000000  \n",
       "3   25239 0.100000        4 0.00500000          4 4.00000         4  0.000000  \n",
       "4  25240 0.0370000        5 0.00500000          5 4.00000         5  0.000000  "
      ]
     },
     "execution_count": 30,
     "metadata": {},
     "output_type": "execute_result"
    }
   ],
   "source": [
    "table.head()"
   ]
  },
  {
   "cell_type": "code",
   "execution_count": null,
   "metadata": {},
   "outputs": [],
   "source": []
  },
  {
   "cell_type": "code",
   "execution_count": null,
   "metadata": {},
   "outputs": [],
   "source": []
  },
  {
   "cell_type": "code",
   "execution_count": null,
   "metadata": {},
   "outputs": [],
   "source": []
  },
  {
   "cell_type": "code",
   "execution_count": null,
   "metadata": {},
   "outputs": [],
   "source": []
  },
  {
   "cell_type": "code",
   "execution_count": null,
   "metadata": {},
   "outputs": [],
   "source": []
  },
  {
   "cell_type": "code",
   "execution_count": null,
   "metadata": {},
   "outputs": [],
   "source": []
  },
  {
   "cell_type": "code",
   "execution_count": null,
   "metadata": {},
   "outputs": [],
   "source": []
  },
  {
   "cell_type": "code",
   "execution_count": null,
   "metadata": {},
   "outputs": [],
   "source": []
  },
  {
   "cell_type": "code",
   "execution_count": null,
   "metadata": {},
   "outputs": [],
   "source": []
  },
  {
   "cell_type": "code",
   "execution_count": null,
   "metadata": {},
   "outputs": [],
   "source": []
  },
  {
   "cell_type": "code",
   "execution_count": null,
   "metadata": {},
   "outputs": [],
   "source": []
  },
  {
   "cell_type": "code",
   "execution_count": null,
   "metadata": {},
   "outputs": [],
   "source": []
  },
  {
   "cell_type": "code",
   "execution_count": 6,
   "metadata": {},
   "outputs": [
    {
     "name": "stdout",
     "output_type": "stream",
     "text": [
      "QC Completed on 2018-07-17 11:34:54.460137 by Tyler Miesse\n"
     ]
    }
   ],
   "source": [
    "# Assign date of QC & Name/Info of QC Staff\n",
    "qc_date = datetime.now()\n",
    "qc_staff = 'Tyler Miesse'\n",
    "\n",
    "print('QC Completed on {} by {}'.format(qc_date, qc_staff))"
   ]
  },
  {
   "cell_type": "markdown",
   "metadata": {},
   "source": [
    "### Export Completed QC Report"
   ]
  },
  {
   "cell_type": "markdown",
   "metadata": {},
   "source": [
    "## End"
   ]
  }
 ],
 "metadata": {
  "kernelspec": {
   "display_name": "Python 3",
   "language": "python",
   "name": "python3"
  },
  "language_info": {
   "codemirror_mode": {
    "name": "ipython",
    "version": 3
   },
   "file_extension": ".py",
   "mimetype": "text/x-python",
   "name": "python",
   "nbconvert_exporter": "python",
   "pygments_lexer": "ipython3",
   "version": "3.6.5"
  }
 },
 "nbformat": 4,
 "nbformat_minor": 2
}
